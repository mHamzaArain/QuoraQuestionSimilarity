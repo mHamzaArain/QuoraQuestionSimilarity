{
 "cells": [
  {
   "cell_type": "code",
   "execution_count": 1,
   "id": "7ba526b8-3635-4165-a009-7cfba25d80ab",
   "metadata": {},
   "outputs": [],
   "source": [
    "import pandas as pd\n",
    "import scipy.sparse\n",
    "import joblib \n",
    "\n",
    "\n",
    "from sklearn.metrics import classification_report\n",
    "\n",
    "# Creating db file from csv\n",
    "import numpy as np\n",
    "\n",
    "import matplotlib.pyplot as plt\n",
    "import seaborn as sns\n",
    "\n",
    "from sqlalchemy import create_engine # database connection\n",
    "import sqlite3\n",
    "\n",
    "from sklearn.model_selection import GridSearchCV\n",
    "\n",
    "\n",
    "import os\n",
    "import datetime as dt\n",
    "from collections import Counter, defaultdict\n",
    "\n",
    "from xgboost import XGBClassifier\n",
    "\n",
    "from sklearn.model_selection import train_test_split\n",
    "\n",
    "from sklearn.metrics import accuracy_score, log_loss, confusion_matrix\n",
    "\n",
    "from sklearn.calibration import CalibratedClassifierCV\n",
    "from sklearn.linear_model import SGDClassifier\n",
    "\n",
    "\n",
    "\n",
    "\n",
    "import warnings\n",
    "warnings.filterwarnings(\"ignore\")\n",
    "\n",
    "import pandas as pd\n",
    "import numpy as np\n",
    "\n",
    "import matplotlib.pyplot as plt\n",
    "import seaborn as sns\n",
    "\n",
    "import sqlite3\n",
    "from sqlalchemy import create_engine # database connection\n",
    "\n",
    "import math\n",
    "import re\n",
    "import datetime as dt\n",
    "import time\n",
    "import csv\n",
    "import os\n",
    "\n",
    "import joblib\n",
    "\n",
    "from sklearn.feature_extraction.text import TfidfVectorizer\n",
    "from nltk.corpus import stopwords\n",
    "\n",
    "\n",
    "from sklearn.decomposition import TruncatedSVD\n",
    "from sklearn.preprocessing import normalize\n",
    "from sklearn.feature_extraction.text import CountVectorizer\n",
    "from sklearn.manifold import TSNE\n",
    "from sklearn.neighbors import KNeighborsClassifier\n",
    "from sklearn.metrics import confusion_matrix\n",
    "from sklearn.metrics import accuracy_score, log_loss\n",
    "\n",
    "from collections import Counter\n",
    "from scipy.sparse import hstack\n",
    "from sklearn.multiclass import OneVsRestClassifier\n",
    "from sklearn.svm import SVC\n",
    "from sklearn.model_selection import StratifiedKFold \n",
    "from collections import Counter, defaultdict\n",
    "from sklearn.calibration import CalibratedClassifierCV\n",
    "from sklearn.naive_bayes import MultinomialNB\n",
    "from sklearn.naive_bayes import GaussianNB\n",
    "from sklearn.model_selection import train_test_split\n",
    "from sklearn.model_selection import GridSearchCV\n",
    "\n",
    "from sklearn.metrics import normalized_mutual_info_score\n",
    "from sklearn.ensemble import RandomForestClassifier\n",
    "\n",
    "\n",
    "\n",
    "from sklearn.model_selection import cross_val_score\n",
    "from sklearn.linear_model import SGDClassifier\n",
    "from mlxtend.classifier import StackingClassifier\n",
    "\n",
    "from sklearn import model_selection\n",
    "from sklearn.linear_model import LogisticRegression\n",
    "from sklearn.metrics import precision_recall_curve, auc, roc_curve"
   ]
  },
  {
   "cell_type": "markdown",
   "id": "ade7e644-5a8c-4e26-8954-bc0f1a7286d1",
   "metadata": {},
   "source": [
    "<h1> Machine Learning Models: XGBOOST </h1>"
   ]
  },
  {
   "cell_type": "code",
   "execution_count": 2,
   "id": "da90bc54-7342-4782-b4bc-cacc5dc43a1d",
   "metadata": {},
   "outputs": [],
   "source": [
    "def xgboost_classifier(X_train, y_train):\n",
    "    max_depth = np.array([3, 6, 9, 12, 15])\n",
    "    learning_rate = np.array([0.01, 0.05, 0.1])\n",
    "    n_estimators = np.array([20, 35, 50, 70, 100])\n",
    "    params_dict = [{'max_depth': max_depth,'learning_rate': learning_rate,\n",
    "                    'n_estimators': n_estimators}]\n",
    "    xgb_optimal = XGBClassifier(random_state=1,n_jobs=6,\n",
    "                                        class_weight='balanced')\n",
    "    \n",
    "    grid = GridSearchCV(estimator=xgb_optimal, \n",
    "                        param_grid=params_dict, \n",
    "                        scoring=log_loss, n_jobs=6, cv=3,\n",
    "                        return_train_score=True)\n",
    "    \n",
    "    grid_result = grid.fit(X_train, y_train)\n",
    "    train_auc = grid_result.cv_results_['mean_train_score']\n",
    "    train_auc_std = grid_result.cv_results_['std_train_score']\n",
    "    cv_auc = grid_result.cv_results_['mean_test_score']\n",
    "    cv_auc_std = grid_result.cv_results_['std_test_score']\n",
    "    \n",
    "    print(\"Optimal Parameters : \", grid_result.best_estimator_.get_params())\n",
    "        \n",
    "    grid_param = grid_result.best_estimator_.get_params()\n",
    "    return grid_param['max_depth'], grid_param['n_estimators'], grid_param['learning_rate'] "
   ]
  },
  {
   "cell_type": "code",
   "execution_count": 3,
   "id": "3f1a1443-b221-4b87-a7b4-873cc847e6d0",
   "metadata": {},
   "outputs": [],
   "source": [
    "# This function plots the confusion matrices given y_i, y_i_hat.\n",
    "def plot_confusion_matrix(test_y, predict_y):\n",
    "    C = confusion_matrix(test_y, predict_y)\n",
    "    # C = 9,9 matrix, each cell (i,j) represents number of points of class i are predicted class j\n",
    "    \n",
    "    A =(((C.T)/(C.sum(axis=1))).T)\n",
    "    #divid each element of the confusion matrix with the sum of elements in that column\n",
    "    \n",
    "    # C = [[1, 2],\n",
    "    #     [3, 4]]\n",
    "    # C.T = [[1, 3],\n",
    "    #        [2, 4]]\n",
    "    # C.sum(axis = 1)  axis=0 corresonds to columns and axis=1 corresponds to rows in two diamensional array\n",
    "    # C.sum(axix =1) = [[3, 7]]\n",
    "    # ((C.T)/(C.sum(axis=1))) = [[1/3, 3/7]\n",
    "    #                           [2/3, 4/7]]\n",
    "\n",
    "    # ((C.T)/(C.sum(axis=1))).T = [[1/3, 2/3]\n",
    "    #                           [3/7, 4/7]]\n",
    "    # sum of row elements = 1\n",
    "    \n",
    "    B =(C/C.sum(axis=0))\n",
    "    #divid each element of the confusion matrix with the sum of elements in that row\n",
    "    # C = [[1, 2],\n",
    "    #     [3, 4]]\n",
    "    # C.sum(axis = 0)  axis=0 corresonds to columns and axis=1 corresponds to rows in two diamensional array\n",
    "    # C.sum(axix =0) = [[4, 6]]\n",
    "    # (C/C.sum(axis=0)) = [[1/4, 2/6],\n",
    "    #                      [3/4, 4/6]] \n",
    "    plt.figure(figsize=(20,4))\n",
    "    \n",
    "    labels = [1,2]\n",
    "    # representing A in heatmap format\n",
    "    cmap=sns.light_palette(\"blue\")\n",
    "    plt.subplot(1, 3, 1)\n",
    "    sns.heatmap(C, annot=True, cmap=cmap, fmt=\".3f\", xticklabels=labels, yticklabels=labels)\n",
    "    plt.xlabel('Predicted Class')\n",
    "    plt.ylabel('Original Class')\n",
    "    plt.title(\"Confusion matrix\")\n",
    "    \n",
    "    plt.subplot(1, 3, 2)\n",
    "    sns.heatmap(B, annot=True, cmap=cmap, fmt=\".3f\", xticklabels=labels, yticklabels=labels)\n",
    "    plt.xlabel('Predicted Class')\n",
    "    plt.ylabel('Original Class')\n",
    "    plt.title(\"Precision matrix\")\n",
    "    \n",
    "    plt.subplot(1, 3, 3)\n",
    "    # representing B in heatmap format\n",
    "    sns.heatmap(A, annot=True, cmap=cmap, fmt=\".3f\", xticklabels=labels, yticklabels=labels)\n",
    "    plt.xlabel('Predicted Class')\n",
    "    plt.ylabel('Original Class')\n",
    "    plt.title(\"Recall matrix\")\n",
    "    \n",
    "    plt.show()"
   ]
  },
  {
   "cell_type": "code",
   "execution_count": 4,
   "id": "e539275a-be52-4d52-8d63-d8e656aa9a56",
   "metadata": {},
   "outputs": [],
   "source": [
    "def xgboost_applied(nlp_algo, ml_algo, X_train, Y_train, X_test, Y_test,  maxDepth, n_estimators,  learning_rate):\n",
    "    # Setting up the classifier using optimal params\n",
    "\n",
    "    xgb_optimal = XGBClassifier(max_depth=maxDepth,\n",
    "                                learning_rate=learning_rate,\n",
    "                                n_estimators=n_estimators,\n",
    "                                n_jobs=6,class_weight='balanced',\n",
    "                                random_state=1)\n",
    "    \n",
    "    # we have to fit the SGDClassifier so that we can access the coef_\n",
    "    xgb_optimal.fit(X_train, Y_train)\n",
    "    \n",
    "    # Prediction on training and test set using optimal classifier\n",
    "    logProb_train = xgb_optimal.predict_proba(X_train)\n",
    "    logProb_test = xgb_optimal.predict_proba(X_test)\n",
    "    pred_train = np.argmax(logProb_train, axis =1)\n",
    "    pred_test = np.argmax(logProb_test, axis =1)\n",
    "    print(\"Using max depth value for tree - \", maxDepth)\n",
    "    print(\"Using num estimators for tree - \", n_estimators)\n",
    "\n",
    "    \n",
    "    print(\"Training Confusion Matrix\")\n",
    "    plot_confusion_matrix(Y_train, pred_train)\n",
    "    \n",
    "    print('\\n\\n')\n",
    "\n",
    "    print(\"Test Confusion Matrix\")\n",
    "    plot_confusion_matrix(Y_train, pred_train)\n",
    "    \n",
    "    # Classification report \n",
    "    print(classification_report(Y_test, pred_test))\n",
    "    \n",
    "    print(\"Log loss on Test Data using Model\", log_loss(y_test, pred_test, eps=1e-15))\n",
    "    \n",
    "    return xgb_optimal"
   ]
  },
  {
   "cell_type": "markdown",
   "id": "64afb6f5-bf48-41ca-a722-0d98eb559bb7",
   "metadata": {},
   "source": [
    "## Applying tfidf model"
   ]
  },
  {
   "cell_type": "code",
   "execution_count": 5,
   "id": "65e25fe8-f97d-4a9a-834d-9884fd97c01b",
   "metadata": {},
   "outputs": [],
   "source": [
    "# df_tfidf_full = joblib.load(\"models/01_nlp/05_full_tfidf_model_2000_datapoints.joblib\") \n",
    "df_features_from_eda = pd.read_csv(r\"data/03_all_features_from_eda.csv\")"
   ]
  },
  {
   "cell_type": "code",
   "execution_count": 6,
   "id": "fb6c728d-8e78-45ca-a45d-483350753bbb",
   "metadata": {},
   "outputs": [
    {
     "data": {
      "text/html": [
       "<div>\n",
       "<style scoped>\n",
       "    .dataframe tbody tr th:only-of-type {\n",
       "        vertical-align: middle;\n",
       "    }\n",
       "\n",
       "    .dataframe tbody tr th {\n",
       "        vertical-align: top;\n",
       "    }\n",
       "\n",
       "    .dataframe thead th {\n",
       "        text-align: right;\n",
       "    }\n",
       "</style>\n",
       "<table border=\"1\" class=\"dataframe\">\n",
       "  <thead>\n",
       "    <tr style=\"text-align: right;\">\n",
       "      <th></th>\n",
       "      <th>Unnamed: 0</th>\n",
       "      <th>id</th>\n",
       "      <th>is_duplicate</th>\n",
       "      <th>freq_qid1</th>\n",
       "      <th>freq_qid2</th>\n",
       "      <th>q1len</th>\n",
       "      <th>q2len</th>\n",
       "      <th>q1_n_words</th>\n",
       "      <th>q2_n_words</th>\n",
       "      <th>word_Common</th>\n",
       "      <th>...</th>\n",
       "      <th>ctc_min</th>\n",
       "      <th>ctc_max</th>\n",
       "      <th>last_word_eq</th>\n",
       "      <th>first_word_eq</th>\n",
       "      <th>abs_len_diff</th>\n",
       "      <th>mean_len</th>\n",
       "      <th>token_set_ratio</th>\n",
       "      <th>token_sort_ratio</th>\n",
       "      <th>fuzz_ratio</th>\n",
       "      <th>fuzz_partial_ratio</th>\n",
       "    </tr>\n",
       "  </thead>\n",
       "  <tbody>\n",
       "    <tr>\n",
       "      <th>0</th>\n",
       "      <td>0</td>\n",
       "      <td>0</td>\n",
       "      <td>0</td>\n",
       "      <td>1</td>\n",
       "      <td>1</td>\n",
       "      <td>66</td>\n",
       "      <td>57</td>\n",
       "      <td>14</td>\n",
       "      <td>12</td>\n",
       "      <td>10.0</td>\n",
       "      <td>...</td>\n",
       "      <td>0.916659</td>\n",
       "      <td>0.785709</td>\n",
       "      <td>0.0</td>\n",
       "      <td>1.0</td>\n",
       "      <td>2.0</td>\n",
       "      <td>13.0</td>\n",
       "      <td>100</td>\n",
       "      <td>93</td>\n",
       "      <td>93</td>\n",
       "      <td>100</td>\n",
       "    </tr>\n",
       "    <tr>\n",
       "      <th>1</th>\n",
       "      <td>1</td>\n",
       "      <td>1</td>\n",
       "      <td>0</td>\n",
       "      <td>4</td>\n",
       "      <td>1</td>\n",
       "      <td>51</td>\n",
       "      <td>88</td>\n",
       "      <td>8</td>\n",
       "      <td>13</td>\n",
       "      <td>4.0</td>\n",
       "      <td>...</td>\n",
       "      <td>0.699993</td>\n",
       "      <td>0.466664</td>\n",
       "      <td>0.0</td>\n",
       "      <td>1.0</td>\n",
       "      <td>5.0</td>\n",
       "      <td>12.5</td>\n",
       "      <td>86</td>\n",
       "      <td>63</td>\n",
       "      <td>66</td>\n",
       "      <td>75</td>\n",
       "    </tr>\n",
       "    <tr>\n",
       "      <th>2</th>\n",
       "      <td>2</td>\n",
       "      <td>2</td>\n",
       "      <td>0</td>\n",
       "      <td>1</td>\n",
       "      <td>1</td>\n",
       "      <td>73</td>\n",
       "      <td>59</td>\n",
       "      <td>14</td>\n",
       "      <td>10</td>\n",
       "      <td>4.0</td>\n",
       "      <td>...</td>\n",
       "      <td>0.399996</td>\n",
       "      <td>0.285712</td>\n",
       "      <td>0.0</td>\n",
       "      <td>1.0</td>\n",
       "      <td>4.0</td>\n",
       "      <td>12.0</td>\n",
       "      <td>63</td>\n",
       "      <td>63</td>\n",
       "      <td>43</td>\n",
       "      <td>47</td>\n",
       "    </tr>\n",
       "    <tr>\n",
       "      <th>3</th>\n",
       "      <td>3</td>\n",
       "      <td>3</td>\n",
       "      <td>0</td>\n",
       "      <td>1</td>\n",
       "      <td>1</td>\n",
       "      <td>50</td>\n",
       "      <td>65</td>\n",
       "      <td>11</td>\n",
       "      <td>9</td>\n",
       "      <td>0.0</td>\n",
       "      <td>...</td>\n",
       "      <td>0.000000</td>\n",
       "      <td>0.000000</td>\n",
       "      <td>0.0</td>\n",
       "      <td>0.0</td>\n",
       "      <td>2.0</td>\n",
       "      <td>12.0</td>\n",
       "      <td>28</td>\n",
       "      <td>24</td>\n",
       "      <td>9</td>\n",
       "      <td>14</td>\n",
       "    </tr>\n",
       "    <tr>\n",
       "      <th>4</th>\n",
       "      <td>4</td>\n",
       "      <td>4</td>\n",
       "      <td>0</td>\n",
       "      <td>3</td>\n",
       "      <td>1</td>\n",
       "      <td>76</td>\n",
       "      <td>39</td>\n",
       "      <td>13</td>\n",
       "      <td>7</td>\n",
       "      <td>2.0</td>\n",
       "      <td>...</td>\n",
       "      <td>0.571420</td>\n",
       "      <td>0.307690</td>\n",
       "      <td>0.0</td>\n",
       "      <td>1.0</td>\n",
       "      <td>6.0</td>\n",
       "      <td>10.0</td>\n",
       "      <td>67</td>\n",
       "      <td>47</td>\n",
       "      <td>35</td>\n",
       "      <td>56</td>\n",
       "    </tr>\n",
       "  </tbody>\n",
       "</table>\n",
       "<p>5 rows × 28 columns</p>\n",
       "</div>"
      ],
      "text/plain": [
       "   Unnamed: 0  id  is_duplicate  freq_qid1  freq_qid2  q1len  q2len  \\\n",
       "0           0   0             0          1          1     66     57   \n",
       "1           1   1             0          4          1     51     88   \n",
       "2           2   2             0          1          1     73     59   \n",
       "3           3   3             0          1          1     50     65   \n",
       "4           4   4             0          3          1     76     39   \n",
       "\n",
       "   q1_n_words  q2_n_words  word_Common  ...   ctc_min   ctc_max  last_word_eq  \\\n",
       "0          14          12         10.0  ...  0.916659  0.785709           0.0   \n",
       "1           8          13          4.0  ...  0.699993  0.466664           0.0   \n",
       "2          14          10          4.0  ...  0.399996  0.285712           0.0   \n",
       "3          11           9          0.0  ...  0.000000  0.000000           0.0   \n",
       "4          13           7          2.0  ...  0.571420  0.307690           0.0   \n",
       "\n",
       "   first_word_eq  abs_len_diff  mean_len  token_set_ratio  token_sort_ratio  \\\n",
       "0            1.0           2.0      13.0              100                93   \n",
       "1            1.0           5.0      12.5               86                63   \n",
       "2            1.0           4.0      12.0               63                63   \n",
       "3            0.0           2.0      12.0               28                24   \n",
       "4            1.0           6.0      10.0               67                47   \n",
       "\n",
       "   fuzz_ratio  fuzz_partial_ratio  \n",
       "0          93                 100  \n",
       "1          66                  75  \n",
       "2          43                  47  \n",
       "3           9                  14  \n",
       "4          35                  56  \n",
       "\n",
       "[5 rows x 28 columns]"
      ]
     },
     "execution_count": 6,
     "metadata": {},
     "output_type": "execute_result"
    }
   ],
   "source": [
    "df_features_from_eda.head()"
   ]
  },
  {
   "cell_type": "code",
   "execution_count": 7,
   "id": "b8551035-d220-435d-b16b-4ff6e5994b33",
   "metadata": {},
   "outputs": [],
   "source": [
    "# df_tfidf_full.shape"
   ]
  },
  {
   "cell_type": "code",
   "execution_count": 8,
   "id": "72dd7d3a-d983-4308-aa40-36c018a794bc",
   "metadata": {},
   "outputs": [
    {
     "name": "stdout",
     "output_type": "stream",
     "text": [
      "(404290, 25)\n",
      "(404290,)\n"
     ]
    }
   ],
   "source": [
    "data_points = 10000\n",
    "\n",
    "# df_tfidf_full = df_tfidf_full\n",
    "# [:data_points]\n",
    "df_features_from_eda = df_features_from_eda\n",
    "# [:data_points]\n",
    "\n",
    "Y = df_features_from_eda[\"is_duplicate\"]\n",
    "df_features_from_eda = df_features_from_eda.drop(['Unnamed: 0', 'id','is_duplicate'], axis=1)\n",
    "\n",
    "# df_tfidf_full.reset_index(drop=True, inplace=True)\n",
    "# df_features_from_eda.reset_index(drop=True, inplace=True)\n",
    "\n",
    "# X = pd.concat([df_features_from_eda, df_tfidf_full], axis=1)\n",
    "\n",
    "X = df_features_from_eda \n",
    "\n",
    "print(X.shape)\n",
    "print(Y.shape)"
   ]
  },
  {
   "cell_type": "code",
   "execution_count": 9,
   "id": "e9bffe2e-ec25-43b4-9676-d5aba771259c",
   "metadata": {},
   "outputs": [
    {
     "name": "stdout",
     "output_type": "stream",
     "text": [
      "Number of data points in train data : (283003, 25)\n",
      "Number of data points in test data : (121287, 25)\n"
     ]
    }
   ],
   "source": [
    "x_train,x_test, y_train, y_test = train_test_split(X, Y, stratify=Y, test_size=0.3)\n",
    "\n",
    "print(\"Number of data points in train data :\",x_train.shape)\n",
    "print(\"Number of data points in test data :\",x_test.shape)"
   ]
  },
  {
   "cell_type": "code",
   "execution_count": 10,
   "id": "7cc72de3-88f5-40ea-bb66-15ead605f28c",
   "metadata": {},
   "outputs": [
    {
     "data": {
      "text/html": [
       "<div>\n",
       "<style scoped>\n",
       "    .dataframe tbody tr th:only-of-type {\n",
       "        vertical-align: middle;\n",
       "    }\n",
       "\n",
       "    .dataframe tbody tr th {\n",
       "        vertical-align: top;\n",
       "    }\n",
       "\n",
       "    .dataframe thead th {\n",
       "        text-align: right;\n",
       "    }\n",
       "</style>\n",
       "<table border=\"1\" class=\"dataframe\">\n",
       "  <thead>\n",
       "    <tr style=\"text-align: right;\">\n",
       "      <th></th>\n",
       "      <th>freq_qid1</th>\n",
       "      <th>freq_qid2</th>\n",
       "      <th>q1len</th>\n",
       "      <th>q2len</th>\n",
       "      <th>q1_n_words</th>\n",
       "      <th>q2_n_words</th>\n",
       "      <th>word_Common</th>\n",
       "      <th>word_Total</th>\n",
       "      <th>word_share</th>\n",
       "      <th>freq_q1+q2</th>\n",
       "      <th>...</th>\n",
       "      <th>ctc_min</th>\n",
       "      <th>ctc_max</th>\n",
       "      <th>last_word_eq</th>\n",
       "      <th>first_word_eq</th>\n",
       "      <th>abs_len_diff</th>\n",
       "      <th>mean_len</th>\n",
       "      <th>token_set_ratio</th>\n",
       "      <th>token_sort_ratio</th>\n",
       "      <th>fuzz_ratio</th>\n",
       "      <th>fuzz_partial_ratio</th>\n",
       "    </tr>\n",
       "  </thead>\n",
       "  <tbody>\n",
       "    <tr>\n",
       "      <th>266290</th>\n",
       "      <td>2</td>\n",
       "      <td>2</td>\n",
       "      <td>86</td>\n",
       "      <td>40</td>\n",
       "      <td>15</td>\n",
       "      <td>7</td>\n",
       "      <td>5.0</td>\n",
       "      <td>22.0</td>\n",
       "      <td>0.227273</td>\n",
       "      <td>4</td>\n",
       "      <td>...</td>\n",
       "      <td>0.714276</td>\n",
       "      <td>0.333331</td>\n",
       "      <td>0.0</td>\n",
       "      <td>1.0</td>\n",
       "      <td>8.0</td>\n",
       "      <td>11.0</td>\n",
       "      <td>74</td>\n",
       "      <td>60</td>\n",
       "      <td>47</td>\n",
       "      <td>75</td>\n",
       "    </tr>\n",
       "    <tr>\n",
       "      <th>13978</th>\n",
       "      <td>4</td>\n",
       "      <td>1</td>\n",
       "      <td>54</td>\n",
       "      <td>46</td>\n",
       "      <td>11</td>\n",
       "      <td>8</td>\n",
       "      <td>5.0</td>\n",
       "      <td>19.0</td>\n",
       "      <td>0.263158</td>\n",
       "      <td>5</td>\n",
       "      <td>...</td>\n",
       "      <td>0.749991</td>\n",
       "      <td>0.545450</td>\n",
       "      <td>0.0</td>\n",
       "      <td>1.0</td>\n",
       "      <td>3.0</td>\n",
       "      <td>9.5</td>\n",
       "      <td>85</td>\n",
       "      <td>71</td>\n",
       "      <td>71</td>\n",
       "      <td>78</td>\n",
       "    </tr>\n",
       "    <tr>\n",
       "      <th>384613</th>\n",
       "      <td>1</td>\n",
       "      <td>1</td>\n",
       "      <td>285</td>\n",
       "      <td>124</td>\n",
       "      <td>60</td>\n",
       "      <td>27</td>\n",
       "      <td>14.0</td>\n",
       "      <td>65.0</td>\n",
       "      <td>0.215385</td>\n",
       "      <td>2</td>\n",
       "      <td>...</td>\n",
       "      <td>0.555553</td>\n",
       "      <td>0.241935</td>\n",
       "      <td>0.0</td>\n",
       "      <td>1.0</td>\n",
       "      <td>35.0</td>\n",
       "      <td>44.5</td>\n",
       "      <td>70</td>\n",
       "      <td>44</td>\n",
       "      <td>31</td>\n",
       "      <td>51</td>\n",
       "    </tr>\n",
       "    <tr>\n",
       "      <th>230060</th>\n",
       "      <td>2</td>\n",
       "      <td>2</td>\n",
       "      <td>22</td>\n",
       "      <td>30</td>\n",
       "      <td>4</td>\n",
       "      <td>5</td>\n",
       "      <td>1.0</td>\n",
       "      <td>9.0</td>\n",
       "      <td>0.111111</td>\n",
       "      <td>4</td>\n",
       "      <td>...</td>\n",
       "      <td>0.249994</td>\n",
       "      <td>0.199996</td>\n",
       "      <td>0.0</td>\n",
       "      <td>0.0</td>\n",
       "      <td>1.0</td>\n",
       "      <td>4.5</td>\n",
       "      <td>68</td>\n",
       "      <td>68</td>\n",
       "      <td>60</td>\n",
       "      <td>64</td>\n",
       "    </tr>\n",
       "    <tr>\n",
       "      <th>236717</th>\n",
       "      <td>1</td>\n",
       "      <td>1</td>\n",
       "      <td>14</td>\n",
       "      <td>43</td>\n",
       "      <td>3</td>\n",
       "      <td>8</td>\n",
       "      <td>0.0</td>\n",
       "      <td>11.0</td>\n",
       "      <td>0.000000</td>\n",
       "      <td>2</td>\n",
       "      <td>...</td>\n",
       "      <td>0.000000</td>\n",
       "      <td>0.000000</td>\n",
       "      <td>0.0</td>\n",
       "      <td>0.0</td>\n",
       "      <td>5.0</td>\n",
       "      <td>5.5</td>\n",
       "      <td>29</td>\n",
       "      <td>29</td>\n",
       "      <td>25</td>\n",
       "      <td>36</td>\n",
       "    </tr>\n",
       "  </tbody>\n",
       "</table>\n",
       "<p>5 rows × 25 columns</p>\n",
       "</div>"
      ],
      "text/plain": [
       "        freq_qid1  freq_qid2  q1len  q2len  q1_n_words  q2_n_words  \\\n",
       "266290          2          2     86     40          15           7   \n",
       "13978           4          1     54     46          11           8   \n",
       "384613          1          1    285    124          60          27   \n",
       "230060          2          2     22     30           4           5   \n",
       "236717          1          1     14     43           3           8   \n",
       "\n",
       "        word_Common  word_Total  word_share  freq_q1+q2  ...   ctc_min  \\\n",
       "266290          5.0        22.0    0.227273           4  ...  0.714276   \n",
       "13978           5.0        19.0    0.263158           5  ...  0.749991   \n",
       "384613         14.0        65.0    0.215385           2  ...  0.555553   \n",
       "230060          1.0         9.0    0.111111           4  ...  0.249994   \n",
       "236717          0.0        11.0    0.000000           2  ...  0.000000   \n",
       "\n",
       "         ctc_max  last_word_eq  first_word_eq  abs_len_diff  mean_len  \\\n",
       "266290  0.333331           0.0            1.0           8.0      11.0   \n",
       "13978   0.545450           0.0            1.0           3.0       9.5   \n",
       "384613  0.241935           0.0            1.0          35.0      44.5   \n",
       "230060  0.199996           0.0            0.0           1.0       4.5   \n",
       "236717  0.000000           0.0            0.0           5.0       5.5   \n",
       "\n",
       "        token_set_ratio  token_sort_ratio  fuzz_ratio  fuzz_partial_ratio  \n",
       "266290               74                60          47                  75  \n",
       "13978                85                71          71                  78  \n",
       "384613               70                44          31                  51  \n",
       "230060               68                68          60                  64  \n",
       "236717               29                29          25                  36  \n",
       "\n",
       "[5 rows x 25 columns]"
      ]
     },
     "execution_count": 10,
     "metadata": {},
     "output_type": "execute_result"
    }
   ],
   "source": [
    "x_train.head()"
   ]
  },
  {
   "cell_type": "code",
   "execution_count": 11,
   "id": "b0098262-ba84-4261-a486-f0b7bfa69a1c",
   "metadata": {},
   "outputs": [
    {
     "data": {
      "text/plain": [
       "54837     1\n",
       "244232    0\n",
       "293796    1\n",
       "14284     1\n",
       "299046    1\n",
       "Name: is_duplicate, dtype: int64"
      ]
     },
     "execution_count": 11,
     "metadata": {},
     "output_type": "execute_result"
    }
   ],
   "source": [
    "y_train.head()"
   ]
  },
  {
   "cell_type": "code",
   "execution_count": 12,
   "id": "77b81902-c0c6-499f-b7c8-bb2665786f58",
   "metadata": {},
   "outputs": [
    {
     "name": "stdout",
     "output_type": "stream",
     "text": [
      "---------- Distribution of output variable in train data ----------\n",
      "Class 0:  0.6308025003268517 Class 1:  0.36919749967314835\n",
      "---------- Distribution of output variable in train data ----------\n",
      "Class 0:  0.3691986775169639 Class 1:  0.3691986775169639\n"
     ]
    }
   ],
   "source": [
    "print(\"-\"*10, \"Distribution of output variable in train data\", \"-\"*10)\n",
    "train_distr = Counter(y_train)\n",
    "train_len = len(y_train)\n",
    "print(\"Class 0: \",int(train_distr[0])/train_len,\"Class 1: \", int(train_distr[1])/train_len)\n",
    "print(\"-\"*10, \"Distribution of output variable in train data\", \"-\"*10)\n",
    "test_distr = Counter(y_test)\n",
    "test_len = len(y_test)\n",
    "print(\"Class 0: \",int(test_distr[1])/test_len, \"Class 1: \",int(test_distr[1])/test_len)"
   ]
  },
  {
   "cell_type": "code",
   "execution_count": 11,
   "id": "935b87e9-8de1-4b61-a758-0bebd8dbf9b7",
   "metadata": {},
   "outputs": [
    {
     "name": "stdout",
     "output_type": "stream",
     "text": [
      "Log loss on Test Data using Random Model 0.8880104466295633\n"
     ]
    },
    {
     "data": {
      "image/png": "[encoded data removed]",
      "text/plain": [
       "<Figure size 1440x288 with 6 Axes>"
      ]
     },
     "metadata": {
      "needs_background": "light"
     },
     "output_type": "display_data"
    }
   ],
   "source": [
    "# we need to generate 9 numbers and the sum of numbers should be 1\n",
    "# one solution is to genarate 9 numbers and divide each of the numbers by their sum\n",
    "# ref: https://stackoverflow.com/a/18662466/4084039\n",
    "# we create a output array that has exactly same size as the CV data\n",
    "predicted_y = np.zeros((test_len,2))\n",
    "for i in range(test_len):\n",
    "    rand_probs = np.random.rand(1,2)\n",
    "    predicted_y[i] = ((rand_probs/sum(sum(rand_probs)))[0])\n",
    "print(\"Log loss on Test Data using Random Model\", log_loss(y_test, predicted_y, eps=1e-15))\n",
    "\n",
    "predicted_y =np.argmax(predicted_y, axis=1)\n",
    "plot_confusion_matrix(y_test, predicted_y)"
   ]
  },
  {
   "cell_type": "code",
   "execution_count": 12,
   "id": "0e9fe391-3c97-4030-a1d8-b6e099c5d012",
   "metadata": {},
   "outputs": [
    {
     "name": "stdout",
     "output_type": "stream",
     "text": [
      "[18:59:36] WARNING: C:/Users/Administrator/workspace/xgboost-win64_release_1.4.0/src/learner.cc:573: \n",
      "Parameters: { \"class_weight\" } might not be used.\n",
      "\n",
      "  This may not be accurate due to some parameters are only used in language bindings but\n",
      "  passed down to XGBoost core.  Or some parameters are not used but slip through this\n",
      "  verification. Please open an issue if you find above cases.\n",
      "\n",
      "\n",
      "[18:59:37] WARNING: C:/Users/Administrator/workspace/xgboost-win64_release_1.4.0/src/learner.cc:1095: Starting in XGBoost 1.3.0, the default evaluation metric used with the objective 'binary:logistic' was changed from 'error' to 'logloss'. Explicitly set eval_metric if you'd like to restore the old behavior.\n",
      "Optimal Parameters :  {'objective': 'binary:logistic', 'use_label_encoder': True, 'base_score': 0.5, 'booster': 'gbtree', 'colsample_bylevel': 1, 'colsample_bynode': 1, 'colsample_bytree': 1, 'gamma': 0, 'gpu_id': -1, 'importance_type': 'gain', 'interaction_constraints': '', 'learning_rate': 0.01, 'max_delta_step': 0, 'max_depth': 3, 'min_child_weight': 1, 'missing': nan, 'monotone_constraints': '()', 'n_estimators': 20, 'n_jobs': 6, 'num_parallel_tree': 1, 'random_state': 1, 'reg_alpha': 0, 'reg_lambda': 1, 'scale_pos_weight': 1, 'subsample': 1, 'tree_method': 'exact', 'validate_parameters': 1, 'verbosity': None, 'class_weight': 'balanced'}\n"
     ]
    }
   ],
   "source": [
    "nlp_model = \"TFIDF\"\n",
    "ml_model = \"XGBOOST\"\n",
    "\n",
    "# # md: 'max_depth'  \n",
    "# # ne: 'n_estimators'\n",
    "# # lr:'learning_rate'\n",
    "\n",
    "optimal_max_depth, optimal_n_estimator, optimal_learning_rate = xgboost_classifier(x_train, y_train)"
   ]
  },
  {
   "cell_type": "code",
   "execution_count": 14,
   "id": "ab09fa0c-0a16-4cd3-b5ef-86028800fb3e",
   "metadata": {},
   "outputs": [
    {
     "name": "stdout",
     "output_type": "stream",
     "text": [
      "[18:59:40] WARNING: C:/Users/Administrator/workspace/xgboost-win64_release_1.4.0/src/learner.cc:573: \n",
      "Parameters: { \"class_weight\" } might not be used.\n",
      "\n",
      "  This may not be accurate due to some parameters are only used in language bindings but\n",
      "  passed down to XGBoost core.  Or some parameters are not used but slip through this\n",
      "  verification. Please open an issue if you find above cases.\n",
      "\n",
      "\n",
      "[18:59:40] WARNING: C:/Users/Administrator/workspace/xgboost-win64_release_1.4.0/src/learner.cc:1095: Starting in XGBoost 1.3.0, the default evaluation metric used with the objective 'binary:logistic' was changed from 'error' to 'logloss'. Explicitly set eval_metric if you'd like to restore the old behavior.\n",
      "Using max depth value for tree -  3\n",
      "Using num estimators for tree -  20\n",
      "Training Confusion Matrix\n"
     ]
    },
    {
     "data": {
      "image/png": "[encoded data removed]",
      "text/plain": [
       "<Figure size 1440x288 with 6 Axes>"
      ]
     },
     "metadata": {
      "needs_background": "light"
     },
     "output_type": "display_data"
    },
    {
     "name": "stdout",
     "output_type": "stream",
     "text": [
      "\n",
      "\n",
      "\n",
      "Test Confusion Matrix\n"
     ]
    },
    {
     "data": {
      "image/png": "[encoded data removed]",
      "text/plain": [
       "<Figure size 1440x288 with 6 Axes>"
      ]
     },
     "metadata": {
      "needs_background": "light"
     },
     "output_type": "display_data"
    },
    {
     "name": "stdout",
     "output_type": "stream",
     "text": [
      "              precision    recall  f1-score   support\n",
      "\n",
      "           0       0.78      0.92      0.84     76508\n",
      "           1       0.80      0.55      0.65     44779\n",
      "\n",
      "    accuracy                           0.78    121287\n",
      "   macro avg       0.79      0.74      0.75    121287\n",
      "weighted avg       0.79      0.78      0.77    121287\n",
      "\n",
      "Log loss on Test Data using Model 7.441053059230332\n"
     ]
    }
   ],
   "source": [
    "model = xgboost_applied(nlp_model, ml_model,\\\n",
    "                   x_train, y_train, x_test, y_test,\n",
    "                   optimal_max_depth, optimal_n_estimator, optimal_learning_rate)"
   ]
  },
  {
   "cell_type": "code",
   "execution_count": 15,
   "id": "52cb228d-ebca-4633-965b-cb61f5d1b5a0",
   "metadata": {},
   "outputs": [
    {
     "data": {
      "text/plain": [
       "['models/tfidf_xgboost_7.441053059230332_log_loss_v2.joblib']"
      ]
     },
     "execution_count": 15,
     "metadata": {},
     "output_type": "execute_result"
    }
   ],
   "source": [
    "joblib.dump(model, f\"models/tfidf_xgboost_7.441053059230332_log_loss_v2.joblib\")"
   ]
  },
  {
   "cell_type": "code",
   "execution_count": null,
   "id": "a9ea304a-a27e-42bc-8d54-d942099c92b3",
   "metadata": {},
   "outputs": [],
   "source": []
  },
  {
   "cell_type": "code",
   "execution_count": null,
   "id": "ca165579-7e8f-4de6-858a-e25b9070a400",
   "metadata": {},
   "outputs": [],
   "source": []
  },
  {
   "cell_type": "markdown",
   "id": "88d359ea-e7ab-41c9-8456-10906fda7ca4",
   "metadata": {},
   "source": [
    "## Applying tfidf weighted W2V model"
   ]
  },
  {
   "cell_type": "code",
   "execution_count": 5,
   "id": "b168510e-7722-417c-88f0-9b9003702b09",
   "metadata": {},
   "outputs": [],
   "source": [
    "df_tfidf_weighted_w2v_full = joblib.load(r\"models/01_nlp/06_tfidf_weighted_w2v_2000_data_points.joblib\") \n",
    "df_features_from_eda = pd.read_csv(r\"data/03_all_features_from_eda_10000_data_points.csv\")"
   ]
  },
  {
   "cell_type": "code",
   "execution_count": 6,
   "id": "40d31a34-ba27-4f41-8c42-fa06e1478701",
   "metadata": {},
   "outputs": [
    {
     "name": "stdout",
     "output_type": "stream",
     "text": [
      "(2000, 218)\n",
      "(2000,)\n"
     ]
    }
   ],
   "source": [
    "# Less data points due low latency of my hardware \n",
    "data_points = 2000\n",
    "\n",
    "df_tfidf_weighted_w2v_full = df_tfidf_weighted_w2v_full\n",
    "# [:data_points]\n",
    "df_features_from_eda = df_features_from_eda[:data_points]\n",
    "\n",
    "Y = df_features_from_eda[\"is_duplicate\"]\n",
    "df_features_from_eda = df_features_from_eda.drop(['Unnamed: 0', 'is_duplicate'], axis=1)\n",
    "\n",
    "df_tfidf_weighted_w2v_full.reset_index(drop=True, inplace=True)\n",
    "df_features_from_eda.reset_index(drop=True, inplace=True)\n",
    "\n",
    "X = pd.concat([df_features_from_eda, df_tfidf_weighted_w2v_full], axis=1)\n",
    "\n",
    "print(X.shape)\n",
    "print(Y.shape)"
   ]
  },
  {
   "cell_type": "code",
   "execution_count": 7,
   "id": "c2049680-e006-4d70-83d7-55ba90b8d71b",
   "metadata": {},
   "outputs": [
    {
     "name": "stdout",
     "output_type": "stream",
     "text": [
      "Number of data points in train data : (1400, 218)\n",
      "Number of data points in test data : (600, 218)\n"
     ]
    }
   ],
   "source": [
    "x_train,x_test, y_train, y_test = train_test_split(X, Y, stratify=Y, test_size=0.3)\n",
    "\n",
    "print(\"Number of data points in train data :\",x_train.shape)\n",
    "print(\"Number of data points in test data :\",x_test.shape)"
   ]
  },
  {
   "cell_type": "code",
   "execution_count": 8,
   "id": "1f618b7c-489f-4723-833e-06d0ca9fc752",
   "metadata": {},
   "outputs": [
    {
     "name": "stdout",
     "output_type": "stream",
     "text": [
      "---------- Distribution of output variable in train data ----------\n",
      "Class 0:  0.6292857142857143 Class 1:  0.3707142857142857\n",
      "---------- Distribution of output variable in train data ----------\n",
      "Class 0:  0.37166666666666665 Class 1:  0.37166666666666665\n"
     ]
    }
   ],
   "source": [
    "print(\"-\"*10, \"Distribution of output variable in train data\", \"-\"*10)\n",
    "train_distr = Counter(y_train)\n",
    "train_len = len(y_train)\n",
    "print(\"Class 0: \",int(train_distr[0])/train_len,\"Class 1: \", int(train_distr[1])/train_len)\n",
    "print(\"-\"*10, \"Distribution of output variable in train data\", \"-\"*10)\n",
    "test_distr = Counter(y_test)\n",
    "test_len = len(y_test)\n",
    "print(\"Class 0: \",int(test_distr[1])/test_len, \"Class 1: \",int(test_distr[1])/test_len)"
   ]
  },
  {
   "cell_type": "code",
   "execution_count": 9,
   "id": "b4ad8b23-a716-4cfe-bdcb-72d42117885e",
   "metadata": {},
   "outputs": [],
   "source": [
    "# nlp_model = \"TFIDF WEIGHTED W2V\"\n",
    "# ml_model = \"XGBOOST\"\n",
    "\n",
    "# # # md: 'max_depth'  \n",
    "# # # ne: 'n_estimators'\n",
    "# # # lr:'learning_rate'\n",
    "\n",
    "# optimal_max_depth, optimal_n_estimator, optimal_learning_rate = xgboost_classifier(x_train, y_train)"
   ]
  },
  {
   "cell_type": "code",
   "execution_count": 10,
   "id": "c193b7f4-ea3e-413e-b30d-1e1e7a52321f",
   "metadata": {},
   "outputs": [],
   "source": [
    "nlp_model = \"TFIDF WEIGHTED W2V\"\n",
    "ml_model = \"XGBOOST\"\n",
    "optimal_max_depth = 4\n",
    "optimal_n_estimator = 20\n",
    "optimal_learning_rate =  0.01"
   ]
  },
  {
   "cell_type": "code",
   "execution_count": 11,
   "id": "b1e93dbb-4e80-4816-afbf-35938e57a78c",
   "metadata": {},
   "outputs": [
    {
     "name": "stdout",
     "output_type": "stream",
     "text": [
      "[16:44:59] WARNING: C:/Users/Administrator/workspace/xgboost-win64_release_1.4.0/src/learner.cc:573: \n",
      "Parameters: { \"class_weight\" } might not be used.\n",
      "\n",
      "  This may not be accurate due to some parameters are only used in language bindings but\n",
      "  passed down to XGBoost core.  Or some parameters are not used but slip through this\n",
      "  verification. Please open an issue if you find above cases.\n",
      "\n",
      "\n",
      "[16:44:59] WARNING: C:/Users/Administrator/workspace/xgboost-win64_release_1.4.0/src/learner.cc:1095: Starting in XGBoost 1.3.0, the default evaluation metric used with the objective 'binary:logistic' was changed from 'error' to 'logloss'. Explicitly set eval_metric if you'd like to restore the old behavior.\n",
      "Using max depth value for tree -  4\n",
      "Using num estimators for tree -  20\n",
      "Training Confusion Matrix\n"
     ]
    },
    {
     "data": {
      "image/png": "[encoded data removed]",
      "text/plain": [
       "<Figure size 1440x288 with 6 Axes>"
      ]
     },
     "metadata": {
      "needs_background": "light"
     },
     "output_type": "display_data"
    },
    {
     "name": "stdout",
     "output_type": "stream",
     "text": [
      "\n",
      "\n",
      "\n",
      "Test Confusion Matrix\n"
     ]
    },
    {
     "data": {
      "image/png": "[encoded data removed]",
      "text/plain": [
       "<Figure size 1440x288 with 6 Axes>"
      ]
     },
     "metadata": {
      "needs_background": "light"
     },
     "output_type": "display_data"
    },
    {
     "name": "stdout",
     "output_type": "stream",
     "text": [
      "              precision    recall  f1-score   support\n",
      "\n",
      "           0       0.78      0.89      0.83       377\n",
      "           1       0.75      0.58      0.66       223\n",
      "\n",
      "    accuracy                           0.77       600\n",
      "   macro avg       0.77      0.73      0.74       600\n",
      "weighted avg       0.77      0.77      0.77       600\n",
      "\n",
      "Log loss on Test Data using Model 7.828846620662253\n"
     ]
    }
   ],
   "source": [
    "model = xgboost_applied(nlp_model, ml_model,\\\n",
    "                   x_train, y_train, x_test, y_test,\n",
    "                   optimal_max_depth, optimal_n_estimator, optimal_learning_rate)"
   ]
  },
  {
   "cell_type": "code",
   "execution_count": 12,
   "id": "e57facd6-ff22-488a-aeed-449ebea88e87",
   "metadata": {},
   "outputs": [
    {
     "data": {
      "text/plain": [
       "['tfidf_weighted.joblib']"
      ]
     },
     "execution_count": 12,
     "metadata": {},
     "output_type": "execute_result"
    }
   ],
   "source": [
    "joblib.dump(model, f\"tfidf_weighted.joblib\")"
   ]
  },
  {
   "cell_type": "code",
   "execution_count": null,
   "id": "427702b4-69b6-4a7c-a612-e8b908b3597e",
   "metadata": {},
   "outputs": [],
   "source": []
  }
 ],
 "metadata": {
  "kernelspec": {
   "display_name": "Python 3",
   "language": "python",
   "name": "python3"
  },
  "language_info": {
   "codemirror_mode": {
    "name": "ipython",
    "version": 3
   },
   "file_extension": ".py",
   "mimetype": "text/x-python",
   "name": "python",
   "nbconvert_exporter": "python",
   "pygments_lexer": "ipython3",
   "version": "3.8.8"
  }
 },
 "nbformat": 4,
 "nbformat_minor": 5
}
