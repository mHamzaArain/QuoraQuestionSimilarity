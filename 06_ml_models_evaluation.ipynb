{
 "cells": [
  {
   "cell_type": "code",
   "execution_count": 1,
   "id": "a4534532-9e5a-430c-b3ea-31957aced1ac",
   "metadata": {},
   "outputs": [],
   "source": [
    "import numpy as np\n",
    "import pandas as pd\n",
    "\n",
    "import matplotlib.pyplot as plt\n",
    "import seaborn as sns\n",
    "\n",
    "import scipy.sparse\n",
    "from scipy.sparse import hstack\n",
    "\n",
    "from sqlalchemy import create_engine # database connection\n",
    "import sqlite3\n",
    "\n",
    "import joblib \n",
    "import os\n",
    "import datetime as dt\n",
    "from collections import Counter, defaultdict\n",
    "import math\n",
    "import re\n",
    "import datetime as dt\n",
    "import time\n",
    "import csv\n",
    "import os\n",
    "\n",
    "import warnings\n",
    "warnings.filterwarnings(\"ignore\")\n",
    "\n",
    "##################################\n",
    "##################################\n",
    "\n",
    "from xgboost import XGBClassifier\n",
    "\n",
    "from sklearn.feature_extraction.text import TfidfVectorizer\n",
    "from nltk.corpus import stopwords\n",
    "\n",
    "from sklearn.decomposition import TruncatedSVD\n",
    "from sklearn.preprocessing import normalize\n",
    "from sklearn.feature_extraction.text import CountVectorizer\n",
    "from sklearn.neighbors import KNeighborsClassifier\n",
    "from sklearn.metrics import confusion_matrix, accuracy_score, log_loss, normalized_mutual_info_score, classification_report, \\\n",
    "                            precision_recall_curve, auc, roc_curve\n",
    "\n",
    "from sklearn.multiclass import OneVsRestClassifier\n",
    "from sklearn.svm import SVC\n",
    "from sklearn.model_selection import StratifiedKFold \n",
    "from sklearn.calibration import CalibratedClassifierCV\n",
    "from sklearn.naive_bayes import MultinomialNB\n",
    "from sklearn.naive_bayes import GaussianNB\n",
    "from sklearn.model_selection import train_test_split\n",
    "from sklearn.model_selection import GridSearchCV\n",
    "\n",
    "from sklearn.ensemble import RandomForestClassifier\n",
    "from sklearn.model_selection import cross_val_score\n",
    "from sklearn.linear_model import SGDClassifier\n",
    "from mlxtend.classifier import StackingClassifier\n",
    "\n",
    "from sklearn import model_selection\n",
    "from sklearn.linear_model import LogisticRegression\n",
    "from sklearn.model_selection import train_test_split\n",
    "from sklearn.calibration import CalibratedClassifierCV\n",
    "from sklearn.linear_model import SGDClassifier\n",
    "from sklearn.model_selection import GridSearchCV"
   ]
  },
  {
   "cell_type": "markdown",
   "id": "d254f0ff-78cc-4137-85f1-f466bc2905d5",
   "metadata": {},
   "source": [
    "## Applying TFIDF WEIGHTED W2V"
   ]
  },
  {
   "cell_type": "code",
   "execution_count": 2,
   "id": "21f4fa4b-be54-47be-88e8-4193843574dc",
   "metadata": {},
   "outputs": [
    {
     "name": "stdout",
     "output_type": "stream",
     "text": [
      "(3000, 193)\n"
     ]
    },
    {
     "data": {
      "text/html": [
       "<div>\n",
       "<style scoped>\n",
       "    .dataframe tbody tr th:only-of-type {\n",
       "        vertical-align: middle;\n",
       "    }\n",
       "\n",
       "    .dataframe tbody tr th {\n",
       "        vertical-align: top;\n",
       "    }\n",
       "\n",
       "    .dataframe thead th {\n",
       "        text-align: right;\n",
       "    }\n",
       "</style>\n",
       "<table border=\"1\" class=\"dataframe\">\n",
       "  <thead>\n",
       "    <tr style=\"text-align: right;\">\n",
       "      <th></th>\n",
       "      <th>0_x</th>\n",
       "      <th>1_x</th>\n",
       "      <th>2_x</th>\n",
       "      <th>3_x</th>\n",
       "      <th>4_x</th>\n",
       "      <th>5_x</th>\n",
       "      <th>6_x</th>\n",
       "      <th>7_x</th>\n",
       "      <th>8_x</th>\n",
       "      <th>9_x</th>\n",
       "      <th>...</th>\n",
       "      <th>86_y</th>\n",
       "      <th>87_y</th>\n",
       "      <th>88_y</th>\n",
       "      <th>89_y</th>\n",
       "      <th>90_y</th>\n",
       "      <th>91_y</th>\n",
       "      <th>92_y</th>\n",
       "      <th>93_y</th>\n",
       "      <th>94_y</th>\n",
       "      <th>95_y</th>\n",
       "    </tr>\n",
       "  </thead>\n",
       "  <tbody>\n",
       "    <tr>\n",
       "      <th>0</th>\n",
       "      <td>38.161535</td>\n",
       "      <td>-16.883424</td>\n",
       "      <td>27.364944</td>\n",
       "      <td>-2.225619</td>\n",
       "      <td>6.019804</td>\n",
       "      <td>-9.301675</td>\n",
       "      <td>-1.573213</td>\n",
       "      <td>1.481994</td>\n",
       "      <td>-7.730493</td>\n",
       "      <td>-2.612193</td>\n",
       "      <td>...</td>\n",
       "      <td>20.356704</td>\n",
       "      <td>-33.651369</td>\n",
       "      <td>4.493593</td>\n",
       "      <td>-2.982234</td>\n",
       "      <td>-11.982838</td>\n",
       "      <td>12.24958</td>\n",
       "      <td>18.157573</td>\n",
       "      <td>-10.208319</td>\n",
       "      <td>16.406053</td>\n",
       "      <td>12.979552</td>\n",
       "    </tr>\n",
       "  </tbody>\n",
       "</table>\n",
       "<p>1 rows × 193 columns</p>\n",
       "</div>"
      ],
      "text/plain": [
       "         0_x        1_x        2_x       3_x       4_x       5_x       6_x  \\\n",
       "0  38.161535 -16.883424  27.364944 -2.225619  6.019804 -9.301675 -1.573213   \n",
       "\n",
       "        7_x       8_x       9_x  ...       86_y       87_y      88_y  \\\n",
       "0  1.481994 -7.730493 -2.612193  ...  20.356704 -33.651369  4.493593   \n",
       "\n",
       "       89_y       90_y      91_y       92_y       93_y       94_y       95_y  \n",
       "0 -2.982234 -11.982838  12.24958  18.157573 -10.208319  16.406053  12.979552  \n",
       "\n",
       "[1 rows x 193 columns]"
      ]
     },
     "execution_count": 2,
     "metadata": {},
     "output_type": "execute_result"
    }
   ],
   "source": [
    "tfidf_weighted_w2v = pd.read_csv(\"models/01_nlp/tfidf_weight_w2v3000.csv\")\n",
    "tfidf_weighted_w2v = tfidf_weighted_w2v.drop([\"Unnamed: 0\"], axis=1)\n",
    "print(tfidf_weighted_w2v.shape)\n",
    "tfidf_weighted_w2v.head(1)"
   ]
  },
  {
   "cell_type": "code",
   "execution_count": 3,
   "id": "c74d9cc0-2566-4e70-b5f5-a16c48462c0e",
   "metadata": {},
   "outputs": [
    {
     "name": "stdout",
     "output_type": "stream",
     "text": [
      "(3000, 49)\n"
     ]
    },
    {
     "data": {
      "text/html": [
       "<div>\n",
       "<style scoped>\n",
       "    .dataframe tbody tr th:only-of-type {\n",
       "        vertical-align: middle;\n",
       "    }\n",
       "\n",
       "    .dataframe tbody tr th {\n",
       "        vertical-align: top;\n",
       "    }\n",
       "\n",
       "    .dataframe thead th {\n",
       "        text-align: right;\n",
       "    }\n",
       "</style>\n",
       "<table border=\"1\" class=\"dataframe\">\n",
       "  <thead>\n",
       "    <tr style=\"text-align: right;\">\n",
       "      <th></th>\n",
       "      <th>id</th>\n",
       "      <th>qid1</th>\n",
       "      <th>qid2</th>\n",
       "      <th>question1</th>\n",
       "      <th>question2</th>\n",
       "      <th>is_duplicate</th>\n",
       "      <th>cleaned_q1</th>\n",
       "      <th>cleaned_q2</th>\n",
       "      <th>freq_qid1</th>\n",
       "      <th>freq_qid2</th>\n",
       "      <th>...</th>\n",
       "      <th>dist_braycurtis</th>\n",
       "      <th>dist_chebyshev</th>\n",
       "      <th>dist_correlation</th>\n",
       "      <th>dist_hamming</th>\n",
       "      <th>dist_jaccard</th>\n",
       "      <th>dist_kulsinski</th>\n",
       "      <th>dist_rogerstanimoto</th>\n",
       "      <th>dist_russellrao</th>\n",
       "      <th>dist_sokalmichener</th>\n",
       "      <th>dist_yule</th>\n",
       "    </tr>\n",
       "  </thead>\n",
       "  <tbody>\n",
       "    <tr>\n",
       "      <th>0</th>\n",
       "      <td>0</td>\n",
       "      <td>1</td>\n",
       "      <td>2</td>\n",
       "      <td>What is the step by step guide to invest in sh...</td>\n",
       "      <td>What is the step by step guide to invest in sh...</td>\n",
       "      <td>0</td>\n",
       "      <td>what is the step by step guide to invest in sh...</td>\n",
       "      <td>what is the step by step guide to invest in sh...</td>\n",
       "      <td>1</td>\n",
       "      <td>1</td>\n",
       "      <td>...</td>\n",
       "      <td>0.117393</td>\n",
       "      <td>0.112668</td>\n",
       "      <td>0.00684</td>\n",
       "      <td>1.0</td>\n",
       "      <td>1.0</td>\n",
       "      <td>0.860943</td>\n",
       "      <td>-0.670791</td>\n",
       "      <td>0.895868</td>\n",
       "      <td>-0.670791</td>\n",
       "      <td>0.233231</td>\n",
       "    </tr>\n",
       "  </tbody>\n",
       "</table>\n",
       "<p>1 rows × 49 columns</p>\n",
       "</div>"
      ],
      "text/plain": [
       "   id  qid1  qid2                                          question1  \\\n",
       "0   0     1     2  What is the step by step guide to invest in sh...   \n",
       "\n",
       "                                           question2  is_duplicate  \\\n",
       "0  What is the step by step guide to invest in sh...             0   \n",
       "\n",
       "                                          cleaned_q1  \\\n",
       "0  what is the step by step guide to invest in sh...   \n",
       "\n",
       "                                          cleaned_q2  freq_qid1  freq_qid2  \\\n",
       "0  what is the step by step guide to invest in sh...          1          1   \n",
       "\n",
       "   ...  dist_braycurtis  dist_chebyshev  dist_correlation  dist_hamming  \\\n",
       "0  ...         0.117393        0.112668           0.00684           1.0   \n",
       "\n",
       "   dist_jaccard  dist_kulsinski  dist_rogerstanimoto  dist_russellrao  \\\n",
       "0           1.0        0.860943            -0.670791         0.895868   \n",
       "\n",
       "   dist_sokalmichener  dist_yule  \n",
       "0           -0.670791   0.233231  \n",
       "\n",
       "[1 rows x 49 columns]"
      ]
     },
     "execution_count": 3,
     "metadata": {},
     "output_type": "execute_result"
    }
   ],
   "source": [
    "all_features = pd.read_csv(\"data/04_all_features.csv\")\n",
    "all_features = all_features.drop([\"Unnamed: 0\"], axis=1)\n",
    "all_features = all_features[:3000]\n",
    "print(all_features.shape)\n",
    "all_features.head(1)"
   ]
  },
  {
   "cell_type": "code",
   "execution_count": 4,
   "id": "ef0be430-6432-4224-8bbf-7850cdc03199",
   "metadata": {},
   "outputs": [
    {
     "name": "stdout",
     "output_type": "stream",
     "text": [
      "(3000, 234)\n"
     ]
    },
    {
     "data": {
      "text/html": [
       "<div>\n",
       "<style scoped>\n",
       "    .dataframe tbody tr th:only-of-type {\n",
       "        vertical-align: middle;\n",
       "    }\n",
       "\n",
       "    .dataframe tbody tr th {\n",
       "        vertical-align: top;\n",
       "    }\n",
       "\n",
       "    .dataframe thead th {\n",
       "        text-align: right;\n",
       "    }\n",
       "</style>\n",
       "<table border=\"1\" class=\"dataframe\">\n",
       "  <thead>\n",
       "    <tr style=\"text-align: right;\">\n",
       "      <th></th>\n",
       "      <th>is_duplicate</th>\n",
       "      <th>freq_qid1</th>\n",
       "      <th>freq_qid2</th>\n",
       "      <th>q1len</th>\n",
       "      <th>q2len</th>\n",
       "      <th>q1_n_words</th>\n",
       "      <th>q2_n_words</th>\n",
       "      <th>word_Common</th>\n",
       "      <th>word_Total</th>\n",
       "      <th>word_share</th>\n",
       "      <th>...</th>\n",
       "      <th>86_y</th>\n",
       "      <th>87_y</th>\n",
       "      <th>88_y</th>\n",
       "      <th>89_y</th>\n",
       "      <th>90_y</th>\n",
       "      <th>91_y</th>\n",
       "      <th>92_y</th>\n",
       "      <th>93_y</th>\n",
       "      <th>94_y</th>\n",
       "      <th>95_y</th>\n",
       "    </tr>\n",
       "  </thead>\n",
       "  <tbody>\n",
       "    <tr>\n",
       "      <th>0</th>\n",
       "      <td>0</td>\n",
       "      <td>1</td>\n",
       "      <td>1</td>\n",
       "      <td>66</td>\n",
       "      <td>57</td>\n",
       "      <td>14</td>\n",
       "      <td>12</td>\n",
       "      <td>10.0</td>\n",
       "      <td>23.0</td>\n",
       "      <td>0.434783</td>\n",
       "      <td>...</td>\n",
       "      <td>20.356704</td>\n",
       "      <td>-33.651369</td>\n",
       "      <td>4.493593</td>\n",
       "      <td>-2.982234</td>\n",
       "      <td>-11.982838</td>\n",
       "      <td>12.24958</td>\n",
       "      <td>18.157573</td>\n",
       "      <td>-10.208319</td>\n",
       "      <td>16.406053</td>\n",
       "      <td>12.979552</td>\n",
       "    </tr>\n",
       "  </tbody>\n",
       "</table>\n",
       "<p>1 rows × 234 columns</p>\n",
       "</div>"
      ],
      "text/plain": [
       "   is_duplicate  freq_qid1  freq_qid2  q1len  q2len  q1_n_words  q2_n_words  \\\n",
       "0             0          1          1     66     57          14          12   \n",
       "\n",
       "   word_Common  word_Total  word_share  ...       86_y       87_y      88_y  \\\n",
       "0         10.0        23.0    0.434783  ...  20.356704 -33.651369  4.493593   \n",
       "\n",
       "       89_y       90_y      91_y       92_y       93_y       94_y       95_y  \n",
       "0 -2.982234 -11.982838  12.24958  18.157573 -10.208319  16.406053  12.979552  \n",
       "\n",
       "[1 rows x 234 columns]"
      ]
     },
     "execution_count": 4,
     "metadata": {},
     "output_type": "execute_result"
    }
   ],
   "source": [
    "tfidf_weighted_w2v['id'] = all_features[\"id\"]\n",
    "X = all_features.merge(tfidf_weighted_w2v, on='id',how='left')\n",
    "X = X.drop(['id', 'qid1', 'qid2', 'question1', 'question2', 'cleaned_q1', 'cleaned_q2'], axis=1)\n",
    "print(X.shape)\n",
    "X.head(1)"
   ]
  },
  {
   "cell_type": "code",
   "execution_count": 5,
   "id": "f1afa0ad-5ced-4fbb-95c3-a58f38b1e529",
   "metadata": {},
   "outputs": [],
   "source": [
    "X = X.replace(np.nan, 0)\n",
    "X.reset_index()\n",
    "\n",
    "def clean_dataset(df):\n",
    "    assert isinstance(df, pd.DataFrame), \"df needs to be a pd.DataFrame\"\n",
    "    df.dropna(inplace=True)\n",
    "    indices_to_keep = ~df.isin([np.nan, np.inf, -np.inf]).any(1)\n",
    "    return df[indices_to_keep].astype(np.float64)\n",
    "\n",
    "X = clean_dataset(X)\n",
    "\n",
    "cols = list(X.columns)\n",
    "X = pd.DataFrame(np.array(X.values,dtype=np.float64),columns=cols)"
   ]
  },
  {
   "cell_type": "code",
   "execution_count": 6,
   "id": "b5c30031-412c-467e-ad4a-7e7763aa99f3",
   "metadata": {},
   "outputs": [
    {
     "name": "stdout",
     "output_type": "stream",
     "text": [
      "Y:  (2980,)\n",
      "X:  (2980, 233)\n",
      "--------------------------------------------------\n",
      "(2384, 233) (2384,)\n",
      "(596, 233) (596,)\n",
      "Finite value:  True\n",
      "NaN value:  False\n"
     ]
    }
   ],
   "source": [
    "Y = X['is_duplicate']\n",
    "X = X.drop(['is_duplicate'], axis=1)\n",
    "\n",
    "# Random sampling\n",
    "x_train, x_test, y_train, y_test = train_test_split(X, Y, test_size=0.2) \n",
    "# x_train, x_cv, y_train, y_cv = train_test_split(x_train, y_train, test_size=0.2)\n",
    "\n",
    "# Data shape\n",
    "print(\"Y: \", Y.shape)\n",
    "print(\"X: \", X.shape)\n",
    "print(\"-\"*50)\n",
    "\n",
    "print(x_train.shape, y_train.shape)\n",
    "print(x_test.shape, y_test.shape)\n",
    "\n",
    "print(\"Finite value: \", np.any(np.isfinite(x_train)))\n",
    "print(\"NaN value: \", np.any(np.isnan(x_train)))"
   ]
  },
  {
   "cell_type": "code",
   "execution_count": 7,
   "id": "5489cb71-b34c-4f80-93ac-d761108b1704",
   "metadata": {},
   "outputs": [
    {
     "name": "stdout",
     "output_type": "stream",
     "text": [
      "---------- Distribution of output variable in train data ----------\n",
      "Class 0:  0.6178691275167785 Class 1:  0.3821308724832215\n",
      "---------- Distribution of output variable in train data ----------\n",
      "Class 0:  0.36577181208053694 Class 1:  0.36577181208053694\n"
     ]
    }
   ],
   "source": [
    "print(\"-\"*10, \"Distribution of output variable in train data\", \"-\"*10)\n",
    "train_distr = Counter(y_train)\n",
    "train_len = len(y_train)\n",
    "print(\"Class 0: \",int(train_distr[0])/train_len,\"Class 1: \", int(train_distr[1])/train_len)\n",
    "print(\"-\"*10, \"Distribution of output variable in train data\", \"-\"*10)\n",
    "test_distr = Counter(y_test)\n",
    "test_len = len(y_test)\n",
    "print(\"Class 0: \",int(test_distr[1])/test_len, \"Class 1: \",int(test_distr[1])/test_len)"
   ]
  },
  {
   "cell_type": "code",
   "execution_count": 4,
   "id": "a280be61-0fb2-4e7c-96f9-33951fe3556b",
   "metadata": {},
   "outputs": [],
   "source": [
    "def BestMLAlgo(nlp_model, x_train, x_test, y_train, y_test):\n",
    "    \"\"\"Identify best Algo on given dataset\"\"\"\n",
    "    from prettytable import PrettyTable\n",
    "    \n",
    "    table = PrettyTable()\n",
    "    table.field_names = [\"Vect\", \"Model\", \"Accuracy\", \"Precision\", \"Recall\", \"AUCScore\", \"AVG TPR\", \"AVG FPR\", \"AvgThresh\", \"F1Score\", \"Log loss\"]\n",
    "                        \n",
    "    from sklearn.neighbors import KNeighborsClassifier\n",
    "    from sklearn.naive_bayes import MultinomialNB\n",
    "    from sklearn.linear_model import LogisticRegression\n",
    "    from sklearn.tree import DecisionTreeClassifier\n",
    "    from sklearn.ensemble import RandomForestClassifier\n",
    "    from sklearn.ensemble import AdaBoostClassifier\n",
    "    from sklearn.ensemble import GradientBoostingClassifier\n",
    "    import xgboost\n",
    "    from sklearn import svm\n",
    "    \n",
    "    classificatino_models = {\n",
    "        'kNN': KNeighborsClassifier(),\n",
    "        'Log. Reg.': LogisticRegression(),\n",
    "        'SVM Linear': svm.SVC(probability=False),\n",
    "        'SVM Non-linear': svm.SVC(kernel='rbf'),\n",
    "        'Decision Tree': DecisionTreeClassifier(),\n",
    "        'Random Forest': RandomForestClassifier(),\n",
    "        'Gradient Boost': GradientBoostingClassifier(),\n",
    "        'Ada Boost': AdaBoostClassifier(),\n",
    "        'xgboost': xgboost.XGBClassifier(),\n",
    "    }\n",
    "    \n",
    "    from sklearn.metrics import accuracy_score, roc_auc_score, roc_curve, auc, confusion_matrix,\\\n",
    "                                log_loss\n",
    "\n",
    "    for model_name, model in classificatino_models.items():\n",
    "        model.fit(x_train, y_train)\n",
    "        x_pred_test = model.predict(x_test)\n",
    "\n",
    "        # Performance metrics\n",
    "        tn, fp, fn, tp = confusion_matrix(y_test, x_pred_test).ravel()\n",
    "        accuracy    = round((tp+tn)/(tp+tn+fp+fn), 2)\n",
    "        precision   = round((tp/(tp+fp)), 2)\n",
    "        specificity = round((tn/(fp+tn)), 2)\n",
    "        error_rate  = round(((fp+fn)/(tp+tn+fp+fn)), 2)\n",
    "        recall      = round((tp/(tp+fn)), 2)\n",
    "        f1_score    = round((2*recall*precision)/(recall+precision), 2)\n",
    "        loss = round(log_loss(y_test, x_pred_test, eps=1e-15), 2)\n",
    "\n",
    "        try:\n",
    "            fpr, tpr, thresholds = roc_curve(y_test, model.predict_proba(x_test)[:, 1], pos_label=1)\n",
    "            fpr_avg = round(sum(fpr)/len(fpr), 2)\n",
    "            tpr_avg = round(sum(tpr)/len(tpr), 2)\n",
    "            threshold_avg = round(sum(thresholds)/len(thresholds), 2)\n",
    "            auc_score = round(auc(fpr, tpr), 2)    \n",
    "            table.add_row([nlp_model, model_name,accuracy, precision, recall, auc_score, tpr_avg, fpr_avg, threshold_avg, f1_score, loss])\n",
    "        except:\n",
    "            table.add_row([nlp_model, model_name,accuracy, precision, recall, \"\", \"\", \"\", \"\", f1_score, loss])\n",
    "    print(table)"
   ]
  },
  {
   "cell_type": "code",
   "execution_count": 9,
   "id": "91611b10-3cd1-40fb-aead-0f295656985d",
   "metadata": {},
   "outputs": [
    {
     "name": "stdout",
     "output_type": "stream",
     "text": [
      "[01:46:41] WARNING: C:/Users/Administrator/workspace/xgboost-win64_release_1.4.0/src/learner.cc:1095: Starting in XGBoost 1.3.0, the default evaluation metric used with the objective 'binary:logistic' was changed from 'error' to 'logloss'. Explicitly set eval_metric if you'd like to restore the old behavior.\n",
      "+--------------+----------------+----------+-----------+--------+----------+---------+---------+-----------+---------+----------+\n",
      "|     Vect     |     Model      | Accuracy | Precision | Recall | AUCScore | AVG TPR | AVG FPR | AvgThresh | F1Score | Log loss |\n",
      "+--------------+----------------+----------+-----------+--------+----------+---------+---------+-----------+---------+----------+\n",
      "| TFIDF AvgW2V |      kNN       |   0.69   |    0.61   |  0.67  |   0.73   |   0.57  |   0.4   |    0.71   |   0.64  |  10.78   |\n",
      "| TFIDF AvgW2V |   Log. Reg.    |   0.76   |    0.72   |  0.65  |   0.82   |   0.68  |   0.3   |    0.44   |   0.68  |   8.46   |\n",
      "| TFIDF AvgW2V |   SVM Linear   |   0.73   |    0.67   |  0.66  |          |         |         |           |   0.66  |   9.39   |\n",
      "| TFIDF AvgW2V | SVM Non-linear |   0.73   |    0.67   |  0.66  |          |         |         |           |   0.66  |   9.39   |\n",
      "| TFIDF AvgW2V | Decision Tree  |   0.75   |    0.71   |  0.65  |   0.74   |   0.55  |   0.39  |    1.0    |   0.68  |   8.63   |\n",
      "| TFIDF AvgW2V | Random Forest  |   0.75   |    0.72   |  0.63  |   0.86   |   0.65  |   0.31  |    0.46   |   0.67  |   8.63   |\n",
      "| TFIDF AvgW2V | Gradient Boost |   0.78   |    0.76   |  0.66  |   0.88   |   0.7   |   0.22  |    0.46   |   0.71  |   7.77   |\n",
      "| TFIDF AvgW2V |   Ada Boost    |   0.77   |    0.73   |  0.69  |   0.86   |   0.68  |   0.23  |    0.5    |   0.71  |   8.06   |\n",
      "| TFIDF AvgW2V |    xgboost     |   0.78   |    0.75   |  0.69  |   0.87   |   0.69  |   0.22  |    0.45   |   0.72  |   7.71   |\n",
      "+--------------+----------------+----------+-----------+--------+----------+---------+---------+-----------+---------+----------+\n"
     ]
    }
   ],
   "source": [
    "BestMLAlgo(\"TFIDF AvgW2V\", x_train, x_test, y_train, y_test)"
   ]
  },
  {
   "cell_type": "markdown",
   "id": "6bbc8ffd-fb63-4900-857d-73f1865e5eea",
   "metadata": {},
   "source": [
    "#### CONCLUSION\n",
    "* Best model is xgboost on TFIDF AvgW2V "
   ]
  },
  {
   "cell_type": "markdown",
   "id": "acb08d92-5af9-49b2-933a-feeb62da6222",
   "metadata": {},
   "source": [
    "## Standardization "
   ]
  },
  {
   "cell_type": "code",
   "execution_count": 10,
   "id": "babbf9fa-697b-42f9-b8b9-9ffc676a7b78",
   "metadata": {},
   "outputs": [],
   "source": [
    "from sklearn.preprocessing import StandardScaler\n",
    "\n",
    "scale = StandardScaler()\n",
    "X_std = scale.fit_transform(X)\n",
    "\n",
    "# Random sampling\n",
    "x_train_std, x_test_std, y_train, y_test = train_test_split(X_std, Y, test_size=0.2) "
   ]
  },
  {
   "cell_type": "code",
   "execution_count": 11,
   "id": "fb7f3e91-a6bf-4c95-8d53-c251c142a937",
   "metadata": {},
   "outputs": [
    {
     "name": "stdout",
     "output_type": "stream",
     "text": [
      "[01:47:13] WARNING: C:/Users/Administrator/workspace/xgboost-win64_release_1.4.0/src/learner.cc:1095: Starting in XGBoost 1.3.0, the default evaluation metric used with the objective 'binary:logistic' was changed from 'error' to 'logloss'. Explicitly set eval_metric if you'd like to restore the old behavior.\n",
      "+--------------+----------------+----------+-----------+--------+----------+---------+---------+-----------+---------+----------+\n",
      "|     Vect     |     Model      | Accuracy | Precision | Recall | AUCScore | AVG TPR | AVG FPR | AvgThresh | F1Score | Log loss |\n",
      "+--------------+----------------+----------+-----------+--------+----------+---------+---------+-----------+---------+----------+\n",
      "| TFIDF AvgW2V |      kNN       |   0.52   |    0.38   |  0.35  |   0.48   |   0.44  |   0.45  |    0.71   |   0.36  |  16.46   |\n",
      "| TFIDF AvgW2V |   Log. Reg.    |   0.54   |    0.34   |  0.2   |   0.47   |   0.46  |   0.49  |    0.4    |   0.25  |  16.05   |\n",
      "| TFIDF AvgW2V |   SVM Linear   |   0.61   |    nan    |  0.0   |          |         |         |           |   nan   |  13.44   |\n",
      "| TFIDF AvgW2V | SVM Non-linear |   0.61   |    nan    |  0.0   |          |         |         |           |   nan   |  13.44   |\n",
      "| TFIDF AvgW2V | Decision Tree  |   0.53   |    0.4    |  0.39  |   0.51   |   0.46  |   0.46  |    1.0    |   0.39  |  16.17   |\n",
      "| TFIDF AvgW2V | Random Forest  |   0.59   |    0.29   |  0.03  |   0.45   |   0.48  |   0.51  |    0.42   |   0.05  |  14.14   |\n",
      "| TFIDF AvgW2V | Gradient Boost |   0.57   |    0.32   |  0.09  |   0.47   |   0.51  |   0.54  |    0.37   |   0.14  |  14.84   |\n",
      "| TFIDF AvgW2V |   Ada Boost    |   0.54   |    0.35   |  0.21  |   0.48   |   0.48  |   0.5   |    0.5    |   0.26  |  15.82   |\n",
      "| TFIDF AvgW2V |    xgboost     |   0.56   |    0.37   |  0.19  |   0.49   |   0.5   |   0.51  |    0.3    |   0.25  |  15.18   |\n",
      "+--------------+----------------+----------+-----------+--------+----------+---------+---------+-----------+---------+----------+\n"
     ]
    }
   ],
   "source": [
    "BestMLAlgo(\"TFIDF AvgW2V\", x_train, x_test, y_train, y_test)"
   ]
  },
  {
   "cell_type": "markdown",
   "id": "01700000-c4ab-4895-a3c0-0286aac8f862",
   "metadata": {},
   "source": [
    "#### CONCLUSION\n",
    "* Standarddiztion is not good as compared"
   ]
  },
  {
   "cell_type": "markdown",
   "id": "06614760-7add-4dc5-836a-bcc0c5ff26a6",
   "metadata": {},
   "source": [
    "## Every feature except NLP vect"
   ]
  },
  {
   "cell_type": "code",
   "execution_count": 5,
   "id": "d90c1c0c-3a4a-4fae-9266-9d08b46f2210",
   "metadata": {},
   "outputs": [],
   "source": [
    "x = all_features.drop(['id', 'qid1', 'qid2', 'question1', 'question2', 'cleaned_q1', 'cleaned_q2'], axis=1)\n",
    "\n",
    "x = x.replace(np.nan, 0)\n",
    "x.reset_index()\n",
    "\n",
    "def clean_dataset(df):\n",
    "    assert isinstance(df, pd.DataFrame), \"df needs to be a pd.DataFrame\"\n",
    "    df.dropna(inplace=True)\n",
    "    indices_to_keep = ~df.isin([np.nan, np.inf, -np.inf]).any(1)\n",
    "    return df[indices_to_keep].astype(np.float64)\n",
    "\n",
    "x = clean_dataset(x)\n",
    "\n",
    "cols = list(x.columns)\n",
    "x = pd.DataFrame(np.array(x.values,dtype=np.float64),columns=cols)\n",
    "\n",
    "y = x[\"is_duplicate\"]\n",
    "\n",
    "x = x.drop([\"is_duplicate\"], axis=1)\n",
    "\n",
    "x_tr, x_te, y_tr, y_te = train_test_split(x, y, test_size=0.2) \n",
    "\n",
    "# print(x_tr.shape, \" \", x_te.shape, \" \", y_tr.shape, \" \", y_te.shape)\n",
    "# x.head(1)"
   ]
  },
  {
   "cell_type": "code",
   "execution_count": 6,
   "id": "6eef13de-925d-4c91-ba3b-6669d1aff151",
   "metadata": {},
   "outputs": [
    {
     "name": "stdout",
     "output_type": "stream",
     "text": [
      "[19:42:34] WARNING: C:/Users/Administrator/workspace/xgboost-win64_release_1.4.0/src/learner.cc:1095: Starting in XGBoost 1.3.0, the default evaluation metric used with the objective 'binary:logistic' was changed from 'error' to 'logloss'. Explicitly set eval_metric if you'd like to restore the old behavior.\n",
      "+------+----------------+----------+-----------+--------+----------+---------+---------+-----------+---------+----------+\n",
      "| Vect |     Model      | Accuracy | Precision | Recall | AUCScore | AVG TPR | AVG FPR | AvgThresh | F1Score | Log loss |\n",
      "+------+----------------+----------+-----------+--------+----------+---------+---------+-----------+---------+----------+\n",
      "| NONE |      kNN       |   0.73   |    0.66   |  0.58  |   0.78   |   0.55  |   0.31  |    0.71   |   0.62  |   9.39   |\n",
      "| NONE |   Log. Reg.    |   0.79   |    0.73   |  0.71  |   0.87   |   0.69  |   0.23  |    0.48   |   0.72  |   7.24   |\n",
      "| NONE |   SVM Linear   |   0.74   |    0.66   |  0.68  |          |         |         |           |   0.67  |   8.87   |\n",
      "| NONE | SVM Non-linear |   0.74   |    0.66   |  0.68  |          |         |         |           |   0.67  |   8.87   |\n",
      "| NONE | Decision Tree  |   0.75   |    0.67   |  0.65  |   0.73   |   0.55  |   0.4   |    1.0    |   0.66  |   8.69   |\n",
      "| NONE | Random Forest  |   0.79   |    0.72   |  0.72  |   0.89   |   0.67  |   0.24  |    0.5    |   0.72  |   7.42   |\n",
      "| NONE | Gradient Boost |   0.82   |    0.76   |  0.77  |   0.91   |   0.76  |   0.27  |    0.46   |   0.76  |   6.32   |\n",
      "| NONE |   Ada Boost    |   0.81   |    0.74   |  0.77  |   0.9    |   0.77  |   0.29  |    0.49   |   0.75  |   6.61   |\n",
      "| NONE |    xgboost     |   0.81   |    0.74   |  0.77  |   0.9    |   0.72  |   0.2   |    0.52   |   0.75  |   6.55   |\n",
      "+------+----------------+----------+-----------+--------+----------+---------+---------+-----------+---------+----------+\n"
     ]
    }
   ],
   "source": [
    "BestMLAlgo(\"NONE\", x_tr, x_te, y_tr, y_te)"
   ]
  },
  {
   "cell_type": "code",
   "execution_count": 7,
   "id": "877f92dc-3396-4a2d-af22-20a2ab0256ca",
   "metadata": {},
   "outputs": [],
   "source": [
    "from sklearn.preprocessing import StandardScaler\n",
    "\n",
    "scale = StandardScaler()\n",
    "x_std = scale.fit_transform(x)\n",
    "\n",
    "# Random sampling\n",
    "x_train_std, x_test_std, y_train, y_test = train_test_split(x_std, y, test_size=0.2) "
   ]
  },
  {
   "cell_type": "code",
   "execution_count": 8,
   "id": "1fc00a5d-44b8-48b9-8122-073dcfa99160",
   "metadata": {},
   "outputs": [
    {
     "name": "stdout",
     "output_type": "stream",
     "text": [
      "[19:44:06] WARNING: C:/Users/Administrator/workspace/xgboost-win64_release_1.4.0/src/learner.cc:1095: Starting in XGBoost 1.3.0, the default evaluation metric used with the objective 'binary:logistic' was changed from 'error' to 'logloss'. Explicitly set eval_metric if you'd like to restore the old behavior.\n",
      "+------+----------------+----------+-----------+--------+----------+---------+---------+-----------+---------+----------+\n",
      "| Vect |     Model      | Accuracy | Precision | Recall | AUCScore | AVG TPR | AVG FPR | AvgThresh | F1Score | Log loss |\n",
      "+------+----------------+----------+-----------+--------+----------+---------+---------+-----------+---------+----------+\n",
      "| NONE |      kNN       |   0.73   |    0.66   |  0.58  |   0.78   |   0.55  |   0.31  |    0.71   |   0.62  |   9.39   |\n",
      "| NONE |   Log. Reg.    |   0.79   |    0.73   |  0.71  |   0.87   |   0.69  |   0.23  |    0.48   |   0.72  |   7.24   |\n",
      "| NONE |   SVM Linear   |   0.74   |    0.66   |  0.68  |          |         |         |           |   0.67  |   8.87   |\n",
      "| NONE | SVM Non-linear |   0.74   |    0.66   |  0.68  |          |         |         |           |   0.67  |   8.87   |\n",
      "| NONE | Decision Tree  |   0.73   |    0.64   |  0.63  |   0.71   |   0.54  |   0.4   |    1.0    |   0.63  |   9.39   |\n",
      "| NONE | Random Forest  |   0.79   |    0.74   |  0.7   |   0.89   |   0.65  |   0.23  |    0.51   |   0.72  |   7.19   |\n",
      "| NONE | Gradient Boost |   0.82   |    0.76   |  0.77  |   0.91   |   0.75  |   0.27  |    0.46   |   0.76  |   6.32   |\n",
      "| NONE |   Ada Boost    |   0.81   |    0.74   |  0.77  |   0.9    |   0.77  |   0.29  |    0.49   |   0.75  |   6.61   |\n",
      "| NONE |    xgboost     |   0.81   |    0.74   |  0.77  |   0.9    |   0.72  |   0.2   |    0.52   |   0.75  |   6.55   |\n",
      "+------+----------------+----------+-----------+--------+----------+---------+---------+-----------+---------+----------+\n"
     ]
    }
   ],
   "source": [
    "BestMLAlgo(\"NONE\", x_tr, x_te, y_tr, y_te)"
   ]
  },
  {
   "cell_type": "markdown",
   "id": "595c7786-6cc3-4a54-86f4-927cb038cdc9",
   "metadata": {},
   "source": [
    "## Applying Xgboost"
   ]
  },
  {
   "cell_type": "code",
   "execution_count": 9,
   "id": "9c053eed-844f-4e35-82be-3cc97cb7f91b",
   "metadata": {},
   "outputs": [],
   "source": [
    "# This function plots the confusion matrices given y_i, y_i_hat.\n",
    "def plot_confusion_matrix(test_y, predict_y):\n",
    "    C = confusion_matrix(test_y, predict_y)\n",
    "    A =(((C.T)/(C.sum(axis=1))).T)    \n",
    "    B =(C/C.sum(axis=0))\n",
    "    \n",
    "    plt.figure(figsize=(20,4))\n",
    "    labels = [1,2]\n",
    "    # representing A in heatmap format\n",
    "    cmap=sns.light_palette(\"blue\")\n",
    "    plt.subplot(1, 3, 1)\n",
    "    sns.heatmap(C, annot=True, cmap=cmap, fmt=\".3f\", xticklabels=labels, yticklabels=labels)\n",
    "    plt.xlabel('Predicted Class')\n",
    "    plt.ylabel('Original Class')\n",
    "    plt.title(\"Confusion matrix\")\n",
    "    \n",
    "    plt.subplot(1, 3, 2)\n",
    "    sns.heatmap(B, annot=True, cmap=cmap, fmt=\".3f\", xticklabels=labels, yticklabels=labels)\n",
    "    plt.xlabel('Predicted Class')\n",
    "    plt.ylabel('Original Class')\n",
    "    plt.title(\"Precision matrix\")\n",
    "    \n",
    "    plt.subplot(1, 3, 3)\n",
    "    # representing B in heatmap format\n",
    "    sns.heatmap(A, annot=True, cmap=cmap, fmt=\".3f\", xticklabels=labels, yticklabels=labels)\n",
    "    plt.xlabel('Predicted Class')\n",
    "    plt.ylabel('Original Class')\n",
    "    plt.title(\"Recall matrix\")\n",
    "    \n",
    "    plt.show()"
   ]
  },
  {
   "cell_type": "markdown",
   "id": "08e83e60-b88c-4d12-ad12-49e5cc02b9f5",
   "metadata": {},
   "source": [
    "## Worst model"
   ]
  },
  {
   "cell_type": "code",
   "execution_count": 10,
   "id": "151347f4-7853-4970-aba5-dcbccb19a719",
   "metadata": {},
   "outputs": [
    {
     "name": "stdout",
     "output_type": "stream",
     "text": [
      "Log loss on Test Data using Random Model 0.8553870546067108\n"
     ]
    },
    {
     "data": {
      "image/png": "[encoded data removed]",
      "text/plain": [
       "<Figure size 1440x288 with 6 Axes>"
      ]
     },
     "metadata": {
      "needs_background": "light"
     },
     "output_type": "display_data"
    }
   ],
   "source": [
    "def worst_model():\n",
    "    # we need to generate 9 numbers and the sum of numbers should be 1\n",
    "    # one solution is to genarate 9 numbers and divide each of the numbers by their sum\n",
    "    # ref: https://stackoverflow.com/a/18662466/4084039\n",
    "    # we create a output array that has exactly same size as the CV data\n",
    "    test_len = len(y_test)\n",
    "    predicted_y = np.zeros((test_len,2))\n",
    "    for i in range(test_len):\n",
    "        rand_probs = np.random.rand(1,2)\n",
    "        predicted_y[i] = ((rand_probs/sum(sum(rand_probs)))[0])\n",
    "    print(\"Log loss on Test Data using Random Model\",log_loss(y_test, predicted_y, eps=1e-15))\n",
    "\n",
    "    predicted_y =np.argmax(predicted_y, axis=1)\n",
    "    plot_confusion_matrix(y_test, predicted_y)\n",
    "\n",
    "worst_model()"
   ]
  },
  {
   "cell_type": "markdown",
   "id": "9b761193-dc2e-44a8-9ab7-d8431ffbe67c",
   "metadata": {},
   "source": [
    "#### CONCLUSION\n",
    "* Since radom/worst case model gives us log loss = 0.84</br>\n",
    "  therefore; best model should be less than 0.84"
   ]
  },
  {
   "cell_type": "code",
   "execution_count": 13,
   "id": "52e3b7a3-ba67-4ba8-a699-d6849b4d46ee",
   "metadata": {},
   "outputs": [],
   "source": [
    "def xgboost_classifier(nlp_algo, ml_algo, X_train, Y_train, X_test, Y_test):\n",
    "    import random\n",
    "    from prettytable import PrettyTable\n",
    "    \n",
    "    table = PrettyTable()\n",
    "    table.field_names = [\"NLP algo\", \"ML_algo\", \"Train logloss\", \"Test logloss\"] \n",
    "    \n",
    "#     params_dict = [{\"max_depth\":  np.array([3, 6, 9, 12, 15]),\n",
    "#               \"learning_rate\": np.array([0.01, 0.05, 0.1]),\n",
    "#               \"n_estimators\": np.array([20, 35, 50, 70, 100]),\n",
    "#               \"min_child_weight\": np.array(range(2, 8+1)),\n",
    "#               \"gamma\": np.array([10 ** x for x in range(-5, 2)]),\n",
    "#                    }]\n",
    "\n",
    "    params_dict = [{'gamma': [1e-05],\n",
    "                    'learning_rate': [0.01],\n",
    "                    'max_depth': [3], \n",
    "                    'min_child_weight': [2],\n",
    "                    'n_estimators': [20]}]\n",
    "\n",
    "\n",
    "    \n",
    "    \n",
    "    xgb_optimal =  XGBClassifier()\n",
    "\n",
    "    grid = GridSearchCV(estimator=xgb_optimal, \n",
    "                        param_grid=params_dict, \n",
    "                        scoring=log_loss, n_jobs=6, cv=3,\n",
    "                        return_train_score=True)\n",
    "\n",
    "    grid_result = grid.fit(X_train, Y_train)\n",
    "\n",
    "    print(\"Optimal Parameters : \", grid_result.best_estimator_.get_params())\n",
    "    \n",
    "    # Prediction on training and test set using optimal classifier\n",
    "    logProb_train = grid.predict_proba(X_train)\n",
    "    logProb_test = grid.predict_proba(X_test)\n",
    "    pred_train = np.argmax(logProb_train, axis =1)\n",
    "    pred_test = np.argmax(logProb_test, axis =1)\n",
    "    \n",
    "    train_logloss = log_loss(Y_train, pred_train, labels=grid.classes_, eps=1e-15)\n",
    "    test_logloss = log_loss(Y_test, pred_test, labels=grid.classes_, eps=1e-15)\n",
    "    \n",
    "    print(\"Train log loss: \", train_logloss) \n",
    "    print(\"Test log loss: \", test_logloss)\n",
    "    \n",
    "    print(\"Training Confusion Matrix\")\n",
    "    plot_confusion_matrix(y_train, pred_train)\n",
    "    print('\\n\\n')\n",
    "\n",
    "    print(\"Test Confusion Matrix\")\n",
    "    plot_confusion_matrix(y_test, pred_test)\n",
    "    \n",
    "    # Classification report \n",
    "    print(classification_report(Y_test, pred_test))\n",
    "            \n",
    "    grid_param = grid_result.best_estimator_.get_params()\n",
    "    table.add_row([nlp_model, ml_algo, train_logloss, test_logloss])\n",
    "    print(\"-\"*50)\n",
    "    print(table)\n",
    "    return grid"
   ]
  },
  {
   "cell_type": "code",
   "execution_count": 14,
   "id": "a69596db-8965-4302-8ab9-20b24709edb2",
   "metadata": {},
   "outputs": [
    {
     "name": "stdout",
     "output_type": "stream",
     "text": [
      "[19:19:55] WARNING: C:/Users/Administrator/workspace/xgboost-win64_release_1.4.0/src/learner.cc:1095: Starting in XGBoost 1.3.0, the default evaluation metric used with the objective 'binary:logistic' was changed from 'error' to 'logloss'. Explicitly set eval_metric if you'd like to restore the old behavior.\n",
      "Optimal Parameters :  {'objective': 'binary:logistic', 'use_label_encoder': True, 'base_score': 0.5, 'booster': 'gbtree', 'colsample_bylevel': 1, 'colsample_bynode': 1, 'colsample_bytree': 1, 'gamma': 1e-05, 'gpu_id': -1, 'importance_type': 'gain', 'interaction_constraints': '', 'learning_rate': 0.01, 'max_delta_step': 0, 'max_depth': 3, 'min_child_weight': 2, 'missing': nan, 'monotone_constraints': '()', 'n_estimators': 20, 'n_jobs': 4, 'num_parallel_tree': 1, 'random_state': 0, 'reg_alpha': 0, 'reg_lambda': 1, 'scale_pos_weight': 1, 'subsample': 1, 'tree_method': 'exact', 'validate_parameters': 1, 'verbosity': None}\n",
      "Train log loss:  6.896221768432546\n",
      "Test log loss:  7.417793553045198\n",
      "Training Confusion Matrix\n"
     ]
    },
    {
     "data": {
      "image/png": "[encoded data removed]",
      "text/plain": [
       "<Figure size 1440x288 with 6 Axes>"
      ]
     },
     "metadata": {
      "needs_background": "light"
     },
     "output_type": "display_data"
    },
    {
     "name": "stdout",
     "output_type": "stream",
     "text": [
      "\n",
      "\n",
      "\n",
      "Test Confusion Matrix\n"
     ]
    },
    {
     "data": {
      "image/png": "[encoded data removed]",
      "text/plain": [
       "<Figure size 1440x288 with 6 Axes>"
      ]
     },
     "metadata": {
      "needs_background": "light"
     },
     "output_type": "display_data"
    },
    {
     "name": "stdout",
     "output_type": "stream",
     "text": [
      "              precision    recall  f1-score   support\n",
      "\n",
      "         0.0       0.81      0.86      0.84       378\n",
      "         1.0       0.73      0.65      0.69       218\n",
      "\n",
      "    accuracy                           0.79       596\n",
      "   macro avg       0.77      0.76      0.76       596\n",
      "weighted avg       0.78      0.79      0.78       596\n",
      "\n",
      "--------------------------------------------------\n",
      "+---------------+---------+-------------------+-------------------+\n",
      "|    NLP algo   | ML_algo |   Train logloss   |    Test logloss   |\n",
      "+---------------+---------+-------------------+-------------------+\n",
      "| TFIDF AVG W2V | XGBOOST | 6.896221768432546 | 7.417793553045198 |\n",
      "+---------------+---------+-------------------+-------------------+\n"
     ]
    }
   ],
   "source": [
    "nlp_model = \"TFIDF AVG W2V\"\n",
    "ml_model = \"XGBOOST\"\n",
    "model = xgboost_classifier(nlp_model, ml_model, x_train, y_train, x_test, y_test)"
   ]
  },
  {
   "cell_type": "code",
   "execution_count": 16,
   "id": "8da975f4-8dc7-46de-b3a3-d1791bcc74aa",
   "metadata": {
    "tags": []
   },
   "outputs": [
    {
     "data": {
      "text/plain": [
       "['models/TfidfAvgW2V_XGBOOST.joblib']"
      ]
     },
     "execution_count": 16,
     "metadata": {},
     "output_type": "execute_result"
    }
   ],
   "source": [
    "joblib.dump(model, \"models/TfidfAvgW2V_XGBOOST.joblib\")"
   ]
  },
  {
   "cell_type": "code",
   "execution_count": null,
   "id": "3f911dc2-4225-41a1-b630-1a53e165093b",
   "metadata": {},
   "outputs": [],
   "source": []
  }
 ],
 "metadata": {
  "kernelspec": {
   "display_name": "Python 3",
   "language": "python",
   "name": "python3"
  },
  "language_info": {
   "codemirror_mode": {
    "name": "ipython",
    "version": 3
   },
   "file_extension": ".py",
   "mimetype": "text/x-python",
   "name": "python",
   "nbconvert_exporter": "python",
   "pygments_lexer": "ipython3",
   "version": "3.8.8"
  }
 },
 "nbformat": 4,
 "nbformat_minor": 5
}
