{
 "cells": [
  {
   "cell_type": "code",
   "execution_count": 2,
   "metadata": {
    "colab": {
     "base_uri": "https://localhost:8080/",
     "height": 128
    },
    "colab_type": "code",
    "id": "ui_0OcXN9Tx4",
    "outputId": "35bd8200-fce9-4122-e294-f7a3431eef91"
   },
   "outputs": [
    {
     "name": "stdout",
     "output_type": "stream",
     "text": [
      "Go to this URL in a browser: https://accounts.google.com/o/oauth2/auth?client_id=947318989803-6bn6qk8qdgf4n4g3pfee6491hc0brc4i.apps.googleusercontent.com&redirect_uri=urn%3Aietf%3Awg%3Aoauth%3A2.0%3Aoob&scope=email%20https%3A%2F%2Fwww.googleapis.com%2Fauth%2Fdocs.test%20https%3A%2F%2Fwww.googleapis.com%2Fauth%2Fdrive%20https%3A%2F%2Fwww.googleapis.com%2Fauth%2Fdrive.photos.readonly%20https%3A%2F%2Fwww.googleapis.com%2Fauth%2Fpeopleapi.readonly&response_type=code\n",
      "\n",
      "Enter your authorization code:\n",
      "··········\n",
      "Mounted at /content/drive\n"
     ]
    }
   ],
   "source": [
    "from google.colab import drive\n",
    "drive.mount('/content/drive')"
   ]
  },
  {
   "cell_type": "code",
   "execution_count": 3,
   "metadata": {
    "colab": {
     "base_uri": "https://localhost:8080/",
     "height": 74
    },
    "colab_type": "code",
    "id": "6VXPfRp-tARR",
    "outputId": "c6693fa0-8deb-4e6f-ef61-4da50ca06dcb"
   },
   "outputs": [
    {
     "name": "stderr",
     "output_type": "stream",
     "text": [
      "/usr/local/lib/python3.6/dist-packages/sklearn/externals/six.py:31: DeprecationWarning: The module is deprecated in version 0.21 and will be removed in version 0.23 since we've dropped support for Python 2.7. Please rely on the official version of six (https://pypi.org/project/six/).\n",
      "  \"(https://pypi.org/project/six/).\", DeprecationWarning)\n"
     ]
    }
   ],
   "source": [
    "import pandas as pd\n",
    "import matplotlib.pyplot as plt\n",
    "import re\n",
    "import time\n",
    "import warnings\n",
    "import sqlite3\n",
    "from sqlalchemy import create_engine # database connection\n",
    "import csv\n",
    "import os\n",
    "warnings.filterwarnings(\"ignore\")\n",
    "import datetime as dt\n",
    "import numpy as np\n",
    "from nltk.corpus import stopwords\n",
    "from sklearn.decomposition import TruncatedSVD\n",
    "from sklearn.preprocessing import normalize\n",
    "from sklearn.feature_extraction.text import CountVectorizer\n",
    "from sklearn.manifold import TSNE\n",
    "import seaborn as sns\n",
    "from sklearn.neighbors import KNeighborsClassifier\n",
    "from sklearn.metrics import confusion_matrix\n",
    "from sklearn.metrics.classification import accuracy_score, log_loss\n",
    "from sklearn.feature_extraction.text import TfidfVectorizer\n",
    "from collections import Counter\n",
    "from scipy.sparse import hstack\n",
    "from sklearn.multiclass import OneVsRestClassifier\n",
    "from sklearn.svm import SVC\n",
    "from sklearn.model_selection import StratifiedKFold \n",
    "from collections import Counter, defaultdict\n",
    "from sklearn.calibration import CalibratedClassifierCV\n",
    "from sklearn.naive_bayes import MultinomialNB\n",
    "from sklearn.naive_bayes import GaussianNB\n",
    "from sklearn.model_selection import train_test_split\n",
    "from sklearn.model_selection import GridSearchCV\n",
    "from sklearn.model_selection import RandomizedSearchCV\n",
    "import math\n",
    "from sklearn.metrics import normalized_mutual_info_score\n",
    "from sklearn.ensemble import RandomForestClassifier\n",
    "\n",
    "\n",
    "from prettytable import PrettyTable\n",
    "from sklearn.model_selection import cross_val_score\n",
    "from sklearn.linear_model import SGDClassifier\n",
    "from mlxtend.classifier import StackingClassifier\n",
    "\n",
    "from sklearn import model_selection\n",
    "from sklearn.linear_model import LogisticRegression\n",
    "from sklearn.metrics import precision_recall_curve, auc, roc_curve"
   ]
  },
  {
   "cell_type": "code",
   "execution_count": 4,
   "metadata": {
    "colab": {
     "base_uri": "https://localhost:8080/",
     "height": 90
    },
    "colab_type": "code",
    "id": "T3PRb4LPYjo5",
    "outputId": "f48f036f-d4d8-4512-9763-c0744711c80c"
   },
   "outputs": [
    {
     "name": "stdout",
     "output_type": "stream",
     "text": [
      "+-------+-----------------+----------+\n",
      "| Model | Hyperparameters | Log_Loss |\n",
      "+-------+-----------------+----------+\n",
      "+-------+-----------------+----------+\n"
     ]
    }
   ],
   "source": [
    "table = PrettyTable()\n",
    "table.field_names= [\"Model\",\"Hyperparameters\",\"Log_Loss\"]\n",
    "print(table)"
   ]
  },
  {
   "cell_type": "markdown",
   "metadata": {
    "colab_type": "text",
    "id": "ZihvUPvHtARd"
   },
   "source": [
    "<h1>4. Machine Learning Models </h1>"
   ]
  },
  {
   "cell_type": "markdown",
   "metadata": {
    "colab_type": "text",
    "id": "CtN9VBPutARf"
   },
   "source": [
    "<h2> 4.1 Reading data from file and storing into sql table </h2>"
   ]
  },
  {
   "cell_type": "code",
   "execution_count": 0,
   "metadata": {
    "colab": {},
    "colab_type": "code",
    "id": "1Bg-qzXYBrDi"
   },
   "outputs": [],
   "source": [
    "data_dir='/content/drive/My Drive/Colab Notebooks/AppliedAI/Quora_Assignment/'"
   ]
  },
  {
   "cell_type": "code",
   "execution_count": 0,
   "metadata": {
    "colab": {
     "base_uri": "https://localhost:8080/",
     "height": 35
    },
    "colab_type": "code",
    "id": "owBQdjY1tARh",
    "outputId": "7c5f0a1f-a55e-4881-c0a6-8690b591a34b"
   },
   "outputs": [
    {
     "name": "stdout",
     "output_type": "stream",
     "text": [
      "train.db found..!\n"
     ]
    }
   ],
   "source": [
    "#Creating db file from csv\n",
    "if not os.path.isfile(data_dir+'Quora/train.db'):\n",
    "    disk_engine = create_engine('sqlite:///'+data_dir+'Quora/train.db')\n",
    "    start = dt.datetime.now()\n",
    "#     chunksize = 180000\n",
    "    chunksize = 50000\n",
    "    j = 0\n",
    "    index_start = 1\n",
    "    for df in pd.read_csv(data_dir+'final_features.csv', \n",
    "                          names=['Unnamed: 0','id','is_duplicate','cwc_min','cwc_max','csc_min','csc_max','ctc_min','ctc_max','last_word_eq','first_word_eq','abs_len_diff','mean_len','token_set_ratio','token_sort_ratio','fuzz_ratio','fuzz_partial_ratio','longest_substr_ratio','freq_qid1','freq_qid2','q1len','q2len','q1_n_words','q2_n_words','word_Common','word_Total','word_share','freq_q1+q2','freq_q1-q2','0_x','1_x','2_x','3_x','4_x','5_x','6_x','7_x','8_x','9_x','10_x','11_x','12_x','13_x','14_x','15_x','16_x','17_x','18_x','19_x','20_x','21_x','22_x','23_x','24_x','25_x','26_x','27_x','28_x','29_x','30_x','31_x','32_x','33_x','34_x','35_x','36_x','37_x','38_x','39_x','40_x','41_x','42_x','43_x','44_x','45_x','46_x','47_x','48_x','49_x','50_x','51_x','52_x','53_x','54_x','55_x','56_x','57_x','58_x','59_x','60_x','61_x','62_x','63_x','64_x','65_x','66_x','67_x','68_x','69_x','70_x','71_x','72_x','73_x','74_x','75_x','76_x','77_x','78_x','79_x','80_x','81_x','82_x','83_x','84_x','85_x','86_x','87_x','88_x','89_x','90_x','91_x','92_x','93_x','94_x','95_x','96_x','97_x','98_x','99_x','100_x','101_x','102_x','103_x','104_x','105_x','106_x','107_x','108_x','109_x','110_x','111_x','112_x','113_x','114_x','115_x','116_x','117_x','118_x','119_x','120_x','121_x','122_x','123_x','124_x','125_x','126_x','127_x','128_x','129_x','130_x','131_x','132_x','133_x','134_x','135_x','136_x','137_x','138_x','139_x','140_x','141_x','142_x','143_x','144_x','145_x','146_x','147_x','148_x','149_x','150_x','151_x','152_x','153_x','154_x','155_x','156_x','157_x','158_x','159_x','160_x','161_x','162_x','163_x','164_x','165_x','166_x','167_x','168_x','169_x','170_x','171_x','172_x','173_x','174_x','175_x','176_x','177_x','178_x','179_x','180_x','181_x','182_x','183_x','184_x','185_x','186_x','187_x','188_x','189_x','190_x','191_x','192_x','193_x','194_x','195_x','196_x','197_x','198_x','199_x','200_x','201_x','202_x','203_x','204_x','205_x','206_x','207_x','208_x','209_x','210_x','211_x','212_x','213_x','214_x','215_x','216_x','217_x','218_x','219_x','220_x','221_x','222_x','223_x','224_x','225_x','226_x','227_x','228_x','229_x','230_x','231_x','232_x','233_x','234_x','235_x','236_x','237_x','238_x','239_x','240_x','241_x','242_x','243_x','244_x','245_x','246_x','247_x','248_x','249_x','250_x','251_x','252_x','253_x','254_x','255_x','256_x','257_x','258_x','259_x','260_x','261_x','262_x','263_x','264_x','265_x','266_x','267_x','268_x','269_x','270_x','271_x','272_x','273_x','274_x','275_x','276_x','277_x','278_x','279_x','280_x','281_x','282_x','283_x','284_x','285_x','286_x','287_x','288_x','289_x','290_x','291_x','292_x','293_x','294_x','295_x','296_x','297_x','298_x','299_x','300_x','301_x','302_x','303_x','304_x','305_x','306_x','307_x','308_x','309_x','310_x','311_x','312_x','313_x','314_x','315_x','316_x','317_x','318_x','319_x','320_x','321_x','322_x','323_x','324_x','325_x','326_x','327_x','328_x','329_x','330_x','331_x','332_x','333_x','334_x','335_x','336_x','337_x','338_x','339_x','340_x','341_x','342_x','343_x','344_x','345_x','346_x','347_x','348_x','349_x','350_x','351_x','352_x','353_x','354_x','355_x','356_x','357_x','358_x','359_x','360_x','361_x','362_x','363_x','364_x','365_x','366_x','367_x','368_x','369_x','370_x','371_x','372_x','373_x','374_x','375_x','376_x','377_x','378_x','379_x','380_x','381_x','382_x','383_x','0_y','1_y','2_y','3_y','4_y','5_y','6_y','7_y','8_y','9_y','10_y','11_y','12_y','13_y','14_y','15_y','16_y','17_y','18_y','19_y','20_y','21_y','22_y','23_y','24_y','25_y','26_y','27_y','28_y','29_y','30_y','31_y','32_y','33_y','34_y','35_y','36_y','37_y','38_y','39_y','40_y','41_y','42_y','43_y','44_y','45_y','46_y','47_y','48_y','49_y','50_y','51_y','52_y','53_y','54_y','55_y','56_y','57_y','58_y','59_y','60_y','61_y','62_y','63_y','64_y','65_y','66_y','67_y','68_y','69_y','70_y','71_y','72_y','73_y','74_y','75_y','76_y','77_y','78_y','79_y','80_y','81_y','82_y','83_y','84_y','85_y','86_y','87_y','88_y','89_y','90_y','91_y','92_y','93_y','94_y','95_y','96_y','97_y','98_y','99_y','100_y','101_y','102_y','103_y','104_y','105_y','106_y','107_y','108_y','109_y','110_y','111_y','112_y','113_y','114_y','115_y','116_y','117_y','118_y','119_y','120_y','121_y','122_y','123_y','124_y','125_y','126_y','127_y','128_y','129_y','130_y','131_y','132_y','133_y','134_y','135_y','136_y','137_y','138_y','139_y','140_y','141_y','142_y','143_y','144_y','145_y','146_y','147_y','148_y','149_y','150_y','151_y','152_y','153_y','154_y','155_y','156_y','157_y','158_y','159_y','160_y','161_y','162_y','163_y','164_y','165_y','166_y','167_y','168_y','169_y','170_y','171_y','172_y','173_y','174_y','175_y','176_y','177_y','178_y','179_y','180_y','181_y','182_y','183_y','184_y','185_y','186_y','187_y','188_y','189_y','190_y','191_y','192_y','193_y','194_y','195_y','196_y','197_y','198_y','199_y','200_y','201_y','202_y','203_y','204_y','205_y','206_y','207_y','208_y','209_y','210_y','211_y','212_y','213_y','214_y','215_y','216_y','217_y','218_y','219_y','220_y','221_y','222_y','223_y','224_y','225_y','226_y','227_y','228_y','229_y','230_y','231_y','232_y','233_y','234_y','235_y','236_y','237_y','238_y','239_y','240_y','241_y','242_y','243_y','244_y','245_y','246_y','247_y','248_y','249_y','250_y','251_y','252_y','253_y','254_y','255_y','256_y','257_y','258_y','259_y','260_y','261_y','262_y','263_y','264_y','265_y','266_y','267_y','268_y','269_y','270_y','271_y','272_y','273_y','274_y','275_y','276_y','277_y','278_y','279_y','280_y','281_y','282_y','283_y','284_y','285_y','286_y','287_y','288_y','289_y','290_y','291_y','292_y','293_y','294_y','295_y','296_y','297_y','298_y','299_y','300_y','301_y','302_y','303_y','304_y','305_y','306_y','307_y','308_y','309_y','310_y','311_y','312_y','313_y','314_y','315_y','316_y','317_y','318_y','319_y','320_y','321_y','322_y','323_y','324_y','325_y','326_y','327_y','328_y','329_y','330_y','331_y','332_y','333_y','334_y','335_y','336_y','337_y','338_y','339_y','340_y','341_y','342_y','343_y','344_y','345_y','346_y','347_y','348_y','349_y','350_y','351_y','352_y','353_y','354_y','355_y','356_y','357_y','358_y','359_y','360_y','361_y','362_y','363_y','364_y','365_y','366_y','367_y','368_y','369_y','370_y','371_y','372_y','373_y','374_y','375_y','376_y','377_y','378_y','379_y','380_y','381_y','382_y','383_y'], \n",
    "                          chunksize=chunksize, iterator=True, encoding='utf-8', ):\n",
    "        df.index += index_start\n",
    "        j+=1\n",
    "        print('{} rows'.format(j*chunksize))\n",
    "        df.to_sql('data', disk_engine, if_exists='append')\n",
    "        index_start = df.index[-1] + 1\n",
    "else:\n",
    "  print(\"train.db found..!\")"
   ]
  },
  {
   "cell_type": "code",
   "execution_count": 0,
   "metadata": {
    "colab": {},
    "colab_type": "code",
    "id": "4hpD3aBktARn"
   },
   "outputs": [],
   "source": [
    "#http://www.sqlitetutorial.net/sqlite-python/create-tables/\n",
    "def create_connection(db_file):\n",
    "    \"\"\" create a database connection to the SQLite database\n",
    "        specified by db_file\n",
    "    :param db_file: database file\n",
    "    :return: Connection object or None\n",
    "    \"\"\"\n",
    "    try:\n",
    "        conn = sqlite3.connect(db_file)\n",
    "        return conn\n",
    "    except Error as e:\n",
    "        print(e)\n",
    " \n",
    "    return None\n",
    "\n",
    "\n",
    "def checkTableExists(dbcon):\n",
    "    cursr = dbcon.cursor()\n",
    "    str = \"select name from sqlite_master where type='table'\"\n",
    "    table_names = cursr.execute(str)\n",
    "    print(\"Tables in the databse:\")\n",
    "    tables =table_names.fetchall() \n",
    "    print(tables[0][0])\n",
    "    return(len(tables))"
   ]
  },
  {
   "cell_type": "code",
   "execution_count": 0,
   "metadata": {
    "colab": {
     "base_uri": "https://localhost:8080/",
     "height": 54
    },
    "colab_type": "code",
    "id": "nR8ZIUnttARs",
    "outputId": "ce7b6bd8-b58a-4ee0-f6d0-643b54bdd763"
   },
   "outputs": [
    {
     "name": "stdout",
     "output_type": "stream",
     "text": [
      "Tables in the databse:\n",
      "data\n"
     ]
    }
   ],
   "source": [
    "read_db = data_dir+'Quora/train.db'\n",
    "conn_r = create_connection(read_db)\n",
    "checkTableExists(conn_r)\n",
    "conn_r.close()"
   ]
  },
  {
   "cell_type": "code",
   "execution_count": 0,
   "metadata": {
    "colab": {},
    "colab_type": "code",
    "id": "SZq5gaaztARy"
   },
   "outputs": [],
   "source": [
    "# try to sample data according to the computing power you have\n",
    "if os.path.isfile(read_db):\n",
    "    conn_r = create_connection(read_db)\n",
    "    if conn_r is not None:\n",
    "        # for selecting first 1M rows\n",
    "        # data = pd.read_sql_query(\"\"\"SELECT * FROM data LIMIT 100001;\"\"\", conn_r)\n",
    "        \n",
    "        # for selecting random points\n",
    "        # data = pd.read_sql_query(\"SELECT * From data ORDER BY RANDOM() LIMIT 100001;\", conn_r)\n",
    "        \n",
    "        # changing the number to 50k as it is taking ages for 100k\n",
    "        data = pd.read_sql_query(\"SELECT * From data ORDER BY RANDOM() LIMIT 50001;\", conn_r)\n",
    "        conn_r.commit()\n",
    "        conn_r.close()"
   ]
  },
  {
   "cell_type": "code",
   "execution_count": 0,
   "metadata": {
    "colab": {},
    "colab_type": "code",
    "id": "ZkeBKktKtAR3"
   },
   "outputs": [],
   "source": [
    "# remove the first row \n",
    "data.drop(data.index[0], inplace=True)\n",
    "y_true = data['is_duplicate']\n",
    "data.drop(['Unnamed: 0', 'id','index','is_duplicate'], axis=1, inplace=True)"
   ]
  },
  {
   "cell_type": "code",
   "execution_count": 0,
   "metadata": {
    "colab": {
     "base_uri": "https://localhost:8080/",
     "height": 35
    },
    "colab_type": "code",
    "id": "O4HmaxNPH8gl",
    "outputId": "a4d7ad9c-e49a-4981-b140-e0435a908b3f"
   },
   "outputs": [
    {
     "data": {
      "text/plain": [
       "(50000, 794)"
      ]
     },
     "execution_count": 10,
     "metadata": {
      "tags": []
     },
     "output_type": "execute_result"
    }
   ],
   "source": [
    "data.shape"
   ]
  },
  {
   "cell_type": "code",
   "execution_count": 0,
   "metadata": {
    "colab": {
     "base_uri": "https://localhost:8080/",
     "height": 265
    },
    "colab_type": "code",
    "id": "QKSenpsmtAR9",
    "outputId": "bfa6779c-1f8d-44ec-c05a-85ac83e08075"
   },
   "outputs": [
    {
     "data": {
      "text/html": [
       "<div>\n",
       "<style scoped>\n",
       "    .dataframe tbody tr th:only-of-type {\n",
       "        vertical-align: middle;\n",
       "    }\n",
       "\n",
       "    .dataframe tbody tr th {\n",
       "        vertical-align: top;\n",
       "    }\n",
       "\n",
       "    .dataframe thead th {\n",
       "        text-align: right;\n",
       "    }\n",
       "</style>\n",
       "<table border=\"1\" class=\"dataframe\">\n",
       "  <thead>\n",
       "    <tr style=\"text-align: right;\">\n",
       "      <th></th>\n",
       "      <th>cwc_min</th>\n",
       "      <th>cwc_max</th>\n",
       "      <th>csc_min</th>\n",
       "      <th>csc_max</th>\n",
       "      <th>ctc_min</th>\n",
       "      <th>ctc_max</th>\n",
       "      <th>last_word_eq</th>\n",
       "      <th>first_word_eq</th>\n",
       "      <th>abs_len_diff</th>\n",
       "      <th>mean_len</th>\n",
       "      <th>token_set_ratio</th>\n",
       "      <th>token_sort_ratio</th>\n",
       "      <th>fuzz_ratio</th>\n",
       "      <th>fuzz_partial_ratio</th>\n",
       "      <th>longest_substr_ratio</th>\n",
       "      <th>freq_qid1</th>\n",
       "      <th>freq_qid2</th>\n",
       "      <th>q1len</th>\n",
       "      <th>q2len</th>\n",
       "      <th>q1_n_words</th>\n",
       "      <th>q2_n_words</th>\n",
       "      <th>word_Common</th>\n",
       "      <th>word_Total</th>\n",
       "      <th>word_share</th>\n",
       "      <th>freq_q1+q2</th>\n",
       "      <th>freq_q1-q2</th>\n",
       "      <th>0_x</th>\n",
       "      <th>1_x</th>\n",
       "      <th>2_x</th>\n",
       "      <th>3_x</th>\n",
       "      <th>4_x</th>\n",
       "      <th>5_x</th>\n",
       "      <th>6_x</th>\n",
       "      <th>7_x</th>\n",
       "      <th>8_x</th>\n",
       "      <th>9_x</th>\n",
       "      <th>10_x</th>\n",
       "      <th>11_x</th>\n",
       "      <th>12_x</th>\n",
       "      <th>13_x</th>\n",
       "      <th>...</th>\n",
       "      <th>344_y</th>\n",
       "      <th>345_y</th>\n",
       "      <th>346_y</th>\n",
       "      <th>347_y</th>\n",
       "      <th>348_y</th>\n",
       "      <th>349_y</th>\n",
       "      <th>350_y</th>\n",
       "      <th>351_y</th>\n",
       "      <th>352_y</th>\n",
       "      <th>353_y</th>\n",
       "      <th>354_y</th>\n",
       "      <th>355_y</th>\n",
       "      <th>356_y</th>\n",
       "      <th>357_y</th>\n",
       "      <th>358_y</th>\n",
       "      <th>359_y</th>\n",
       "      <th>360_y</th>\n",
       "      <th>361_y</th>\n",
       "      <th>362_y</th>\n",
       "      <th>363_y</th>\n",
       "      <th>364_y</th>\n",
       "      <th>365_y</th>\n",
       "      <th>366_y</th>\n",
       "      <th>367_y</th>\n",
       "      <th>368_y</th>\n",
       "      <th>369_y</th>\n",
       "      <th>370_y</th>\n",
       "      <th>371_y</th>\n",
       "      <th>372_y</th>\n",
       "      <th>373_y</th>\n",
       "      <th>374_y</th>\n",
       "      <th>375_y</th>\n",
       "      <th>376_y</th>\n",
       "      <th>377_y</th>\n",
       "      <th>378_y</th>\n",
       "      <th>379_y</th>\n",
       "      <th>380_y</th>\n",
       "      <th>381_y</th>\n",
       "      <th>382_y</th>\n",
       "      <th>383_y</th>\n",
       "    </tr>\n",
       "  </thead>\n",
       "  <tbody>\n",
       "    <tr>\n",
       "      <th>1</th>\n",
       "      <td>0.999950002499875</td>\n",
       "      <td>0.181816528940646</td>\n",
       "      <td>0.66664444518516</td>\n",
       "      <td>0.285710204139941</td>\n",
       "      <td>0.799984000319994</td>\n",
       "      <td>0.199999000005</td>\n",
       "      <td>0.0</td>\n",
       "      <td>1.0</td>\n",
       "      <td>15.0</td>\n",
       "      <td>12.5</td>\n",
       "      <td>94</td>\n",
       "      <td>41</td>\n",
       "      <td>33</td>\n",
       "      <td>66</td>\n",
       "      <td>0.333333333333333</td>\n",
       "      <td>1</td>\n",
       "      <td>1</td>\n",
       "      <td>114</td>\n",
       "      <td>29</td>\n",
       "      <td>19</td>\n",
       "      <td>5</td>\n",
       "      <td>2.0</td>\n",
       "      <td>22.0</td>\n",
       "      <td>0.0909090909090909</td>\n",
       "      <td>2</td>\n",
       "      <td>0</td>\n",
       "      <td>-85.3459591418505</td>\n",
       "      <td>125.568486452103</td>\n",
       "      <td>31.876295812428</td>\n",
       "      <td>96.7472469210625</td>\n",
       "      <td>-79.3873648643494</td>\n",
       "      <td>27.79312479496</td>\n",
       "      <td>-177.160131514072</td>\n",
       "      <td>-180.27711391449</td>\n",
       "      <td>65.2375163435936</td>\n",
       "      <td>-19.5468770265579</td>\n",
       "      <td>-8.98709356784821</td>\n",
       "      <td>-58.4933117330074</td>\n",
       "      <td>-102.37943816185</td>\n",
       "      <td>-137.561043977737</td>\n",
       "      <td>...</td>\n",
       "      <td>0.885477647185326</td>\n",
       "      <td>1.53697718307376</td>\n",
       "      <td>-4.67616342590191</td>\n",
       "      <td>-7.10287547111511</td>\n",
       "      <td>12.1149072051048</td>\n",
       "      <td>-4.07698553800583</td>\n",
       "      <td>5.24991947412491</td>\n",
       "      <td>1.96274833381176</td>\n",
       "      <td>6.09013909101486</td>\n",
       "      <td>6.53252662718296</td>\n",
       "      <td>16.9059863835573</td>\n",
       "      <td>13.4571490362287</td>\n",
       "      <td>-9.07376509904862</td>\n",
       "      <td>6.70295213535428</td>\n",
       "      <td>-0.83556717261672</td>\n",
       "      <td>-7.86749815940857</td>\n",
       "      <td>-3.54848426580429</td>\n",
       "      <td>0.905137851834297</td>\n",
       "      <td>-2.39231023192406</td>\n",
       "      <td>3.5617288351059</td>\n",
       "      <td>-6.06533962488174</td>\n",
       "      <td>0.669412223622203</td>\n",
       "      <td>-5.4353698194027</td>\n",
       "      <td>-2.52202244102955</td>\n",
       "      <td>4.6273028254509</td>\n",
       "      <td>1.13940976560116</td>\n",
       "      <td>10.0689018368721</td>\n",
       "      <td>0.990645285695791</td>\n",
       "      <td>4.6208560615778</td>\n",
       "      <td>12.5890067666769</td>\n",
       "      <td>-4.89216141402721</td>\n",
       "      <td>8.35149371623993</td>\n",
       "      <td>0.90499260276556</td>\n",
       "      <td>-2.19234795868397</td>\n",
       "      <td>-5.60868179053068</td>\n",
       "      <td>4.09342328924686</td>\n",
       "      <td>-0.779529765248299</td>\n",
       "      <td>-0.166399898007512</td>\n",
       "      <td>-3.12041002511978</td>\n",
       "      <td>1.29996086657047</td>\n",
       "    </tr>\n",
       "    <tr>\n",
       "      <th>2</th>\n",
       "      <td>0.499987500312492</td>\n",
       "      <td>0.499987500312492</td>\n",
       "      <td>0.599988000239995</td>\n",
       "      <td>0.428565306209911</td>\n",
       "      <td>0.555549382784636</td>\n",
       "      <td>0.454541322351615</td>\n",
       "      <td>1.0</td>\n",
       "      <td>1.0</td>\n",
       "      <td>2.0</td>\n",
       "      <td>10.0</td>\n",
       "      <td>73</td>\n",
       "      <td>71</td>\n",
       "      <td>71</td>\n",
       "      <td>69</td>\n",
       "      <td>0.260869565217391</td>\n",
       "      <td>1</td>\n",
       "      <td>2</td>\n",
       "      <td>47</td>\n",
       "      <td>45</td>\n",
       "      <td>11</td>\n",
       "      <td>9</td>\n",
       "      <td>5.0</td>\n",
       "      <td>20.0</td>\n",
       "      <td>0.25</td>\n",
       "      <td>3</td>\n",
       "      <td>1</td>\n",
       "      <td>28.7152041196823</td>\n",
       "      <td>102.300040125847</td>\n",
       "      <td>61.7901307344437</td>\n",
       "      <td>149.324989385903</td>\n",
       "      <td>2.83177876472473</td>\n",
       "      <td>48.5374240875244</td>\n",
       "      <td>-39.9058465957642</td>\n",
       "      <td>-95.5480947345495</td>\n",
       "      <td>43.1472904384136</td>\n",
       "      <td>4.92888584733009</td>\n",
       "      <td>-40.3215506672859</td>\n",
       "      <td>50.1784988641739</td>\n",
       "      <td>-10.6363410055637</td>\n",
       "      <td>-49.4634605646133</td>\n",
       "      <td>...</td>\n",
       "      <td>-14.2931249700487</td>\n",
       "      <td>-12.5736556127667</td>\n",
       "      <td>-17.2872011214495</td>\n",
       "      <td>10.7184909582138</td>\n",
       "      <td>36.6666896520474</td>\n",
       "      <td>-10.1201016306877</td>\n",
       "      <td>-10.428794439882</td>\n",
       "      <td>6.28767335414887</td>\n",
       "      <td>-17.574275970459</td>\n",
       "      <td>5.44762632250786</td>\n",
       "      <td>24.8633283227682</td>\n",
       "      <td>-8.36484111845493</td>\n",
       "      <td>2.17521238420159</td>\n",
       "      <td>-20.1844358891249</td>\n",
       "      <td>-14.4738538041711</td>\n",
       "      <td>-24.1612150967121</td>\n",
       "      <td>-7.44903835654259</td>\n",
       "      <td>5.69680839776993</td>\n",
       "      <td>14.1035834550858</td>\n",
       "      <td>7.20335249602795</td>\n",
       "      <td>-21.8754424750805</td>\n",
       "      <td>-6.11558823287487</td>\n",
       "      <td>18.6613321304321</td>\n",
       "      <td>-7.0145745575428</td>\n",
       "      <td>20.7445233054459</td>\n",
       "      <td>19.5110548585653</td>\n",
       "      <td>-16.2410762906075</td>\n",
       "      <td>11.1624874323606</td>\n",
       "      <td>-8.4198195040226</td>\n",
       "      <td>-14.8315860331059</td>\n",
       "      <td>10.3469033017755</td>\n",
       "      <td>10.6902670189738</td>\n",
       "      <td>2.59925612807274</td>\n",
       "      <td>-4.90873806690797</td>\n",
       "      <td>6.8922843337059</td>\n",
       "      <td>4.39012718200684</td>\n",
       "      <td>-18.3507874011993</td>\n",
       "      <td>23.3305455297232</td>\n",
       "      <td>-0.964614599943161</td>\n",
       "      <td>0.68968285061419</td>\n",
       "    </tr>\n",
       "    <tr>\n",
       "      <th>3</th>\n",
       "      <td>0.666655555740738</td>\n",
       "      <td>0.571420408279882</td>\n",
       "      <td>0.499987500312492</td>\n",
       "      <td>0.399992000159997</td>\n",
       "      <td>0.545449586821938</td>\n",
       "      <td>0.545449586821938</td>\n",
       "      <td>0.0</td>\n",
       "      <td>0.0</td>\n",
       "      <td>0.0</td>\n",
       "      <td>11.0</td>\n",
       "      <td>73</td>\n",
       "      <td>69</td>\n",
       "      <td>67</td>\n",
       "      <td>67</td>\n",
       "      <td>0.265625</td>\n",
       "      <td>1</td>\n",
       "      <td>4</td>\n",
       "      <td>63</td>\n",
       "      <td>65</td>\n",
       "      <td>11</td>\n",
       "      <td>12</td>\n",
       "      <td>6.0</td>\n",
       "      <td>23.0</td>\n",
       "      <td>0.260869565217391</td>\n",
       "      <td>5</td>\n",
       "      <td>3</td>\n",
       "      <td>-14.4464862942696</td>\n",
       "      <td>81.468402966857</td>\n",
       "      <td>30.4611067771912</td>\n",
       "      <td>133.249725461006</td>\n",
       "      <td>-55.5779926776886</td>\n",
       "      <td>52.8698387145996</td>\n",
       "      <td>-77.0619264617563</td>\n",
       "      <td>-92.2418439388275</td>\n",
       "      <td>34.3037858009338</td>\n",
       "      <td>-28.7990303039551</td>\n",
       "      <td>-50.548225581646</td>\n",
       "      <td>-10.489264190197</td>\n",
       "      <td>-21.9207191467285</td>\n",
       "      <td>-43.5489989519119</td>\n",
       "      <td>...</td>\n",
       "      <td>-2.43974298238754</td>\n",
       "      <td>-20.0534595251083</td>\n",
       "      <td>-17.5960883535445</td>\n",
       "      <td>1.45508454740047</td>\n",
       "      <td>20.2246660292149</td>\n",
       "      <td>-21.1227210462093</td>\n",
       "      <td>-17.3223742395639</td>\n",
       "      <td>-10.3944146633148</td>\n",
       "      <td>-31.0023453235626</td>\n",
       "      <td>25.8265548199415</td>\n",
       "      <td>26.0864016711712</td>\n",
       "      <td>10.4139163615182</td>\n",
       "      <td>-11.7224054038525</td>\n",
       "      <td>-14.2681686356664</td>\n",
       "      <td>10.3104092925787</td>\n",
       "      <td>-26.6746992468834</td>\n",
       "      <td>-25.2058066427708</td>\n",
       "      <td>24.1437789946794</td>\n",
       "      <td>1.95643658190966</td>\n",
       "      <td>-7.1115125566721</td>\n",
       "      <td>-17.1472481489182</td>\n",
       "      <td>6.17532496154308</td>\n",
       "      <td>35.7439393401146</td>\n",
       "      <td>-10.2593070864677</td>\n",
       "      <td>9.32987613976002</td>\n",
       "      <td>-2.21264850348234</td>\n",
       "      <td>6.33599585294724</td>\n",
       "      <td>34.2153151035309</td>\n",
       "      <td>-3.74119085073471</td>\n",
       "      <td>-14.3433989286423</td>\n",
       "      <td>-3.85105261951685</td>\n",
       "      <td>19.2504652142525</td>\n",
       "      <td>20.3883509933949</td>\n",
       "      <td>-11.1053389906883</td>\n",
       "      <td>7.63580176234245</td>\n",
       "      <td>19.7212549448013</td>\n",
       "      <td>0.772680208086968</td>\n",
       "      <td>-0.973012406378984</td>\n",
       "      <td>0.661315619945526</td>\n",
       "      <td>16.5347160324454</td>\n",
       "    </tr>\n",
       "    <tr>\n",
       "      <th>4</th>\n",
       "      <td>0.599988000239995</td>\n",
       "      <td>0.499991666805553</td>\n",
       "      <td>0.999975000624984</td>\n",
       "      <td>0.799984000319994</td>\n",
       "      <td>0.77776913589849</td>\n",
       "      <td>0.636357851292261</td>\n",
       "      <td>1.0</td>\n",
       "      <td>0.0</td>\n",
       "      <td>2.0</td>\n",
       "      <td>10.0</td>\n",
       "      <td>85</td>\n",
       "      <td>84</td>\n",
       "      <td>62</td>\n",
       "      <td>67</td>\n",
       "      <td>0.243243243243243</td>\n",
       "      <td>1</td>\n",
       "      <td>2</td>\n",
       "      <td>47</td>\n",
       "      <td>36</td>\n",
       "      <td>11</td>\n",
       "      <td>9</td>\n",
       "      <td>7.0</td>\n",
       "      <td>20.0</td>\n",
       "      <td>0.35</td>\n",
       "      <td>3</td>\n",
       "      <td>1</td>\n",
       "      <td>45.1597325056791</td>\n",
       "      <td>23.0066236257553</td>\n",
       "      <td>-15.6376709342003</td>\n",
       "      <td>59.2939745187759</td>\n",
       "      <td>-18.4834046959877</td>\n",
       "      <td>16.7836152091622</td>\n",
       "      <td>-61.1630162596703</td>\n",
       "      <td>46.5569097837433</td>\n",
       "      <td>74.2646427154541</td>\n",
       "      <td>12.0660248994827</td>\n",
       "      <td>-15.0384992361069</td>\n",
       "      <td>-3.72021996974945</td>\n",
       "      <td>30.8065390586853</td>\n",
       "      <td>-44.5345702171326</td>\n",
       "      <td>...</td>\n",
       "      <td>-11.8774635754526</td>\n",
       "      <td>7.73562116455287</td>\n",
       "      <td>-13.3850258216262</td>\n",
       "      <td>14.6785417348146</td>\n",
       "      <td>24.4209833592176</td>\n",
       "      <td>-8.91395534574986</td>\n",
       "      <td>-16.7131457701325</td>\n",
       "      <td>11.6524472758174</td>\n",
       "      <td>-16.6561478674412</td>\n",
       "      <td>-2.86735264956951</td>\n",
       "      <td>1.93162196874619</td>\n",
       "      <td>-7.18659728765488</td>\n",
       "      <td>-17.3669014051557</td>\n",
       "      <td>-16.675608932972</td>\n",
       "      <td>-5.12318405602127</td>\n",
       "      <td>-25.889378786087</td>\n",
       "      <td>-3.2129515260458</td>\n",
       "      <td>17.5611988827586</td>\n",
       "      <td>9.19471952319145</td>\n",
       "      <td>3.77253928780556</td>\n",
       "      <td>-26.7727954983711</td>\n",
       "      <td>0.467163741588592</td>\n",
       "      <td>-7.91911780834198</td>\n",
       "      <td>-4.52207556366921</td>\n",
       "      <td>19.2470599270891</td>\n",
       "      <td>17.9302244186401</td>\n",
       "      <td>-13.9538625329733</td>\n",
       "      <td>1.66944885626435</td>\n",
       "      <td>-5.61135149560869</td>\n",
       "      <td>-5.54588814079762</td>\n",
       "      <td>8.90462726354599</td>\n",
       "      <td>20.021293990314</td>\n",
       "      <td>-1.7597690820694</td>\n",
       "      <td>-2.44445772469044</td>\n",
       "      <td>10.5504274312407</td>\n",
       "      <td>3.94394192844629</td>\n",
       "      <td>-15.0324510037899</td>\n",
       "      <td>24.2937742471695</td>\n",
       "      <td>9.62614405155182</td>\n",
       "      <td>-1.76378478854895</td>\n",
       "    </tr>\n",
       "    <tr>\n",
       "      <th>5</th>\n",
       "      <td>0.399992000159997</td>\n",
       "      <td>0.333327777870369</td>\n",
       "      <td>0.499975001249937</td>\n",
       "      <td>0.166663888935184</td>\n",
       "      <td>0.374995312558593</td>\n",
       "      <td>0.249997916684028</td>\n",
       "      <td>0.0</td>\n",
       "      <td>0.0</td>\n",
       "      <td>4.0</td>\n",
       "      <td>10.0</td>\n",
       "      <td>56</td>\n",
       "      <td>52</td>\n",
       "      <td>50</td>\n",
       "      <td>53</td>\n",
       "      <td>0.230769230769231</td>\n",
       "      <td>1</td>\n",
       "      <td>1</td>\n",
       "      <td>51</td>\n",
       "      <td>54</td>\n",
       "      <td>8</td>\n",
       "      <td>12</td>\n",
       "      <td>3.0</td>\n",
       "      <td>19.0</td>\n",
       "      <td>0.157894736842105</td>\n",
       "      <td>2</td>\n",
       "      <td>0</td>\n",
       "      <td>9.85026514530182</td>\n",
       "      <td>102.39078104496</td>\n",
       "      <td>109.090137004852</td>\n",
       "      <td>10.8721338510513</td>\n",
       "      <td>-105.96025704639</td>\n",
       "      <td>110.994012653828</td>\n",
       "      <td>-58.5683436393738</td>\n",
       "      <td>-31.5997442007065</td>\n",
       "      <td>114.604485809803</td>\n",
       "      <td>-127.066118240356</td>\n",
       "      <td>-26.2889387607574</td>\n",
       "      <td>62.9757892489433</td>\n",
       "      <td>-17.7726374864578</td>\n",
       "      <td>-42.9101067781448</td>\n",
       "      <td>...</td>\n",
       "      <td>-10.9655911773443</td>\n",
       "      <td>-0.459929946810007</td>\n",
       "      <td>-16.3372512832284</td>\n",
       "      <td>16.2067023701966</td>\n",
       "      <td>15.1368726268411</td>\n",
       "      <td>-15.9765830636024</td>\n",
       "      <td>-15.4003917276859</td>\n",
       "      <td>9.4471592605114</td>\n",
       "      <td>-13.742881976068</td>\n",
       "      <td>-1.70835877582431</td>\n",
       "      <td>14.5827493049437</td>\n",
       "      <td>-17.7031090799719</td>\n",
       "      <td>-8.21848106384277</td>\n",
       "      <td>-20.4886628761888</td>\n",
       "      <td>-3.13873569667339</td>\n",
       "      <td>-20.9963827133179</td>\n",
       "      <td>-12.9269651789218</td>\n",
       "      <td>15.2717788517475</td>\n",
       "      <td>4.18653851747513</td>\n",
       "      <td>4.36394605785608</td>\n",
       "      <td>-23.0248131155968</td>\n",
       "      <td>-8.13356824964285</td>\n",
       "      <td>-8.67047789692879</td>\n",
       "      <td>-3.71836026012897</td>\n",
       "      <td>14.6491433233023</td>\n",
       "      <td>12.6750135794282</td>\n",
       "      <td>-4.87230254709721</td>\n",
       "      <td>7.0067712366581</td>\n",
       "      <td>-9.16881394386292</td>\n",
       "      <td>-9.65061098337174</td>\n",
       "      <td>5.47409308701754</td>\n",
       "      <td>10.3517794013023</td>\n",
       "      <td>0.223331005312502</td>\n",
       "      <td>-1.6587058454752</td>\n",
       "      <td>8.67418191768229</td>\n",
       "      <td>4.36688928306103</td>\n",
       "      <td>-6.9955610781908</td>\n",
       "      <td>11.3218600414693</td>\n",
       "      <td>17.5047041326761</td>\n",
       "      <td>-0.802240759134293</td>\n",
       "    </tr>\n",
       "  </tbody>\n",
       "</table>\n",
       "<p>5 rows × 794 columns</p>\n",
       "</div>"
      ],
      "text/plain": [
       "             cwc_min            cwc_max  ...               382_y               383_y\n",
       "1  0.999950002499875  0.181816528940646  ...   -3.12041002511978    1.29996086657047\n",
       "2  0.499987500312492  0.499987500312492  ...  -0.964614599943161    0.68968285061419\n",
       "3  0.666655555740738  0.571420408279882  ...   0.661315619945526    16.5347160324454\n",
       "4  0.599988000239995  0.499991666805553  ...    9.62614405155182   -1.76378478854895\n",
       "5  0.399992000159997  0.333327777870369  ...    17.5047041326761  -0.802240759134293\n",
       "\n",
       "[5 rows x 794 columns]"
      ]
     },
     "execution_count": 11,
     "metadata": {
      "tags": []
     },
     "output_type": "execute_result"
    }
   ],
   "source": [
    "data.head()"
   ]
  },
  {
   "cell_type": "markdown",
   "metadata": {
    "colab_type": "text",
    "id": "KaWHDzqUtASD"
   },
   "source": [
    "<h2> 4.2 Converting strings to numerics </h2>"
   ]
  },
  {
   "cell_type": "code",
   "execution_count": 0,
   "metadata": {
    "colab": {},
    "colab_type": "code",
    "id": "iLV60gkptASD"
   },
   "outputs": [],
   "source": [
    "# after we read from sql table each entry was read it as a string\n",
    "# we convert all the features into numaric before we apply any model\n",
    "# cols = list(data.columns)\n",
    "# for i in cols:\n",
    "#     data[i] = data[i].apply(pd.to_numeric)\n",
    "#     print(i)\n",
    "\n",
    "# Faster and cleaner code\n",
    "data=data.astype(float)"
   ]
  },
  {
   "cell_type": "code",
   "execution_count": 0,
   "metadata": {
    "colab": {},
    "colab_type": "code",
    "id": "_LpfQwc9tASJ"
   },
   "outputs": [],
   "source": [
    "# https://stackoverflow.com/questions/7368789/convert-all-strings-in-a-list-to-int\n",
    "y_true = list(map(int, y_true.values))"
   ]
  },
  {
   "cell_type": "markdown",
   "metadata": {
    "colab_type": "text",
    "id": "CuMTqWGutASO"
   },
   "source": [
    "<h2> 4.3 Random train test split( 70:30) </h2>"
   ]
  },
  {
   "cell_type": "code",
   "execution_count": 0,
   "metadata": {
    "colab": {},
    "colab_type": "code",
    "id": "3Rat2obGtASP"
   },
   "outputs": [],
   "source": [
    "X_train,X_test, y_train, y_test = train_test_split(data, y_true, \n",
    "                                  stratify=y_true, test_size=0.3)"
   ]
  },
  {
   "cell_type": "code",
   "execution_count": 0,
   "metadata": {
    "colab": {
     "base_uri": "https://localhost:8080/",
     "height": 54
    },
    "colab_type": "code",
    "id": "1Iw9zCHqtASS",
    "outputId": "250109a7-5d94-4f12-903d-2de1d8071c0c"
   },
   "outputs": [
    {
     "name": "stdout",
     "output_type": "stream",
     "text": [
      "Number of data points in train data : (35000, 794)\n",
      "Number of data points in test data : (15000, 794)\n"
     ]
    }
   ],
   "source": [
    "print(\"Number of data points in train data :\",X_train.shape)\n",
    "print(\"Number of data points in test data :\",X_test.shape)"
   ]
  },
  {
   "cell_type": "code",
   "execution_count": 0,
   "metadata": {
    "colab": {
     "base_uri": "https://localhost:8080/",
     "height": 90
    },
    "colab_type": "code",
    "id": "0oDV15LJtASY",
    "outputId": "00ea5253-3065-4ed8-ba9f-56b8afb6f351"
   },
   "outputs": [
    {
     "name": "stdout",
     "output_type": "stream",
     "text": [
      "---------- Distribution of output variable in train data ----------\n",
      "Class 0:  0.6280571428571429 Class 1:  0.37194285714285713\n",
      "---------- Distribution of output variable in test data ----------\n",
      "Class 0:  0.37193333333333334 Class 1:  0.37193333333333334\n"
     ]
    }
   ],
   "source": [
    "print(\"-\"*10, \"Distribution of output variable in train data\", \"-\"*10)\n",
    "train_distr = Counter(y_train)\n",
    "train_len = len(y_train)\n",
    "print(\"Class 0: \",int(train_distr[0])/train_len,\"Class 1: \", int(train_distr[1])/train_len)\n",
    "print(\"-\"*10, \"Distribution of output variable in test data\", \"-\"*10)\n",
    "test_distr = Counter(y_test)\n",
    "test_len = len(y_test)\n",
    "print(\"Class 0: \",int(test_distr[1])/test_len, \"Class 1: \",int(test_distr[1])/test_len)"
   ]
  },
  {
   "cell_type": "code",
   "execution_count": 0,
   "metadata": {
    "colab": {},
    "colab_type": "code",
    "id": "XfxcPT6jtASg"
   },
   "outputs": [],
   "source": [
    "# This function plots the confusion matrices given y_i, y_i_hat.\n",
    "def plot_confusion_matrix(test_y, predict_y):\n",
    "    C = confusion_matrix(test_y, predict_y)\n",
    "    # C = 9,9 matrix, each cell (i,j) represents number of points of class i are predicted class j\n",
    "    \n",
    "    A =(((C.T)/(C.sum(axis=1))).T)\n",
    "    #divid each element of the confusion matrix with the sum of elements in that column\n",
    "    \n",
    "    # C = [[1, 2],\n",
    "    #     [3, 4]]\n",
    "    # C.T = [[1, 3],\n",
    "    #        [2, 4]]\n",
    "    # C.sum(axis = 1)  axis=0 corresonds to columns and axis=1 corresponds to rows in two diamensional array\n",
    "    # C.sum(axix =1) = [[3, 7]]\n",
    "    # ((C.T)/(C.sum(axis=1))) = [[1/3, 3/7]\n",
    "    #                           [2/3, 4/7]]\n",
    "\n",
    "    # ((C.T)/(C.sum(axis=1))).T = [[1/3, 2/3]\n",
    "    #                           [3/7, 4/7]]\n",
    "    # sum of row elements = 1\n",
    "    \n",
    "    B =(C/C.sum(axis=0))\n",
    "    #divid each element of the confusion matrix with the sum of elements in that row\n",
    "    # C = [[1, 2],\n",
    "    #     [3, 4]]\n",
    "    # C.sum(axis = 0)  axis=0 corresonds to columns and axis=1 corresponds to rows in two diamensional array\n",
    "    # C.sum(axix =0) = [[4, 6]]\n",
    "    # (C/C.sum(axis=0)) = [[1/4, 2/6],\n",
    "    #                      [3/4, 4/6]] \n",
    "    plt.figure(figsize=(20,4))\n",
    "    \n",
    "    labels = [1,2]\n",
    "    # representing A in heatmap format\n",
    "    cmap=sns.light_palette(\"blue\")\n",
    "    plt.subplot(1, 3, 1)\n",
    "    sns.heatmap(C, annot=True, cmap=cmap, fmt=\".3f\", xticklabels=labels, yticklabels=labels)\n",
    "    plt.xlabel('Predicted Class')\n",
    "    plt.ylabel('Original Class')\n",
    "    plt.title(\"Confusion matrix\")\n",
    "    \n",
    "    plt.subplot(1, 3, 2)\n",
    "    sns.heatmap(B, annot=True, cmap=cmap, fmt=\".3f\", xticklabels=labels, yticklabels=labels)\n",
    "    plt.xlabel('Predicted Class')\n",
    "    plt.ylabel('Original Class')\n",
    "    plt.title(\"Precision matrix\")\n",
    "    \n",
    "    plt.subplot(1, 3, 3)\n",
    "    # representing B in heatmap format\n",
    "    sns.heatmap(A, annot=True, cmap=cmap, fmt=\".3f\", xticklabels=labels, yticklabels=labels)\n",
    "    plt.xlabel('Predicted Class')\n",
    "    plt.ylabel('Original Class')\n",
    "    plt.title(\"Recall matrix\")\n",
    "    \n",
    "    plt.show()"
   ]
  },
  {
   "cell_type": "markdown",
   "metadata": {
    "colab_type": "text",
    "id": "UStQJ5F_tASk"
   },
   "source": [
    "<h2> 4.4 Building a random model (Finding worst-case log-loss) </h2>"
   ]
  },
  {
   "cell_type": "code",
   "execution_count": 0,
   "metadata": {
    "colab": {
     "base_uri": "https://localhost:8080/",
     "height": 334
    },
    "colab_type": "code",
    "id": "qwMDqcU7tASl",
    "outputId": "32010563-f839-4f30-9330-9e38bb0f9eb0"
   },
   "outputs": [
    {
     "name": "stdout",
     "output_type": "stream",
     "text": [
      "Log loss on Test Data using Random Model 0.8869456220491898\n"
     ]
    },
    {
     "data": {
      "image/png": "[encoded data removed]",
      "text/plain": [
       "<Figure size 1440x288 with 6 Axes>"
      ]
     },
     "metadata": {
      "tags": []
     },
     "output_type": "display_data"
    }
   ],
   "source": [
    "# we need to generate 9 numbers and the sum of numbers should be 1\n",
    "# one solution is to genarate 9 numbers and divide each of the numbers by their sum\n",
    "# ref: https://stackoverflow.com/a/18662466/4084039\n",
    "# we create a output array that has exactly same size as the CV data\n",
    "predicted_y = np.zeros((test_len,2))\n",
    "for i in range(test_len):\n",
    "    rand_probs = np.random.rand(1,2)\n",
    "    predicted_y[i] = ((rand_probs/sum(sum(rand_probs)))[0])\n",
    "print(\"Log loss on Test Data using Random Model\",log_loss(y_test, predicted_y, eps=1e-15))\n",
    "\n",
    "predicted_y =np.argmax(predicted_y, axis=1)\n",
    "plot_confusion_matrix(y_test, predicted_y)"
   ]
  },
  {
   "cell_type": "markdown",
   "metadata": {
    "colab_type": "text",
    "id": "YgY29g_qtASq"
   },
   "source": [
    "<h2> 4.4 Logistic Regression with hyperparameter tuning </h2>"
   ]
  },
  {
   "cell_type": "code",
   "execution_count": 0,
   "metadata": {
    "colab": {
     "base_uri": "https://localhost:8080/",
     "height": 775
    },
    "colab_type": "code",
    "id": "Wb2tOE3GtASr",
    "outputId": "6cc83fde-e8a9-46e8-f794-c683c846eab2"
   },
   "outputs": [
    {
     "name": "stdout",
     "output_type": "stream",
     "text": [
      "For values of alpha =  1e-05 The log loss is: 0.56662713178077\n",
      "For values of alpha =  0.0001 The log loss is: 0.45626538982765824\n",
      "For values of alpha =  0.001 The log loss is: 0.451440451281298\n",
      "For values of alpha =  0.01 The log loss is: 0.44340750607505\n",
      "For values of alpha =  0.1 The log loss is: 0.4414283106295279\n",
      "For values of alpha =  1 The log loss is: 0.46537051003351315\n",
      "For values of alpha =  10 The log loss is: 0.5084292621090118\n"
     ]
    },
    {
     "data": {
      "image/png": "[encoded data removed]",
      "text/plain": [
       "<Figure size 432x288 with 1 Axes>"
      ]
     },
     "metadata": {
      "tags": []
     },
     "output_type": "display_data"
    },
    {
     "name": "stdout",
     "output_type": "stream",
     "text": [
      "For values of best alpha =  0.1 The train log loss is: 0.43291199173090306\n",
      "For values of best alpha =  0.1 The test log loss is: 0.4414283106295279\n",
      "Total number of data points : 30000\n"
     ]
    },
    {
     "data": {
      "image/png": "[encoded data removed]",
      "text/plain": [
       "<Figure size 1440x288 with 6 Axes>"
      ]
     },
     "metadata": {
      "tags": []
     },
     "output_type": "display_data"
    }
   ],
   "source": [
    "alpha = [10 ** x for x in range(-5, 2)] # hyperparam for SGD classifier.\n",
    "\n",
    "# read more about SGDClassifier() at http://scikit-learn.org/stable/modules/generated/sklearn.linear_model.SGDClassifier.html\n",
    "# ------------------------------\n",
    "# default parameters\n",
    "# SGDClassifier(loss=’hinge’, penalty=’l2’, alpha=0.0001, l1_ratio=0.15, fit_intercept=True, max_iter=None, tol=None, \n",
    "# shuffle=True, verbose=0, epsilon=0.1, n_jobs=1, random_state=None, learning_rate=’optimal’, eta0=0.0, power_t=0.5, \n",
    "# class_weight=None, warm_start=False, average=False, n_iter=None)\n",
    "\n",
    "# some of methods\n",
    "# fit(X, y[, coef_init, intercept_init, …])\tFit linear model with Stochastic Gradient Descent.\n",
    "# predict(X)\tPredict class labels for samples in X.\n",
    "\n",
    "#-------------------------------\n",
    "# video link: \n",
    "#------------------------------\n",
    "\n",
    "\n",
    "log_error_array=[]\n",
    "for i in alpha:\n",
    "    clf = SGDClassifier(alpha=i, penalty='l2', loss='log', random_state=42)\n",
    "    clf.fit(X_train, y_train)\n",
    "    sig_clf = CalibratedClassifierCV(clf, method=\"sigmoid\")\n",
    "    sig_clf.fit(X_train, y_train)\n",
    "    predict_y = sig_clf.predict_proba(X_test)\n",
    "    log_error_array.append(log_loss(y_test, predict_y, labels=clf.classes_, eps=1e-15))\n",
    "    print('For values of alpha = ', i, \"The log loss is:\",log_loss(y_test, predict_y, labels=clf.classes_, eps=1e-15))\n",
    "\n",
    "fig, ax = plt.subplots()\n",
    "ax.plot(alpha, log_error_array,c='g')\n",
    "for i, txt in enumerate(np.round(log_error_array,3)):\n",
    "    ax.annotate((alpha[i],np.round(txt,3)), (alpha[i],log_error_array[i]))\n",
    "plt.grid()\n",
    "plt.title(\"Cross Validation Error for each alpha\")\n",
    "plt.xlabel(\"Alpha i's\")\n",
    "plt.ylabel(\"Error measure\")\n",
    "plt.show()\n",
    "\n",
    "\n",
    "best_alpha = np.argmin(log_error_array)\n",
    "clf = SGDClassifier(alpha=alpha[best_alpha], penalty='l2', loss='log', random_state=42)\n",
    "clf.fit(X_train, y_train)\n",
    "sig_clf = CalibratedClassifierCV(clf, method=\"sigmoid\")\n",
    "sig_clf.fit(X_train, y_train)\n",
    "\n",
    "predict_y = sig_clf.predict_proba(X_train)\n",
    "print('For values of best alpha = ', alpha[best_alpha], \"The train log loss is:\",log_loss(y_train, predict_y, labels=clf.classes_, eps=1e-15))\n",
    "predict_y = sig_clf.predict_proba(X_test)\n",
    "print('For values of best alpha = ', alpha[best_alpha], \"The test log loss is:\",log_loss(y_test, predict_y, labels=clf.classes_, eps=1e-15))\n",
    "predicted_y =np.argmax(predict_y,axis=1)\n",
    "print(\"Total number of data points :\", len(predicted_y))\n",
    "plot_confusion_matrix(y_test, predicted_y)"
   ]
  },
  {
   "cell_type": "markdown",
   "metadata": {
    "colab_type": "text",
    "id": "ouQSEnr3tASy"
   },
   "source": [
    "<h2> 4.5 Linear SVM with hyperparameter tuning </h2>"
   ]
  },
  {
   "cell_type": "code",
   "execution_count": 0,
   "metadata": {
    "colab": {},
    "colab_type": "code",
    "id": "AOFfZ5PLtAS0",
    "outputId": "d31eb598-e275-48cb-c49b-98e9eb76d8ba"
   },
   "outputs": [
    {
     "name": "stdout",
     "output_type": "stream",
     "text": [
      "For values of alpha =  1e-05 The log loss is: 0.657611721261\n",
      "For values of alpha =  0.0001 The log loss is: 0.489669093534\n",
      "For values of alpha =  0.001 The log loss is: 0.521829068562\n",
      "For values of alpha =  0.01 The log loss is: 0.566295616914\n",
      "For values of alpha =  0.1 The log loss is: 0.599957866217\n",
      "For values of alpha =  1 The log loss is: 0.635059427016\n",
      "For values of alpha =  10 The log loss is: 0.654159467907\n"
     ]
    },
    {
     "data": {
      "image/png": "[encoded data removed]",
      "text/plain": [
       "<matplotlib.figure.Figure at 0x2568b154438>"
      ]
     },
     "metadata": {
      "tags": []
     },
     "output_type": "display_data"
    },
    {
     "name": "stdout",
     "output_type": "stream",
     "text": [
      "For values of best alpha =  0.0001 The train log loss is: 0.478054677285\n",
      "For values of best alpha =  0.0001 The test log loss is: 0.489669093534\n",
      "Total number of data points : 30000\n"
     ]
    },
    {
     "data": {
      "image/png": "[encoded data removed]",
      "text/plain": [
       "<matplotlib.figure.Figure at 0x2567423deb8>"
      ]
     },
     "metadata": {
      "tags": []
     },
     "output_type": "display_data"
    }
   ],
   "source": [
    "alpha = [10 ** x for x in range(-5, 2)] # hyperparam for SGD classifier.\n",
    "\n",
    "# read more about SGDClassifier() at http://scikit-learn.org/stable/modules/generated/sklearn.linear_model.SGDClassifier.html\n",
    "# ------------------------------\n",
    "# default parameters\n",
    "# SGDClassifier(loss=’hinge’, penalty=’l2’, alpha=0.0001, l1_ratio=0.15, fit_intercept=True, max_iter=None, tol=None, \n",
    "# shuffle=True, verbose=0, epsilon=0.1, n_jobs=1, random_state=None, learning_rate=’optimal’, eta0=0.0, power_t=0.5, \n",
    "# class_weight=None, warm_start=False, average=False, n_iter=None)\n",
    "\n",
    "# some of methods\n",
    "# fit(X, y[, coef_init, intercept_init, …])\tFit linear model with Stochastic Gradient Descent.\n",
    "# predict(X)\tPredict class labels for samples in X.\n",
    "\n",
    "#-------------------------------\n",
    "# video link: \n",
    "#------------------------------\n",
    "\n",
    "\n",
    "log_error_array=[]\n",
    "for i in alpha:\n",
    "    clf = SGDClassifier(alpha=i, penalty='l1', loss='hinge', random_state=42)\n",
    "    clf.fit(X_train, y_train)\n",
    "    sig_clf = CalibratedClassifierCV(clf, method=\"sigmoid\")\n",
    "    sig_clf.fit(X_train, y_train)\n",
    "    predict_y = sig_clf.predict_proba(X_test)\n",
    "    log_error_array.append(log_loss(y_test, predict_y, labels=clf.classes_, eps=1e-15))\n",
    "    print('For values of alpha = ', i, \"The log loss is:\",log_loss(y_test, predict_y, labels=clf.classes_, eps=1e-15))\n",
    "\n",
    "fig, ax = plt.subplots()\n",
    "ax.plot(alpha, log_error_array,c='g')\n",
    "for i, txt in enumerate(np.round(log_error_array,3)):\n",
    "    ax.annotate((alpha[i],np.round(txt,3)), (alpha[i],log_error_array[i]))\n",
    "plt.grid()\n",
    "plt.title(\"Cross Validation Error for each alpha\")\n",
    "plt.xlabel(\"Alpha i's\")\n",
    "plt.ylabel(\"Error measure\")\n",
    "plt.show()\n",
    "\n",
    "\n",
    "best_alpha = np.argmin(log_error_array)\n",
    "clf = SGDClassifier(alpha=alpha[best_alpha], penalty='l1', loss='hinge', random_state=42)\n",
    "clf.fit(X_train, y_train)\n",
    "sig_clf = CalibratedClassifierCV(clf, method=\"sigmoid\")\n",
    "sig_clf.fit(X_train, y_train)\n",
    "\n",
    "predict_y = sig_clf.predict_proba(X_train)\n",
    "print('For values of best alpha = ', alpha[best_alpha], \"The train log loss is:\",log_loss(y_train, predict_y, labels=clf.classes_, eps=1e-15))\n",
    "predict_y = sig_clf.predict_proba(X_test)\n",
    "print('For values of best alpha = ', alpha[best_alpha], \"The test log loss is:\",log_loss(y_test, predict_y, labels=clf.classes_, eps=1e-15))\n",
    "predicted_y =np.argmax(predict_y,axis=1)\n",
    "print(\"Total number of data points :\", len(predicted_y))\n",
    "plot_confusion_matrix(y_test, predicted_y)"
   ]
  },
  {
   "cell_type": "markdown",
   "metadata": {
    "colab_type": "text",
    "id": "ZhTJgclztAS6"
   },
   "source": [
    "<h2> 4.6 XGBoost </h2>"
   ]
  },
  {
   "cell_type": "code",
   "execution_count": 0,
   "metadata": {
    "colab": {},
    "colab_type": "code",
    "id": "9U367-xetAS7"
   },
   "outputs": [],
   "source": [
    "import xgboost as xgb\n",
    "params = {}\n",
    "params['objective'] = 'binary:logistic'\n",
    "params['eval_metric'] = 'logloss'\n",
    "params['eta'] = 0.02\n",
    "params['max_depth'] = 4\n",
    "\n",
    "d_train = xgb.DMatrix(X_train, label=y_train)\n",
    "d_test = xgb.DMatrix(X_test, label=y_test)\n",
    "\n",
    "watchlist = [(d_train, 'train'), (d_test, 'valid')]\n",
    "\n",
    "bst = xgb.train(params, d_train, 400, watchlist, early_stopping_rounds=20,\n",
    "                verbose_eval=10)\n",
    "\n",
    "xgdmat = xgb.DMatrix(X_train,y_train)\n",
    "predict_y = bst.predict(d_test)\n",
    "print(\"The test log loss is:\",log_loss(y_test, predict_y, eps=1e-15))"
   ]
  },
  {
   "cell_type": "code",
   "execution_count": 0,
   "metadata": {
    "colab": {},
    "colab_type": "code",
    "id": "6U5b17AatAS_",
    "outputId": "ca83b680-023b-4bc5-f499-8d8d85c2ff5e"
   },
   "outputs": [
    {
     "name": "stdout",
     "output_type": "stream",
     "text": [
      "Total number of data points : 30000\n"
     ]
    },
    {
     "data": {
      "image/png": "[encoded data removed]",
      "text/plain": [
       "<matplotlib.figure.Figure at 0x2567e903cf8>"
      ]
     },
     "metadata": {
      "tags": []
     },
     "output_type": "display_data"
    }
   ],
   "source": [
    "predicted_y =np.array(predict_y>0.5,dtype=int)\n",
    "print(\"Total number of data points :\", len(predicted_y))\n",
    "plot_confusion_matrix(y_test, predicted_y)"
   ]
  },
  {
   "cell_type": "markdown",
   "metadata": {
    "colab_type": "text",
    "id": "WmiIgHOJtATF"
   },
   "source": [
    "<h1> 5. Assignments </h1>"
   ]
  },
  {
   "cell_type": "markdown",
   "metadata": {
    "colab_type": "text",
    "id": "CWS6JoB0tATF"
   },
   "source": [
    "1. Try out models (Logistic regression, Linear-SVM) with simple TF-IDF vectors instead of TD_IDF weighted word2Vec.\n",
    "2. Hyperparameter tune XgBoost using RandomSearch to reduce the log-loss.\n"
   ]
  },
  {
   "cell_type": "code",
   "execution_count": 0,
   "metadata": {
    "colab": {},
    "colab_type": "code",
    "id": "TbxQqnDLa8vD"
   },
   "outputs": [],
   "source": [
    "import spacy\n",
    "from scipy.sparse import csr_matrix, hstack"
   ]
  },
  {
   "cell_type": "code",
   "execution_count": 0,
   "metadata": {
    "colab": {},
    "colab_type": "code",
    "id": "7-fBoE4b20cO"
   },
   "outputs": [],
   "source": [
    "# To prepare data to solve the given assignment we will use the stored dataframe\n",
    "# for some of the prepared features, and use the original Quora questions again to \n",
    "# correctly get the tf-Idf values without data leakage"
   ]
  },
  {
   "cell_type": "code",
   "execution_count": 0,
   "metadata": {
    "colab": {},
    "colab_type": "code",
    "id": "mQTkcHLz_sQj"
   },
   "outputs": [],
   "source": [
    "data=pd.merge(pd.read_csv(data_dir+'Quora/final_features.csv', index_col='id',\n",
    "              usecols=['id','is_duplicate','cwc_min', 'cwc_max', 'csc_min',\n",
    "                       'csc_max', 'ctc_min', 'ctc_max','last_word_eq', 'first_word_eq',\n",
    "                       'abs_len_diff', 'mean_len','token_set_ratio', 'token_sort_ratio',\n",
    "                       'fuzz_ratio','fuzz_partial_ratio', 'longest_substr_ratio', \n",
    "                       'freq_qid1', 'freq_qid2','q1len', 'q2len', 'q1_n_words', \n",
    "                       'q2_n_words', 'word_Common','word_Total', 'word_share', \n",
    "                       'freq_q1+q2', 'freq_q1-q2']),\n",
    "             pd.read_csv(data_dir+'Quora/train.csv', index_col='id',\n",
    "              usecols=['id','question1','question2']),\n",
    "              how='inner', on='id')"
   ]
  },
  {
   "cell_type": "code",
   "execution_count": 0,
   "metadata": {
    "colab": {},
    "colab_type": "code",
    "id": "NC3ZGusIA0GV"
   },
   "outputs": [],
   "source": [
    "#Select 50k duplicates and 50k non-duplicates for balanced dataset\n",
    "data=data[data.is_duplicate==1][:50000].append(\n",
    "                    data[data.is_duplicate==0][:50000],ignore_index=True)"
   ]
  },
  {
   "cell_type": "code",
   "execution_count": 0,
   "metadata": {
    "colab": {},
    "colab_type": "code",
    "id": "wmqaNJ0fS10d"
   },
   "outputs": [],
   "source": [
    "#Re-shuffling the dataframe\n",
    "data=data.sample(frac=1).reset_index(drop=True)"
   ]
  },
  {
   "cell_type": "code",
   "execution_count": 0,
   "metadata": {
    "colab": {},
    "colab_type": "code",
    "id": "c6D_iMbnZNMV"
   },
   "outputs": [],
   "source": [
    "#Code for pre-processing of questions text\n",
    "nlp=spacy.load('en_core_web_sm')\n",
    "def preprocess(text):\n",
    "    # lower case\n",
    "    text = str(text).lower()\n",
    "    # decontractions and replacement\n",
    "    text = text.replace(\",000,000\", \"m\").replace(\",000\", \"k\").replace(\"′\", \"'\")\\\n",
    "           .replace(\"’\", \"'\").replace(\"won't\", \"will not\").replace(\"cannot\", \"can not\")\\\n",
    "           .replace(\"can't\", \"can not\").replace(\"n't\", \" not\")\\\n",
    "           .replace(\"what's\", \"what is\").replace(\"it's\", \"it is\")\\\n",
    "           .replace(\"'ve\", \" have\").replace(\"i'm\", \"i am\").replace(\"'re\", \" are\")\\\n",
    "           .replace(\"he's\", \"he is\").replace(\"she's\", \"she is\").replace(\"'s\", \" own\")\\\n",
    "           .replace(\"%\", \" percent \").replace(\"₹\", \" rupee \").replace(\"$\", \" dollar \")\\\n",
    "           .replace(\"€\", \" euro \").replace(\"'ll\", \" will\")\n",
    "    text = re.sub(r\"([0-9]+)000000\", r\"\\1m\", text)\n",
    "    text = re.sub(r\"([0-9]+)000\", r\"\\1k\", text)\n",
    "\n",
    "    # nlp processing using spacy. We will use lemma as different forms of the same\n",
    "    # word unnecessarily increase the feature size and create noise rather than adding\n",
    "    # information\n",
    "    tokens = nlp(text)\n",
    "    text = ' '.join([t.lemma_ for t in tokens if t.lemma_ != '-PRON-' and \\\n",
    "#                                   t.is_alpha and not t.is_digit and \\\n",
    "                                  not t.is_punct and not t.is_stop])\n",
    "    return text"
   ]
  },
  {
   "cell_type": "code",
   "execution_count": 0,
   "metadata": {
    "colab": {},
    "colab_type": "code",
    "id": "mvBTpHCzYnkj"
   },
   "outputs": [],
   "source": [
    "# Apply pre-processing and save\n",
    "data.question1=data.question1.apply(preprocess)\n",
    "data.question2=data.question2.apply(preprocess)"
   ]
  },
  {
   "cell_type": "code",
   "execution_count": 0,
   "metadata": {
    "colab": {},
    "colab_type": "code",
    "id": "9oJtRbjD35ob"
   },
   "outputs": [],
   "source": [
    "data['question_pair']=data.question1+' '+data.question2"
   ]
  },
  {
   "cell_type": "code",
   "execution_count": 0,
   "metadata": {
    "colab": {},
    "colab_type": "code",
    "id": "qd-s-u0ItpB_"
   },
   "outputs": [],
   "source": [
    "data.drop(columns=['question1','question2'],inplace=True)"
   ]
  },
  {
   "cell_type": "code",
   "execution_count": 0,
   "metadata": {
    "colab": {},
    "colab_type": "code",
    "id": "u5jc4lDU4bba"
   },
   "outputs": [],
   "source": [
    "# data.to_csv(data_dir+'final_data_pp.csv',index=False)"
   ]
  },
  {
   "cell_type": "code",
   "execution_count": 0,
   "metadata": {
    "colab": {},
    "colab_type": "code",
    "id": "7BsGeyoM8kzp"
   },
   "outputs": [],
   "source": [
    "data=pd.read_csv(data_dir+'final_data_pp.csv')"
   ]
  },
  {
   "cell_type": "code",
   "execution_count": 0,
   "metadata": {
    "colab": {},
    "colab_type": "code",
    "id": "ME3UDtoPvKhL"
   },
   "outputs": [],
   "source": [
    "# Split data and proceed for vectorization"
   ]
  },
  {
   "cell_type": "code",
   "execution_count": 0,
   "metadata": {
    "colab": {
     "base_uri": "https://localhost:8080/",
     "height": 163
    },
    "colab_type": "code",
    "id": "7u5JCY2dvKey",
    "outputId": "67135bcb-6290-4bb9-e3e2-19c48013177d"
   },
   "outputs": [
    {
     "data": {
      "text/plain": [
       "Index(['is_duplicate', 'cwc_min', 'cwc_max', 'csc_min', 'csc_max', 'ctc_min',\n",
       "       'ctc_max', 'last_word_eq', 'first_word_eq', 'abs_len_diff', 'mean_len',\n",
       "       'token_set_ratio', 'token_sort_ratio', 'fuzz_ratio',\n",
       "       'fuzz_partial_ratio', 'longest_substr_ratio', 'freq_qid1', 'freq_qid2',\n",
       "       'q1len', 'q2len', 'q1_n_words', 'q2_n_words', 'word_Common',\n",
       "       'word_Total', 'word_share', 'freq_q1+q2', 'freq_q1-q2',\n",
       "       'question_pair'],\n",
       "      dtype='object')"
      ]
     },
     "execution_count": 80,
     "metadata": {
      "tags": []
     },
     "output_type": "execute_result"
    }
   ],
   "source": [
    "data.columns"
   ]
  },
  {
   "cell_type": "code",
   "execution_count": 0,
   "metadata": {
    "colab": {},
    "colab_type": "code",
    "id": "DXVfD-x9wCYL"
   },
   "outputs": [],
   "source": [
    "# Y_data is the 'is_duplicate'\n",
    "Y_data=data.is_duplicate.to_numpy()\n",
    "# X_data is all the features excluding 'is_duplicate'\n",
    "X_data=data.drop(columns=['is_duplicate'])"
   ]
  },
  {
   "cell_type": "code",
   "execution_count": 0,
   "metadata": {
    "colab": {},
    "colab_type": "code",
    "id": "Iv9OzBkZxncu"
   },
   "outputs": [],
   "source": [
    "# Split in 70:30 ratio\n",
    "X_train,X_test, Y_train, Y_test = train_test_split(X_data, Y_data, \n",
    "                              stratify=Y_data, test_size=0.3,random_state=1234)"
   ]
  },
  {
   "cell_type": "code",
   "execution_count": 0,
   "metadata": {
    "colab": {
     "base_uri": "https://localhost:8080/",
     "height": 128
    },
    "colab_type": "code",
    "id": "rfFgLaDs0mm0",
    "outputId": "50e984cf-81b0-4206-cb95-8814e7606a1e"
   },
   "outputs": [
    {
     "name": "stdout",
     "output_type": "stream",
     "text": [
      "some sample features(unique words in the corpus) ['00', '04', '10', '10 cgpa', '10 day', '10 favourite', '10 good', '10 hour', '10 kg', '10 million']\n",
      "==================================================\n",
      "the type of count vectorizer  <class 'scipy.sparse.csr.csr_matrix'>\n",
      "the shape of out text TFIDF vectorizer  (70000, 15000)\n",
      "the number of unique words including both unigrams and bigrams  15000\n"
     ]
    }
   ],
   "source": [
    "tf_idf_vect = TfidfVectorizer(ngram_range=(1,2), min_df=5, max_features=15000)\n",
    "tf_idf_vect.fit(X_train.question_pair)\n",
    "print(\"some sample features(unique words in the corpus)\",\n",
    "                                tf_idf_vect.get_feature_names()[0:10])\n",
    "print('='*50)\n",
    "\n",
    "tfIdf_train = tf_idf_vect.transform(X_train.question_pair)\n",
    "tfIdf_test = tf_idf_vect.transform(X_test.question_pair)\n",
    "\n",
    "print(\"the type of count vectorizer \",type(tfIdf_train))\n",
    "print(\"the shape of out text TFIDF vectorizer \",tfIdf_train.get_shape())\n",
    "print(\"the number of unique words including both unigrams and bigrams \",\n",
    "                    tfIdf_train.get_shape()[1])"
   ]
  },
  {
   "cell_type": "code",
   "execution_count": 0,
   "metadata": {
    "colab": {},
    "colab_type": "code",
    "id": "nBX6vShrC6Da"
   },
   "outputs": [],
   "source": [
    "# Drop the 'question_pair' column\n",
    "X_train.drop(columns=['question_pair'],inplace=True)\n",
    "X_test.drop(columns=['question_pair'],inplace=True)"
   ]
  },
  {
   "cell_type": "code",
   "execution_count": 0,
   "metadata": {
    "colab": {},
    "colab_type": "code",
    "id": "e7Ro-b4y-ioX"
   },
   "outputs": [],
   "source": [
    "# Add the Tf-Idf vectors with the other features\n",
    "X_train=hstack([X_train.to_sparse().astype(float),tfIdf_train])\n",
    "X_test=hstack([X_test.to_sparse().astype(float),tfIdf_test])"
   ]
  },
  {
   "cell_type": "code",
   "execution_count": 0,
   "metadata": {
    "colab": {
     "base_uri": "https://localhost:8080/",
     "height": 272
    },
    "colab_type": "code",
    "id": "mAnpMLcwENjA",
    "outputId": "7b18ef4e-f865-40a4-9cd5-76ab3b487fad"
   },
   "outputs": [
    {
     "name": "stdout",
     "output_type": "stream",
     "text": [
      "Working for alpha :  1e-05\n",
      "For values of alpha =  1e-05 The log loss is: 0.4427934371192924\n",
      "Working for alpha :  0.0001\n",
      "For values of alpha =  0.0001 The log loss is: 0.4263252404402409\n",
      "Working for alpha :  0.001\n",
      "For values of alpha =  0.001 The log loss is: 0.4423823907181991\n",
      "Working for alpha :  0.01\n",
      "For values of alpha =  0.01 The log loss is: 0.4739527428386096\n",
      "Working for alpha :  0.1\n",
      "For values of alpha =  0.1 The log loss is: 0.473400739483149\n",
      "Working for alpha :  1\n",
      "For values of alpha =  1 The log loss is: 0.5079527165965277\n",
      "Working for alpha :  10\n",
      "For values of alpha =  10 The log loss is: 0.5550171046260312\n"
     ]
    }
   ],
   "source": [
    "# Using the classification code from above\n",
    "alpha = [10 ** x for x in range(-5, 2)] # hyperparam for SGD classifier.\n",
    "log_error_array=[]\n",
    "for i in alpha:\n",
    "    print(\"Working for alpha : \",i)\n",
    "    clf = SGDClassifier(alpha=i, penalty='l2', loss='log',\n",
    "                        random_state=1234, n_jobs=-1)\n",
    "    clf.fit(X_train, Y_train)\n",
    "    sig_clf = CalibratedClassifierCV(clf, method=\"sigmoid\")\n",
    "    sig_clf.fit(X_train, Y_train)\n",
    "    predict_y = sig_clf.predict_proba(X_test)\n",
    "    loss_value=log_loss(Y_test, predict_y,labels=clf.classes_, eps=1e-15)\n",
    "    log_error_array.append(loss_value)\n",
    "    print('For values of alpha = ', i, \"The log loss is:\",loss_value)"
   ]
  },
  {
   "cell_type": "code",
   "execution_count": 0,
   "metadata": {
    "colab": {},
    "colab_type": "code",
    "id": "oqGrL0NGAA_Q"
   },
   "outputs": [],
   "source": [
    "# Best figures for 7k features\n",
    "# For values of alpha =  0.01 The log loss is: 0.45523614249492544\n",
    "\n",
    "# Best figures for 15k features\n",
    "# For values of alpha =  0.0001 The log loss is: 0.4263252404402409\n",
    "\n",
    "# Finally we use all features(21540)\n",
    "# For values of alpha =  1e-05 The log loss is: 0.4321301625022141\n",
    "\n",
    "# If we increase the max_df to 10 and for all features(9900)\n",
    "# For values of alpha =  0.0001 The log loss is: 0.4363398372482077"
   ]
  },
  {
   "cell_type": "code",
   "execution_count": 0,
   "metadata": {
    "colab": {
     "base_uri": "https://localhost:8080/",
     "height": 295
    },
    "colab_type": "code",
    "id": "7YsFEMIIAAPB",
    "outputId": "1cc6b4c1-297f-4605-c6b5-e4926e449233"
   },
   "outputs": [
    {
     "data": {
      "image/png": "[encoded data removed]",
      "text/plain": [
       "<Figure size 432x288 with 1 Axes>"
      ]
     },
     "metadata": {
      "tags": []
     },
     "output_type": "display_data"
    }
   ],
   "source": [
    "# Using Plotting graph from above\n",
    "fig, ax = plt.subplots()\n",
    "ax.plot(alpha, log_error_array,c='g')\n",
    "for i, txt in enumerate(np.round(log_error_array,3)):\n",
    "    ax.annotate((alpha[i],np.round(txt,3)), (alpha[i],log_error_array[i]))\n",
    "plt.grid()\n",
    "plt.title(\"Cross Validation Error for each alpha\")\n",
    "plt.xlabel(\"Alpha i's\")\n",
    "plt.ylabel(\"Error measure\")\n",
    "plt.show()"
   ]
  },
  {
   "cell_type": "code",
   "execution_count": 0,
   "metadata": {
    "colab": {
     "base_uri": "https://localhost:8080/",
     "height": 370
    },
    "colab_type": "code",
    "id": "6IZzd1GrAJN3",
    "outputId": "e3e8df37-a972-4bb0-8ccf-1fa8cdf4f752"
   },
   "outputs": [
    {
     "name": "stdout",
     "output_type": "stream",
     "text": [
      "For values of best alpha =  0.0001 The train log loss is: 0.4310660274785347\n",
      "For values of best alpha =  0.0001 The test log loss is: 0.4263252404402409\n",
      "Total number of data points : 30000\n"
     ]
    },
    {
     "data": {
      "image/png": "[encoded data removed]",
      "text/plain": [
       "<Figure size 1440x288 with 6 Axes>"
      ]
     },
     "metadata": {
      "tags": []
     },
     "output_type": "display_data"
    }
   ],
   "source": [
    "best_alpha = np.argmin(log_error_array)\n",
    "clf = SGDClassifier(alpha=alpha[best_alpha], penalty='l2', loss='log',\n",
    "                    random_state=1234)\n",
    "clf.fit(X_train, Y_train)\n",
    "sig_clf = CalibratedClassifierCV(clf, method=\"sigmoid\")\n",
    "sig_clf.fit(X_train, Y_train)\n",
    "\n",
    "predict_y = sig_clf.predict_proba(X_train)\n",
    "print('For values of best alpha = ', alpha[best_alpha], \n",
    "      \"The train log loss is:\",log_loss(Y_train, predict_y, \n",
    "                              labels=clf.classes_, eps=1e-15))\n",
    "predict_y = sig_clf.predict_proba(X_test)\n",
    "print('For values of best alpha = ', alpha[best_alpha], \n",
    "      \"The test log loss is:\",log_loss(Y_test, predict_y, \n",
    "                              labels=clf.classes_, eps=1e-15))\n",
    "predicted_y =np.argmax(predict_y,axis=1)\n",
    "print(\"Total number of data points :\", len(predicted_y))\n",
    "plot_confusion_matrix(Y_test, predicted_y)"
   ]
  },
  {
   "cell_type": "code",
   "execution_count": 0,
   "metadata": {
    "colab": {
     "base_uri": "https://localhost:8080/",
     "height": 126
    },
    "colab_type": "code",
    "id": "6mzVO_l8crG8",
    "outputId": "9fa12602-1fb3-442d-fed4-856af18b5f48"
   },
   "outputs": [
    {
     "name": "stdout",
     "output_type": "stream",
     "text": [
      "+--------------+-----------------+-------------------------------+\n",
      "|    Model     | Hyperparameters |            Log_Loss           |\n",
      "+--------------+-----------------+-------------------------------+\n",
      "| Logistic Reg |    C = 0.0001   | Train Log=0.43  Test Log=0.42 |\n",
      "| Logistic Reg |  alpha = 0.0001 | Train Log=0.43  Test Log=0.42 |\n",
      "+--------------+-----------------+-------------------------------+\n"
     ]
    }
   ],
   "source": [
    "table.add_row(['Logistic Reg',' alpha = 0.0001', 'Train Log=0.43  Test Log=0.42'])\n",
    "print(table)"
   ]
  },
  {
   "cell_type": "code",
   "execution_count": 0,
   "metadata": {
    "colab": {},
    "colab_type": "code",
    "id": "Q9wb7rcihxaO"
   },
   "outputs": [],
   "source": [
    "# Lets go for Linear SVM now"
   ]
  },
  {
   "cell_type": "code",
   "execution_count": 0,
   "metadata": {
    "colab": {
     "base_uri": "https://localhost:8080/",
     "height": 272
    },
    "colab_type": "code",
    "id": "OIM7LZ4Rvqiq",
    "outputId": "f1aa1af7-af2c-4743-ae3d-75f322798854"
   },
   "outputs": [
    {
     "name": "stdout",
     "output_type": "stream",
     "text": [
      "Working for alpha :  1e-05\n",
      "For values of alpha =  1e-05 The log loss is: 0.4464618542962933\n",
      "Working for alpha :  0.0001\n",
      "For values of alpha =  0.0001 The log loss is: 0.4737792548089313\n",
      "Working for alpha :  0.001\n",
      "For values of alpha =  0.001 The log loss is: 0.4936783681321137\n",
      "Working for alpha :  0.01\n",
      "For values of alpha =  0.01 The log loss is: 0.5489273580706926\n",
      "Working for alpha :  0.1\n",
      "For values of alpha =  0.1 The log loss is: 0.49973248365944906\n",
      "Working for alpha :  1\n",
      "For values of alpha =  1 The log loss is: 0.5727954914635746\n",
      "Working for alpha :  10\n",
      "For values of alpha =  10 The log loss is: 0.6931471805599453\n"
     ]
    }
   ],
   "source": [
    "alpha = [10 ** x for x in range(-5, 2)] # hyperparam for SGD classifier.\n",
    "log_error_array=[]\n",
    "for i in alpha:\n",
    "    print(\"Working for alpha : \",i)\n",
    "    clf = SGDClassifier(alpha=i, penalty='l1', loss='hinge',\n",
    "                        random_state=1234, n_jobs=-1)\n",
    "    clf.fit(X_train, Y_train)\n",
    "    sig_clf = CalibratedClassifierCV(clf, method=\"sigmoid\")\n",
    "    sig_clf.fit(X_train, Y_train)\n",
    "    predict_y = sig_clf.predict_proba(X_test)\n",
    "    loss_value=log_loss(Y_test, predict_y,labels=clf.classes_, eps=1e-15)\n",
    "    log_error_array.append(loss_value)\n",
    "    print('For values of alpha = ', i, \"The log loss is:\",loss_value)"
   ]
  },
  {
   "cell_type": "code",
   "execution_count": 0,
   "metadata": {
    "colab": {},
    "colab_type": "code",
    "id": "jl7irDbvJXXT"
   },
   "outputs": [],
   "source": [
    "# Best figures for 15k features\n",
    "# For values of alpha =  1e-05 The log loss is: 0.4464618542962933\n",
    "\n",
    "# Finally we use all features(21540)\n",
    "# For values of alpha =  1e-05 The log loss is: 0.44670317676117144\n",
    "\n",
    "# If we increase the max_df to 10 and for all features(9900)\n",
    "# For values of alpha =  1e-05 The log loss is: 0.46394818579735897"
   ]
  },
  {
   "cell_type": "code",
   "execution_count": 0,
   "metadata": {
    "colab": {
     "base_uri": "https://localhost:8080/",
     "height": 295
    },
    "colab_type": "code",
    "id": "YMXgNf5uvwW0",
    "outputId": "021dd3ab-5109-493d-ae80-55fc392c5a3e"
   },
   "outputs": [
    {
     "data": {
      "image/png": "[encoded data removed]",
      "text/plain": [
       "<Figure size 432x288 with 1 Axes>"
      ]
     },
     "metadata": {
      "tags": []
     },
     "output_type": "display_data"
    }
   ],
   "source": [
    "fig, ax = plt.subplots()\n",
    "ax.plot(alpha, log_error_array,c='g')\n",
    "for i, txt in enumerate(np.round(log_error_array,3)):\n",
    "    ax.annotate((alpha[i],np.round(txt,3)), (alpha[i],log_error_array[i]))\n",
    "plt.grid()\n",
    "plt.title(\"Cross Validation Error for each alpha\")\n",
    "plt.xlabel(\"Alpha i's\")\n",
    "plt.ylabel(\"Error measure\")\n",
    "plt.show()"
   ]
  },
  {
   "cell_type": "code",
   "execution_count": 0,
   "metadata": {
    "colab": {
     "base_uri": "https://localhost:8080/",
     "height": 370
    },
    "colab_type": "code",
    "id": "vg7DMMAtIJmA",
    "outputId": "dc8220f4-0a5d-4f1c-dec3-971230eff238"
   },
   "outputs": [
    {
     "name": "stdout",
     "output_type": "stream",
     "text": [
      "For values of best alpha =  1e-05 The train log loss is: 0.45074353360243696\n",
      "For values of best alpha =  1e-05 The test log loss is: 0.4464618542962933\n",
      "Total number of data points : 30000\n"
     ]
    },
    {
     "data": {
      "image/png": "[encoded data removed]",
      "text/plain": [
       "<Figure size 1440x288 with 6 Axes>"
      ]
     },
     "metadata": {
      "tags": []
     },
     "output_type": "display_data"
    }
   ],
   "source": [
    "best_alpha = np.argmin(log_error_array)\n",
    "clf = SGDClassifier(alpha=alpha[best_alpha], penalty='l1', loss='hinge',\n",
    "                    random_state=1234, n_jobs=-1)\n",
    "clf.fit(X_train, Y_train)\n",
    "sig_clf = CalibratedClassifierCV(clf, method=\"sigmoid\")\n",
    "sig_clf.fit(X_train, Y_train)\n",
    "\n",
    "predict_y = sig_clf.predict_proba(X_train)\n",
    "print('For values of best alpha = ', alpha[best_alpha], \n",
    "      \"The train log loss is:\",log_loss(Y_train, predict_y,\n",
    "                             labels=clf.classes_, eps=1e-15))\n",
    "predict_y = sig_clf.predict_proba(X_test)\n",
    "print('For values of best alpha = ', alpha[best_alpha], \n",
    "      \"The test log loss is:\",log_loss(Y_test, predict_y,\n",
    "                             labels=clf.classes_, eps=1e-15))\n",
    "predicted_y =np.argmax(predict_y,axis=1)\n",
    "print(\"Total number of data points :\", len(predicted_y))\n",
    "plot_confusion_matrix(Y_test, predicted_y)"
   ]
  },
  {
   "cell_type": "code",
   "execution_count": 0,
   "metadata": {
    "colab": {
     "base_uri": "https://localhost:8080/",
     "height": 126
    },
    "colab_type": "code",
    "id": "OIKNYRs_dWYO",
    "outputId": "6317c1a3-b603-424d-db73-333dd50c9fa1"
   },
   "outputs": [
    {
     "name": "stdout",
     "output_type": "stream",
     "text": [
      "+--------------+-----------------+-------------------------------+\n",
      "|    Model     | Hyperparameters |            Log_Loss           |\n",
      "+--------------+-----------------+-------------------------------+\n",
      "| Logistic Reg |  alpha = 0.0001 | Train Log=0.43  Test Log=0.42 |\n",
      "|  Simple SVM  |  alpha = 0.0001 | Train Log=0.45  Test Log=0.44 |\n",
      "+--------------+-----------------+-------------------------------+\n"
     ]
    }
   ],
   "source": [
    "table.add_row(['Simple SVM',' alpha = 0.0001', 'Train Log=0.45  Test Log=0.44'])\n",
    "print(table)"
   ]
  },
  {
   "cell_type": "code",
   "execution_count": 0,
   "metadata": {
    "colab": {},
    "colab_type": "code",
    "id": "5Vsns99EIIw8"
   },
   "outputs": [],
   "source": [
    "# Now for working on XGBoost we have to reload the old data. For that we re-run the \n",
    "# code from the above cells"
   ]
  },
  {
   "cell_type": "code",
   "execution_count": 0,
   "metadata": {
    "colab": {},
    "colab_type": "code",
    "id": "_l4BL8DrU-89"
   },
   "outputs": [],
   "source": [
    "from xgboost import XGBClassifier"
   ]
  },
  {
   "cell_type": "code",
   "execution_count": 7,
   "metadata": {
    "colab": {
     "base_uri": "https://localhost:8080/",
     "height": 255
    },
    "colab_type": "code",
    "id": "cKHZhr1PqbPd",
    "outputId": "f09f642c-5e25-48fd-c057-f353baf49222"
   },
   "outputs": [
    {
     "name": "stdout",
     "output_type": "stream",
     "text": [
      "Collecting en_core_web_md==2.1.0 from https://github.com/explosion/spacy-models/releases/download/en_core_web_md-2.1.0/en_core_web_md-2.1.0.tar.gz#egg=en_core_web_md==2.1.0\n",
      "\u001b[?25l  Downloading https://github.com/explosion/spacy-models/releases/download/en_core_web_md-2.1.0/en_core_web_md-2.1.0.tar.gz (95.4MB)\n",
      "\u001b[K     |████████████████████████████████| 95.4MB 2.7MB/s \n",
      "\u001b[?25hBuilding wheels for collected packages: en-core-web-md\n",
      "  Building wheel for en-core-web-md (setup.py) ... \u001b[?25l\u001b[?25hdone\n",
      "  Created wheel for en-core-web-md: filename=en_core_web_md-2.1.0-cp36-none-any.whl size=97126237 sha256=0ad61ae499ad1fd2c54494dfbfeeb6ade526f92b83ce57211ac6425bae7ce4b9\n",
      "  Stored in directory: /tmp/pip-ephem-wheel-cache-8jw_cg4l/wheels/c1/2c/5f/fd7f3ec336bf97b0809c86264d2831c5dfb00fc2e239d1bb01\n",
      "Successfully built en-core-web-md\n",
      "Installing collected packages: en-core-web-md\n",
      "Successfully installed en-core-web-md-2.1.0\n",
      "\u001b[38;5;2m✔ Download and installation successful\u001b[0m\n",
      "You can now load the model via spacy.load('en_core_web_md')\n"
     ]
    }
   ],
   "source": [
    "# !python -m spacy download en_core_web_md"
   ]
  },
  {
   "cell_type": "code",
   "execution_count": 0,
   "metadata": {
    "colab": {},
    "colab_type": "code",
    "id": "e3p08sLTcIyZ"
   },
   "outputs": [],
   "source": [
    "import en_core_web_md\n",
    "from bs4 import BeautifulSoup\n",
    "from tqdm import tqdm\n",
    "import nltk"
   ]
  },
  {
   "cell_type": "code",
   "execution_count": 0,
   "metadata": {
    "colab": {},
    "colab_type": "code",
    "id": "pSaX-Xfiqa9g"
   },
   "outputs": [],
   "source": [
    "# Read dataframe and filter balanced data. Using only 50k \n",
    "# due to resource constraints\n",
    "\n",
    "df = pd.read_csv(data_dir+\"Quora/train.csv\")"
   ]
  },
  {
   "cell_type": "code",
   "execution_count": 0,
   "metadata": {
    "colab": {},
    "colab_type": "code",
    "id": "EIJHnVjDdjte"
   },
   "outputs": [],
   "source": [
    "df = df[df.is_duplicate==0][:25000].append(df[df.is_duplicate==1][:25000])\n",
    "df = df.sample(frac=1).reset_index(drop=True)"
   ]
  },
  {
   "cell_type": "code",
   "execution_count": 11,
   "metadata": {
    "colab": {
     "base_uri": "https://localhost:8080/",
     "height": 72
    },
    "colab_type": "code",
    "id": "LgVCYf-fltwO",
    "outputId": "c1a37045-e18a-4bd1-93bc-835b67cf90fd"
   },
   "outputs": [
    {
     "name": "stdout",
     "output_type": "stream",
     "text": [
      "[nltk_data] Downloading package stopwords to /root/nltk_data...\n",
      "[nltk_data]   Unzipping corpora/stopwords.zip.\n"
     ]
    },
    {
     "data": {
      "text/plain": [
       "True"
      ]
     },
     "execution_count": 11,
     "metadata": {
      "tags": []
     },
     "output_type": "execute_result"
    }
   ],
   "source": [
    "# nltk.download('stopwords')"
   ]
  },
  {
   "cell_type": "code",
   "execution_count": 0,
   "metadata": {
    "colab": {},
    "colab_type": "code",
    "id": "AZpCxm-Dj4eW"
   },
   "outputs": [],
   "source": [
    "SAFE_DIV = 0.0001 \n",
    "STOP_WORDS = stopwords.words(\"english\")\n",
    "\n",
    "\n",
    "def preprocess(x):\n",
    "    x = str(x).lower()\n",
    "    x = x.replace(\",000,000\", \"m\").replace(\",000\", \"k\").replace(\"′\", \"'\")\\\n",
    "                .replace(\"’\", \"'\").replace(\"won't\", \"will not\")\\\n",
    "                .replace(\"cannot\", \"can not\").replace(\"can't\", \"can not\")\\\n",
    "                .replace(\"n't\", \" not\").replace(\"what's\", \"what is\")\\\n",
    "                .replace(\"it's\", \"it is\").replace(\"'ve\", \" have\")\\\n",
    "                .replace(\"i'm\", \"i am\").replace(\"'re\", \" are\")\\\n",
    "                .replace(\"he's\", \"he is\").replace(\"she's\", \"she is\")\\\n",
    "                .replace(\"'s\", \" own\").replace(\"%\", \" percent \")\\\n",
    "                .replace(\"₹\", \" rupee \").replace(\"$\", \" dollar \")\\\n",
    "                .replace(\"€\", \" euro \").replace(\"'ll\", \" will\")\n",
    "    x = re.sub(r\"([0-9]+)000000\", r\"\\1m\", x)\n",
    "    x = re.sub(r\"([0-9]+)000\", r\"\\1k\", x)\n",
    "    \n",
    "    pattern = re.compile('\\W')\n",
    "    \n",
    "    if type(x) == type(''):\n",
    "        x = re.sub(pattern, ' ', x)\n",
    "    \n",
    "    \n",
    "    if type(x) == type(''):\n",
    "        example1 = BeautifulSoup(x)\n",
    "        x = example1.get_text().strip()\n",
    "               \n",
    "    \n",
    "    return x"
   ]
  },
  {
   "cell_type": "code",
   "execution_count": 0,
   "metadata": {
    "colab": {},
    "colab_type": "code",
    "id": "RsY05Jbvl9qv"
   },
   "outputs": [],
   "source": [
    "df['question1'] = df['question1'].apply(lambda x: preprocess(x))\n",
    "df['question2'] = df['question2'].apply(lambda x: preprocess(x))"
   ]
  },
  {
   "cell_type": "code",
   "execution_count": 14,
   "metadata": {
    "colab": {
     "base_uri": "https://localhost:8080/",
     "height": 198
    },
    "colab_type": "code",
    "id": "gyGOyVZmeyrR",
    "outputId": "12bbcbff-b1c8-41d9-a147-889361f4b089"
   },
   "outputs": [
    {
     "data": {
      "text/html": [
       "<div>\n",
       "<style scoped>\n",
       "    .dataframe tbody tr th:only-of-type {\n",
       "        vertical-align: middle;\n",
       "    }\n",
       "\n",
       "    .dataframe tbody tr th {\n",
       "        vertical-align: top;\n",
       "    }\n",
       "\n",
       "    .dataframe thead th {\n",
       "        text-align: right;\n",
       "    }\n",
       "</style>\n",
       "<table border=\"1\" class=\"dataframe\">\n",
       "  <thead>\n",
       "    <tr style=\"text-align: right;\">\n",
       "      <th></th>\n",
       "      <th>question1</th>\n",
       "      <th>question2</th>\n",
       "      <th>is_duplicate</th>\n",
       "    </tr>\n",
       "  </thead>\n",
       "  <tbody>\n",
       "    <tr>\n",
       "      <th>0</th>\n",
       "      <td>what is the most popular app at your school</td>\n",
       "      <td>what is the most popular app at your university</td>\n",
       "      <td>0</td>\n",
       "    </tr>\n",
       "    <tr>\n",
       "      <th>1</th>\n",
       "      <td>is world war 3 on the way with the us elections</td>\n",
       "      <td>is world war 3 coming</td>\n",
       "      <td>1</td>\n",
       "    </tr>\n",
       "    <tr>\n",
       "      <th>2</th>\n",
       "      <td>can a boy join the indian armed forces after a...</td>\n",
       "      <td>how can i join indian armed forces</td>\n",
       "      <td>1</td>\n",
       "    </tr>\n",
       "    <tr>\n",
       "      <th>3</th>\n",
       "      <td>was the isc 2016 accounts paper easy</td>\n",
       "      <td>was the isc accounts 2016 paper tough</td>\n",
       "      <td>1</td>\n",
       "    </tr>\n",
       "    <tr>\n",
       "      <th>4</th>\n",
       "      <td>what are some good ways to insult a dartmouth ...</td>\n",
       "      <td>what makes some students unable to fit in at d...</td>\n",
       "      <td>0</td>\n",
       "    </tr>\n",
       "  </tbody>\n",
       "</table>\n",
       "</div>"
      ],
      "text/plain": [
       "                                           question1  ... is_duplicate\n",
       "0        what is the most popular app at your school  ...            0\n",
       "1    is world war 3 on the way with the us elections  ...            1\n",
       "2  can a boy join the indian armed forces after a...  ...            1\n",
       "3               was the isc 2016 accounts paper easy  ...            1\n",
       "4  what are some good ways to insult a dartmouth ...  ...            0\n",
       "\n",
       "[5 rows x 3 columns]"
      ]
     },
     "execution_count": 14,
     "metadata": {
      "tags": []
     },
     "output_type": "execute_result"
    }
   ],
   "source": [
    "df = df.drop(columns=['id','qid1','qid2'])\n",
    "df.head()"
   ]
  },
  {
   "cell_type": "code",
   "execution_count": 0,
   "metadata": {
    "colab": {},
    "colab_type": "code",
    "id": "NeJKp27Sng3P"
   },
   "outputs": [],
   "source": [
    "df['question_pair'] = df.question1+' '+df.question2\n",
    "df = df.drop(columns=['question1','question2'])"
   ]
  },
  {
   "cell_type": "code",
   "execution_count": 0,
   "metadata": {
    "colab": {},
    "colab_type": "code",
    "id": "V6DlCBgZrIfu"
   },
   "outputs": [],
   "source": [
    "X_data=np.array(df.question_pair.tolist())\n",
    "y_data=np.array(df.is_duplicate.tolist())"
   ]
  },
  {
   "cell_type": "code",
   "execution_count": 0,
   "metadata": {
    "colab": {},
    "colab_type": "code",
    "id": "LhbkGzSveyo7"
   },
   "outputs": [],
   "source": [
    "from sklearn.feature_extraction.text import TfidfVectorizer"
   ]
  },
  {
   "cell_type": "code",
   "execution_count": 0,
   "metadata": {
    "colab": {},
    "colab_type": "code",
    "id": "hZ-cCJrlfNLE"
   },
   "outputs": [],
   "source": [
    "X_train, X_test, y_train, y_test = train_test_split(X_data, y_data, \n",
    "                        test_size=0.30, stratify=y_data,random_state =1234) "
   ]
  },
  {
   "cell_type": "code",
   "execution_count": 0,
   "metadata": {
    "colab": {},
    "colab_type": "code",
    "id": "d1kPWAwZfTe6"
   },
   "outputs": [],
   "source": [
    "tfidf = TfidfVectorizer(lowercase=False, )\n",
    "tfidf.fit_transform(X_train)\n",
    "\n",
    "# dict key:word and value:tf-idf score\n",
    "word2tfidf = dict(zip(tfidf.get_feature_names(), tfidf.idf_))"
   ]
  },
  {
   "cell_type": "code",
   "execution_count": 0,
   "metadata": {
    "colab": {},
    "colab_type": "code",
    "id": "H0pV0JlogDm1"
   },
   "outputs": [],
   "source": [
    "# en_vectors_web_md, having 300 vectors.\n",
    "nlp = en_core_web_md.load()\n",
    "# nlp = spacy.load('en_core_web_sm')\n",
    "\n",
    "vecs1 = []\n",
    "for qp in X_train:\n",
    "  doc1 = nlp(str(qp).strip())\n",
    "  mean_vec1 = np.zeros([len(doc1), len(doc1[0].vector)])\n",
    "  for i,word1 in enumerate(doc1):\n",
    "      # word2vec\n",
    "      vec1 = word1.vector\n",
    "      # fetch df score\n",
    "      try:\n",
    "          idf = word2tfidf[str(word1)]\n",
    "      except:\n",
    "          idf = 0\n",
    "      # compute final vec\n",
    "      mean_vec1[i] += vec1 * idf\n",
    "  mean_vec1 = mean_vec1.mean(axis=0)\n",
    "  vecs1.append(mean_vec1)"
   ]
  },
  {
   "cell_type": "code",
   "execution_count": 0,
   "metadata": {
    "colab": {},
    "colab_type": "code",
    "id": "Fj5wCl1uwKoA"
   },
   "outputs": [],
   "source": [
    "vecs2=[]\n",
    "for qp in X_test:\n",
    "  doc2 = nlp(str(qp).strip()) \n",
    "  mean_vec2 = np.zeros([len(doc2), len(doc2[0].vector)])\n",
    "  for i,word2 in enumerate(doc2):\n",
    "      # word2vec\n",
    "      vec2 = word2.vector\n",
    "      # fetch df score\n",
    "      try:\n",
    "          idf = word2tfidf[str(word2)]\n",
    "      except:\n",
    "          #print word\n",
    "          idf = 0\n",
    "      # compute final vec\n",
    "      mean_vec2[i] += vec2 * idf\n",
    "  mean_vec2 = mean_vec2.mean(axis=0)\n",
    "  vecs2.append(mean_vec2)"
   ]
  },
  {
   "cell_type": "code",
   "execution_count": 0,
   "metadata": {
    "colab": {},
    "colab_type": "code",
    "id": "zVRWtKyMxI9s"
   },
   "outputs": [],
   "source": [
    "X_train=np.array(vecs1)\n",
    "X_test=np.array(vecs2)"
   ]
  },
  {
   "cell_type": "code",
   "execution_count": 38,
   "metadata": {
    "colab": {
     "base_uri": "https://localhost:8080/",
     "height": 435
    },
    "colab_type": "code",
    "id": "EjnemeBqNNFP",
    "outputId": "391058e2-8b2b-4675-af99-86b4c19075b2"
   },
   "outputs": [
    {
     "name": "stdout",
     "output_type": "stream",
     "text": [
      "Fitting 3 folds for each of 10 candidates, totalling 30 fits\n"
     ]
    },
    {
     "name": "stderr",
     "output_type": "stream",
     "text": [
      "[Parallel(n_jobs=-1)]: Using backend LokyBackend with 2 concurrent workers.\n",
      "[Parallel(n_jobs=-1)]: Done  30 out of  30 | elapsed: 272.8min finished\n"
     ]
    },
    {
     "data": {
      "text/plain": [
       "RandomizedSearchCV(cv=3, error_score='raise-deprecating',\n",
       "                   estimator=XGBClassifier(base_score=0.5, booster='gbtree',\n",
       "                                           colsample_bylevel=1,\n",
       "                                           colsample_bynode=1,\n",
       "                                           colsample_bytree=1, gamma=0,\n",
       "                                           learning_rate=0.1, max_delta_step=0,\n",
       "                                           max_depth=3, min_child_weight=1,\n",
       "                                           missing=None, n_estimators=100,\n",
       "                                           n_jobs=1, nthread=None,\n",
       "                                           objective='binary:logistic',\n",
       "                                           random_state=1234, reg_alpha=0,\n",
       "                                           reg_lambda=1, scale_pos_weight=1,\n",
       "                                           seed=None, silent=None, subsample=1,\n",
       "                                           verbosity=1),\n",
       "                   iid='warn', n_iter=10, n_jobs=-1,\n",
       "                   param_distributions={'max_depth': [5, 15, 30, 50, 80],\n",
       "                                        'min_samples_leaf': [5, 10, 20, 30, 50],\n",
       "                                        'n_estimators': [100, 150, 200, 400]},\n",
       "                   pre_dispatch='2*n_jobs', random_state=1234, refit=False,\n",
       "                   return_train_score=True, scoring='neg_log_loss', verbose=3)"
      ]
     },
     "execution_count": 38,
     "metadata": {
      "tags": []
     },
     "output_type": "execute_result"
    }
   ],
   "source": [
    "clf = XGBClassifier(random_state=1234)\n",
    "\n",
    "\n",
    "params = {\n",
    "# 'gamma': [0, 0.25, 0.5, 1.0],\n",
    "# 'reg_lambda': [0.1, 1.0, 5.0, 10.0],\n",
    "# 'eta' : [0.02, 0.2],\n",
    "# 'max_depth' : [5, 15, 30, 50, 75, 100, 125, 150],\n",
    "# 'min_samples_leaf' : [1, 3, 5, 10, 20, 50],\n",
    "# 'n_estimators' : [50, 150, 300, 500]\n",
    "\n",
    "# 'eta' : [0.02],\n",
    "'max_depth' : [5, 15, 30, 50, 80],\n",
    "'min_samples_leaf' : [5, 10, 20, 30, 50],\n",
    "'n_estimators' : [100, 150, 200, 400]\n",
    "}\n",
    "\n",
    "# d_train = xgb.DMatrix(X_train, label=y_train)\n",
    "# d_test = xgb.DMatrix(X_test, label=y_test)\n",
    "# watchlist = [(d_train, 'train'), (d_test, 'valid')]\n",
    "\n",
    "# bst = xgb.train(params, d_train, 400, watchlist, early_stopping_rounds=20, \n",
    "#                 verbose_eval=10)\n",
    "\n",
    "split_method = StratifiedKFold(n_splits=3, shuffle = True, random_state = 1234)\n",
    "randomSearch = RandomizedSearchCV(clf, params, n_iter=10, n_jobs=-1, verbose=3,\n",
    "#               cv=split_method.split(X_train,y_train),\n",
    "              cv=3, return_train_score=True,\n",
    "              scoring='neg_log_loss', refit=False, random_state=1234)\n",
    "\n",
    "randomSearch.fit(X_train,y_train)\n",
    "\n",
    "# xgdmat = xgb.DMatrix(X_train,y_train)\n",
    "# predict_y = bst.predict(d_test)\n",
    "# print(\"The test log loss is:\",log_loss(y_test, predict_y, eps=1e-15))"
   ]
  },
  {
   "cell_type": "code",
   "execution_count": 39,
   "metadata": {
    "colab": {
     "base_uri": "https://localhost:8080/",
     "height": 54
    },
    "colab_type": "code",
    "id": "BYxhiQ9_z0sD",
    "outputId": "b1851846-0799-41e9-a892-bfe364a5703e"
   },
   "outputs": [
    {
     "name": "stdout",
     "output_type": "stream",
     "text": [
      "{'n_estimators': 100, 'min_samples_leaf': 20, 'max_depth': 50}\n",
      "-0.010713534025180634\n"
     ]
    }
   ],
   "source": [
    "print(randomSearch.best_params_)\n",
    "print(randomSearch.cv_results_['mean_train_score'].mean())"
   ]
  },
  {
   "cell_type": "code",
   "execution_count": 0,
   "metadata": {
    "colab": {},
    "colab_type": "code",
    "id": "Dc_Aaqz2s5yD"
   },
   "outputs": [],
   "source": [
    "# We tweaked the XGBoost to include the sklearn-XGBClassifier flavour and also\n",
    "# because it is intuitive to make it work with RandomSearchCV. We initially \n",
    "# tried to get a hang of the hyperparamas by running on short data points and the\n",
    "# we tried to run on the full 100k datapoints using the hyper-params range we\n",
    "# set up. But even the Google Colab in GPU mode crashed, so we reduced the data\n",
    "# to 50k balanced points and finally after around 8+ hours we got the results.\n",
    "# The above code has the final set of hyperparams.\n",
    "# The detailed experiments : "
   ]
  },
  {
   "cell_type": "code",
   "execution_count": 0,
   "metadata": {
    "colab": {},
    "colab_type": "code",
    "id": "brzPgZMoNzA5"
   },
   "outputs": [],
   "source": [
    "# randomSearch.best_params_ # best params after randomized search \n",
    "# {'eta': 0.02, 'max_depth': 5, 'min_samples_leaf': 20, 'n_estimators': 200}\n",
    "# randomSearch.best_params_ #100 points\n",
    "\n",
    "# print(randomSearch.best_params_)  #500 points\n",
    "# print(randomSearch.best_score_)\n",
    "# {'n_estimators': 50, 'min_samples_leaf': 3, 'max_depth': 3, 'eta': 0.02}\n",
    "# -0.5017438927479089\n",
    "\n",
    "\n",
    "# print(randomSearch.best_params_)  #500 points, with pruned hyperparams\n",
    "# print(randomSearch.best_score_)\n",
    "# {'n_estimators': 100, 'min_samples_leaf': 70, 'max_depth': 10, 'eta': 0.02}\n",
    "# -0.5701361708370969\n",
    "\n",
    "# print(randomSearch.best_params_)#5000  points\n",
    "# print(randomSearch.best_score_)\n",
    "# {'n_estimators': 150, 'min_samples_leaf': 50, 'max_depth': 3, 'eta': 0.02}\n",
    "# -0.37187250680599826\n",
    "\n",
    "\n",
    "# print(randomSearch.best_params_)\n",
    "# print(randomSearch.cv_results_['mean_test_score'])\n",
    "# print(randomSearch.best_score_)\n",
    "# {'reg_lambda': 10.0, 'n_estimators': 100, 'min_samples_leaf': 20, 'max_depth': 20, 'gamma': 0.25, 'eta': 0.02}\n",
    "# [-0.54784296 -0.55312863 -0.54542933 -0.57557731 -0.53977786 -0.52132554\n",
    "#  -0.53746365 -0.56679342 -0.5277555  -0.5277555 ]\n",
    "# -0.5213255383633077\n",
    "\n",
    "\n",
    "# print(randomSearch.best_params_)\n",
    "# print(randomSearch.cv_results_['mean_test_score'])\n",
    "# print(randomSearch.best_score_)\n",
    "# {'reg_lambda': 10.0, 'n_estimators': 200, 'min_samples_leaf': 15, 'max_depth': 3, 'gamma': 0.5, 'eta': 0.02}\n",
    "# [-0.37403748 -0.37403748 -0.375991   -0.37579951 -0.38147701 -0.37183126\n",
    "#  -0.37517306 -0.38735439 -0.37514236 -0.38105273]\n",
    "# -0.3718312576468452\n",
    "\n",
    "# print(randomSearch.best_params_)\n",
    "# print(randomSearch.cv_results_['mean_test_score'])\n",
    "# print(randomSearch.best_score_)\n",
    "# {'n_estimators': 100, 'min_samples_leaf': 20, 'max_depth': 3, 'eta': 0.02}\n",
    "# [-0.61247562 -0.57013617 -0.58998491 -0.59483405 -0.5399712  -0.57013617\n",
    "#  -0.57013617 -0.59483405 -0.57213978 -0.59523224]\n",
    "# -0.5399712001821027\n"
   ]
  },
  {
   "cell_type": "code",
   "execution_count": 24,
   "metadata": {
    "colab": {
     "base_uri": "https://localhost:8080/",
     "height": 163
    },
    "colab_type": "code",
    "id": "kwoWircSZsvy",
    "outputId": "f3210d45-9048-45ce-ad9b-9133cb99d77a"
   },
   "outputs": [
    {
     "data": {
      "text/plain": [
       "XGBClassifier(base_score=0.5, booster='gbtree', colsample_bylevel=1,\n",
       "              colsample_bynode=1, colsample_bytree=1, gamma=0,\n",
       "              learning_rate=0.1, max_delta_step=0, max_depth=50,\n",
       "              min_child_weight=1, min_samples_leaf=20, missing=None,\n",
       "              n_estimators=100, n_jobs=1, nthread=None,\n",
       "              objective='binary:logistic', random_state=1234, reg_alpha=0,\n",
       "              reg_lambda=1, scale_pos_weight=1, seed=None, silent=None,\n",
       "              subsample=1, verbosity=1)"
      ]
     },
     "execution_count": 24,
     "metadata": {
      "tags": []
     },
     "output_type": "execute_result"
    }
   ],
   "source": [
    "clf = XGBClassifier(random_state=1234, max_depth=50, min_samples_leaf=20,\n",
    "                      n_estimators=100)\n",
    "clf.fit(X_train, y_train)"
   ]
  },
  {
   "cell_type": "code",
   "execution_count": 27,
   "metadata": {
    "colab": {
     "base_uri": "https://localhost:8080/",
     "height": 163
    },
    "colab_type": "code",
    "id": "g21FHLDpwojK",
    "outputId": "07fe677f-929d-45f0-f3a6-a77f041f638c"
   },
   "outputs": [
    {
     "data": {
      "text/plain": [
       "XGBClassifier(base_score=0.5, booster='gbtree', colsample_bylevel=1,\n",
       "              colsample_bynode=1, colsample_bytree=1, gamma=0,\n",
       "              learning_rate=0.1, max_delta_step=0, max_depth=5,\n",
       "              min_child_weight=1, min_samples_leaf=20, missing=None,\n",
       "              n_estimators=200, n_jobs=1, nthread=None,\n",
       "              objective='binary:logistic', random_state=1234, reg_alpha=0,\n",
       "              reg_lambda=1, scale_pos_weight=1, seed=None, silent=None,\n",
       "              subsample=1, verbosity=1)"
      ]
     },
     "execution_count": 27,
     "metadata": {
      "tags": []
     },
     "output_type": "execute_result"
    }
   ],
   "source": [
    "clf = XGBClassifier(random_state=1234, max_depth=5, min_samples_leaf=20,\n",
    "                      n_estimators=200)\n",
    "clf.fit(X_train, y_train)"
   ]
  },
  {
   "cell_type": "code",
   "execution_count": 25,
   "metadata": {
    "colab": {
     "base_uri": "https://localhost:8080/",
     "height": 35
    },
    "colab_type": "code",
    "id": "_dDdDMyguKol",
    "outputId": "e23b613b-7f00-4190-fddc-a77d2032c208"
   },
   "outputs": [
    {
     "name": "stdout",
     "output_type": "stream",
     "text": [
      "The train log loss is: 0.0009868450283535956\n"
     ]
    }
   ],
   "source": [
    "# This is result for the optimal params, not considering due to extreme overfitting\n",
    "predict_trainy = clf.predict(X_train)\n",
    "print(\"The train log loss is:\",log_loss(y_train, predict_trainy, eps=1e-15))"
   ]
  },
  {
   "cell_type": "code",
   "execution_count": 28,
   "metadata": {
    "colab": {
     "base_uri": "https://localhost:8080/",
     "height": 35
    },
    "colab_type": "code",
    "id": "F9fexpNYwvcV",
    "outputId": "a647a871-9ab9-4acc-8753-ba42a01e1c4e"
   },
   "outputs": [
    {
     "name": "stdout",
     "output_type": "stream",
     "text": [
      "The train log loss is: 4.567060443449054\n"
     ]
    }
   ],
   "source": [
    "predict_trainy = clf.predict(X_train)\n",
    "print(\"The train log loss is:\",log_loss(y_train, predict_trainy, eps=1e-15))"
   ]
  },
  {
   "cell_type": "code",
   "execution_count": 29,
   "metadata": {
    "colab": {
     "base_uri": "https://localhost:8080/",
     "height": 35
    },
    "colab_type": "code",
    "id": "6PTTIZQgCz3W",
    "outputId": "a5315143-b295-47e5-9fbb-3c459c627603"
   },
   "outputs": [
    {
     "name": "stdout",
     "output_type": "stream",
     "text": [
      "The test log loss is: 10.421612181144269\n"
     ]
    }
   ],
   "source": [
    "predict_testy = clf.predict(X_test)\n",
    "print(\"The test log loss is:\",log_loss(y_test, predict_testy, eps=1e-15))"
   ]
  },
  {
   "cell_type": "code",
   "execution_count": 40,
   "metadata": {
    "colab": {
     "base_uri": "https://localhost:8080/",
     "height": 165
    },
    "colab_type": "code",
    "id": "k-2__pX5vKkF",
    "outputId": "55dba4a5-d548-4dd7-a58b-e02b3cad42f6"
   },
   "outputs": [
    {
     "name": "stdout",
     "output_type": "stream",
     "text": [
      "+--------------+----------------------------------------------------+-------------------------------+\n",
      "|    Model     |                  Hyperparameters                   |            Log_Loss           |\n",
      "+--------------+----------------------------------------------------+-------------------------------+\n",
      "| Logistic Reg |                   alpha = 0.0001                   | Train Log=0.43  Test Log=0.42 |\n",
      "|  Simple SVM  |                   alpha = 0.0001                   | Train Log=0.45  Test Log=0.44 |\n",
      "|   XGBoost    | max_depth=5, min_samples_leaf=20, n_estimators=200 |  Train Log=4.5  Test Log=10.4 |\n",
      "+--------------+----------------------------------------------------+-------------------------------+\n"
     ]
    }
   ],
   "source": [
    "table.add_row(['XGBoost', 'max_depth=5, min_samples_leaf=20, n_estimators=200',\n",
    "          'Train Log=4.5  Test Log=10.4'])\n",
    "print(table)"
   ]
  },
  {
   "cell_type": "code",
   "execution_count": 43,
   "metadata": {
    "colab": {
     "base_uri": "https://localhost:8080/",
     "height": 334
    },
    "colab_type": "code",
    "id": "MDQ5t3MfvANa",
    "outputId": "13159d31-26fa-448c-914f-861432da70b1"
   },
   "outputs": [
    {
     "name": "stdout",
     "output_type": "stream",
     "text": [
      "Total number of data points : 15000\n"
     ]
    },
    {
     "data": {
      "image/png": "[encoded data removed]",
      "text/plain": [
       "<Figure size 1440x288 with 6 Axes>"
      ]
     },
     "metadata": {
      "tags": []
     },
     "output_type": "display_data"
    }
   ],
   "source": [
    "predict_testy =np.array(predict_testy>0.5,dtype=int)\n",
    "print(\"Total number of data points :\", len(predict_testy))\n",
    "plot_confusion_matrix(y_test, predict_testy)"
   ]
  },
  {
   "cell_type": "code",
   "execution_count": 0,
   "metadata": {
    "colab": {},
    "colab_type": "code",
    "id": "AaTzhmXVRU51"
   },
   "outputs": [],
   "source": [
    "## Conclusions\n",
    "\n",
    "# So, in the end we figure out that the Logistic Regression comes out as the best \n",
    "# classifier so far, based on the given data points.\n",
    "# The Simple SVM is also close by, but both do not seem to improve much given  the data \n",
    "# points we are using and the computing power we have.\n",
    "# Lastly, theoretical understanding tells us that the Randomforests should have performed \n",
    "# weel too, but it didn't come out well, given the hyperparameters and the data\n"
   ]
  }
 ],
 "metadata": {
  "accelerator": "GPU",
  "colab": {
   "collapsed_sections": [],
   "name": "Copy of 4.ML_models.ipynb",
   "provenance": []
  },
  "kernelspec": {
   "display_name": "Python 3",
   "language": "python",
   "name": "python3"
  },
  "language_info": {
   "codemirror_mode": {
    "name": "ipython",
    "version": 3
   },
   "file_extension": ".py",
   "mimetype": "text/x-python",
   "name": "python",
   "nbconvert_exporter": "python",
   "pygments_lexer": "ipython3",
   "version": "3.7.3"
  }
 },
 "nbformat": 4,
 "nbformat_minor": 1
}
