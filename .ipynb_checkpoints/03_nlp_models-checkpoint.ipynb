{
 "cells": [
  {
   "cell_type": "markdown",
   "id": "1971bf34-2219-4c81-a52e-d973020a123e",
   "metadata": {},
   "source": [
    "<h2> 3.6 Featurizing text data with tfidf weighted word-vectors </h2>"
   ]
  },
  {
   "cell_type": "code",
   "execution_count": 1,
   "id": "e64b6831-10b2-415b-a7ae-63efe2729207",
   "metadata": {},
   "outputs": [],
   "source": [
    "import pandas as pd\n",
    "import matplotlib.pyplot as plt\n",
    "import re\n",
    "import time\n",
    "import warnings\n",
    "import numpy as np\n",
    "from nltk.corpus import stopwords\n",
    "from sklearn.preprocessing import normalize\n",
    "from sklearn.feature_extraction.text import CountVectorizer\n",
    "from sklearn.feature_extraction.text import TfidfVectorizer\n",
    "warnings.filterwarnings(\"ignore\")\n",
    "import sys\n",
    "import os \n",
    "import pandas as pd\n",
    "import numpy as np\n",
    "from tqdm import tqdm\n",
    "import joblib\n",
    "\n",
    "# exctract word2vec vectors\n",
    "# https://github.com/explosion/spaCy/issues/1721\n",
    "# http://landinghub.visualstudio.com/visual-cpp-build-tools\n",
    "import spacy"
   ]
  },
  {
   "cell_type": "code",
   "execution_count": 2,
   "id": "85134839-32a5-496d-abb8-490bc400a9cb",
   "metadata": {},
   "outputs": [
    {
     "data": {
      "text/html": [
       "<div>\n",
       "<style scoped>\n",
       "    .dataframe tbody tr th:only-of-type {\n",
       "        vertical-align: middle;\n",
       "    }\n",
       "\n",
       "    .dataframe tbody tr th {\n",
       "        vertical-align: top;\n",
       "    }\n",
       "\n",
       "    .dataframe thead th {\n",
       "        text-align: right;\n",
       "    }\n",
       "</style>\n",
       "<table border=\"1\" class=\"dataframe\">\n",
       "  <thead>\n",
       "    <tr style=\"text-align: right;\">\n",
       "      <th></th>\n",
       "      <th>id</th>\n",
       "      <th>qid1</th>\n",
       "      <th>qid2</th>\n",
       "      <th>question1</th>\n",
       "      <th>question2</th>\n",
       "      <th>is_duplicate</th>\n",
       "    </tr>\n",
       "  </thead>\n",
       "  <tbody>\n",
       "    <tr>\n",
       "      <th>0</th>\n",
       "      <td>0</td>\n",
       "      <td>1</td>\n",
       "      <td>2</td>\n",
       "      <td>What is the step by step guide to invest in sh...</td>\n",
       "      <td>What is the step by step guide to invest in sh...</td>\n",
       "      <td>0</td>\n",
       "    </tr>\n",
       "  </tbody>\n",
       "</table>\n",
       "</div>"
      ],
      "text/plain": [
       "   id  qid1  qid2                                          question1  \\\n",
       "0   0     1     2  What is the step by step guide to invest in sh...   \n",
       "\n",
       "                                           question2  is_duplicate  \n",
       "0  What is the step by step guide to invest in sh...             0  "
      ]
     },
     "execution_count": 2,
     "metadata": {},
     "output_type": "execute_result"
    }
   ],
   "source": [
    "# avoid decoding problems\n",
    "df_data = pd.read_csv(\"data/00_train.csv\")\n",
    "\n",
    "df_data['question1'] = df_data['question1'].apply(lambda x: str(x))\n",
    "df_data['question2'] = df_data['question2'].apply(lambda x: str(x))\n",
    "df_data.head(1)"
   ]
  },
  {
   "cell_type": "markdown",
   "id": "ab63f949-753b-415c-b59e-288f60b48342",
   "metadata": {},
   "source": [
    "## Checkpoint 1: Applying TF-IDF"
   ]
  },
  {
   "cell_type": "code",
   "execution_count": 8,
   "id": "86d3770c-7152-4359-a009-3f3247f61195",
   "metadata": {},
   "outputs": [],
   "source": [
    "question1 = df_data['question1'][:2000]\n",
    "\n",
    "tfidf_vect = TfidfVectorizer(ngram_range=(1,2), min_df=10, lowercase=False)\n",
    "tfidf_1 = tfidf_vect.fit_transform(question1)"
   ]
  },
  {
   "cell_type": "code",
   "execution_count": 9,
   "id": "b9d516a3-9fd6-4f23-856b-cb282e0cade0",
   "metadata": {},
   "outputs": [
    {
     "data": {
      "text/plain": [
       "['models/01_nlp/01_1_tfidf_model.joblib']"
      ]
     },
     "execution_count": 9,
     "metadata": {},
     "output_type": "execute_result"
    }
   ],
   "source": [
    "joblib.dump(tfidf_1, \"models/01_nlp/01_1_tfidf_model.joblib\")"
   ]
  },
  {
   "cell_type": "code",
   "execution_count": 10,
   "id": "a910b8b6-f43a-4f8e-8e87-7f8452d385d1",
   "metadata": {},
   "outputs": [
    {
     "data": {
      "text/plain": [
       "scipy.sparse.csr.csr_matrix"
      ]
     },
     "execution_count": 10,
     "metadata": {},
     "output_type": "execute_result"
    }
   ],
   "source": [
    "question2 = df_data['question2'][:2000]\n",
    "\n",
    "tfidf_vect = TfidfVectorizer(ngram_range=(1,2), min_df=10, lowercase=False)\n",
    "tfidf_2 = tfidf_vect.fit_transform(question2)\n",
    "type(tfidf_2)"
   ]
  },
  {
   "cell_type": "code",
   "execution_count": 11,
   "id": "78687698-4b30-48bb-9ba9-6caa8d6d81f9",
   "metadata": {},
   "outputs": [
    {
     "data": {
      "text/plain": [
       "['models/01_nlp/02_2_tfidf_model.joblib']"
      ]
     },
     "execution_count": 11,
     "metadata": {},
     "output_type": "execute_result"
    }
   ],
   "source": [
    "joblib.dump(tfidf_2, \"models/01_nlp/02_2_tfidf_model.joblib\")"
   ]
  },
  {
   "cell_type": "markdown",
   "id": "cdb06221-942c-448b-bb88-3c90facf21bf",
   "metadata": {},
   "source": [
    "## Checkpoint 2: Applying TFIDF WEIGHT W2V"
   ]
  },
  {
   "cell_type": "code",
   "execution_count": 3,
   "id": "ece43fe4-1c08-4140-99ef-2063f6637810",
   "metadata": {},
   "outputs": [],
   "source": [
    "from sklearn.feature_extraction.text import TfidfVectorizer\n",
    "from sklearn.feature_extraction.text import CountVectorizer\n",
    "\n",
    "questions = list(df_data['question1'] + df_data['question2'])\n",
    "\n",
    "tfidf = TfidfVectorizer(lowercase=False, )\n",
    "tfidf.fit_transform(questions)\n",
    "\n",
    "# dict key:word and value:tf-idf score\n",
    "word2tfidf = dict(zip(tfidf.get_feature_names(), tfidf.idf_))"
   ]
  },
  {
   "cell_type": "code",
   "execution_count": 4,
   "id": "daf8dabb-6e35-4145-8c38-d7d8b9563c2c",
   "metadata": {},
   "outputs": [
    {
     "name": "stdout",
     "output_type": "stream",
     "text": [
      "00   9.410080524353322\n",
      "000   6.863242916834832\n",
      "0000   13.216743014123642\n",
      "000000   13.216743014123642\n"
     ]
    }
   ],
   "source": [
    "counter = 0\n",
    "for k, v in word2tfidf.items():\n",
    "    if counter == 4:\n",
    "        break\n",
    "    else:\n",
    "        counter += 1\n",
    "        print(k, ' ', v)"
   ]
  },
  {
   "cell_type": "code",
   "execution_count": 5,
   "id": "cf7c84db-6f86-4d93-aa4b-92fb8c9694bb",
   "metadata": {},
   "outputs": [],
   "source": [
    "# en_vectors_web_lg, which includes over 1 million unique vectors.\n",
    "nlp = spacy.load('en_core_web_sm')\n",
    "\n",
    "def tifidf_to_wieghtedW2V(text_df, tfidf_vectors):\n",
    "    vecs = []\n",
    "    # https://github.com/noamraph/tqdm\n",
    "    # tqdm is used to print the progress bar\n",
    "    for ques in tqdm(list(text_df)):\n",
    "        doc = nlp(ques) \n",
    "        # 384 is the number of dimensions of vectors \n",
    "        mean_vec = np.zeros([len(doc), len(doc[0].vector)])\n",
    "        for word in doc:\n",
    "            # word2vec\n",
    "            vec = word.vector\n",
    "            # fetch df score\n",
    "            try:\n",
    "                idf = tfidf_vectors[str(word)]\n",
    "            except:\n",
    "                idf = 0\n",
    "            # compute final vec\n",
    "            mean_vec += vec * idf\n",
    "        mean_vec = mean_vec.mean(axis=0)\n",
    "        vecs.append(mean_vec)\n",
    "    return vecs"
   ]
  },
  {
   "cell_type": "code",
   "execution_count": 6,
   "id": "308ef930-d81f-4723-ab00-da0903b1201e",
   "metadata": {},
   "outputs": [
    {
     "name": "stderr",
     "output_type": "stream",
     "text": [
      "100%|█████████████████████████████████████████████████████████████████████████████| 2000/2000 [00:19<00:00, 101.65it/s]\n"
     ]
    }
   ],
   "source": [
    "q1 = list(tifidf_to_wieghtedW2V(df_data['question1'][:2000], word2tfidf))"
   ]
  },
  {
   "cell_type": "code",
   "execution_count": 7,
   "id": "ace9c1ca-d64f-4289-b42e-0d4112e768ce",
   "metadata": {},
   "outputs": [
    {
     "data": {
      "text/plain": [
       "['models/01_nlp/03_1_tfidf_weighted_w2v.joblib']"
      ]
     },
     "execution_count": 7,
     "metadata": {},
     "output_type": "execute_result"
    }
   ],
   "source": [
    "joblib.dump(q1, 'models/01_nlp/03_1_tfidf_weighted_w2v.joblib')"
   ]
  },
  {
   "cell_type": "markdown",
   "id": "2cb280c5-1b6c-4f14-a24d-0f9c60f5f8b7",
   "metadata": {},
   "source": [
    "Its done previsously"
   ]
  },
  {
   "cell_type": "code",
   "execution_count": 8,
   "id": "cc29e036-a561-4bca-9832-4b18a921e07e",
   "metadata": {},
   "outputs": [
    {
     "name": "stderr",
     "output_type": "stream",
     "text": [
      "100%|██████████████████████████████████████████████████████████████████████████████| 2000/2000 [00:23<00:00, 85.82it/s]\n"
     ]
    }
   ],
   "source": [
    "q2 = list(tifidf_to_wieghtedW2V(df_data['question2'][:2000], word2tfidf))"
   ]
  },
  {
   "cell_type": "code",
   "execution_count": 9,
   "id": "cf3d9aaa-870a-427b-8c56-ee5c8a4010d8",
   "metadata": {},
   "outputs": [
    {
     "data": {
      "text/plain": [
       "['models/01_nlp/04_2_tfidf_weighted_w2v.joblib']"
      ]
     },
     "execution_count": 9,
     "metadata": {},
     "output_type": "execute_result"
    }
   ],
   "source": [
    "joblib.dump(q2, 'models/01_nlp/04_2_tfidf_weighted_w2v.joblib')"
   ]
  },
  {
   "cell_type": "code",
   "execution_count": null,
   "id": "59cbdc76-f0ee-48f1-9bd1-e5d2fc9c28eb",
   "metadata": {},
   "outputs": [],
   "source": []
  }
 ],
 "metadata": {
  "kernelspec": {
   "display_name": "Python 3",
   "language": "python",
   "name": "python3"
  },
  "language_info": {
   "codemirror_mode": {
    "name": "ipython",
    "version": 3
   },
   "file_extension": ".py",
   "mimetype": "text/x-python",
   "name": "python",
   "nbconvert_exporter": "python",
   "pygments_lexer": "ipython3",
   "version": "3.8.8"
  }
 },
 "nbformat": 4,
 "nbformat_minor": 5
}
